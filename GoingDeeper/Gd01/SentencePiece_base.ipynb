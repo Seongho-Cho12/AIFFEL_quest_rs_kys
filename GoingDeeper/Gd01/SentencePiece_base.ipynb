{
 "cells": [
  {
   "cell_type": "code",
   "execution_count": 19,
   "id": "ada77aec",
   "metadata": {},
   "outputs": [
    {
     "name": "stdout",
     "output_type": "stream",
     "text": [
      "2.6.0\n",
      "1.21.4\n",
      "0.5.2\n"
     ]
    }
   ],
   "source": [
    "import tensorflow as tf\n",
    "import numpy as np\n",
    "import matplotlib.pyplot as plt\n",
    "import konlpy\n",
    "import sentencepiece as spm\n",
    "import os\n",
    "import pandas as pd\n",
    "\n",
    "%matplotlib inline\n",
    "\n",
    "print(tf.__version__)\n",
    "print(np.__version__)\n",
    "print(konlpy.__version__)"
   ]
  },
  {
   "cell_type": "markdown",
   "id": "8cccb966",
   "metadata": {},
   "source": [
    "## 데이터 준비"
   ]
  },
  {
   "cell_type": "code",
   "execution_count": 20,
   "id": "53ee7c7a",
   "metadata": {
    "scrolled": true
   },
   "outputs": [
    {
     "data": {
      "text/html": [
       "<div>\n",
       "<style scoped>\n",
       "    .dataframe tbody tr th:only-of-type {\n",
       "        vertical-align: middle;\n",
       "    }\n",
       "\n",
       "    .dataframe tbody tr th {\n",
       "        vertical-align: top;\n",
       "    }\n",
       "\n",
       "    .dataframe thead th {\n",
       "        text-align: right;\n",
       "    }\n",
       "</style>\n",
       "<table border=\"1\" class=\"dataframe\">\n",
       "  <thead>\n",
       "    <tr style=\"text-align: right;\">\n",
       "      <th></th>\n",
       "      <th>id</th>\n",
       "      <th>document</th>\n",
       "      <th>label</th>\n",
       "    </tr>\n",
       "  </thead>\n",
       "  <tbody>\n",
       "    <tr>\n",
       "      <th>0</th>\n",
       "      <td>9976970</td>\n",
       "      <td>아 더빙.. 진짜 짜증나네요 목소리</td>\n",
       "      <td>0</td>\n",
       "    </tr>\n",
       "    <tr>\n",
       "      <th>1</th>\n",
       "      <td>3819312</td>\n",
       "      <td>흠...포스터보고 초딩영화줄....오버연기조차 가볍지 않구나</td>\n",
       "      <td>1</td>\n",
       "    </tr>\n",
       "    <tr>\n",
       "      <th>2</th>\n",
       "      <td>10265843</td>\n",
       "      <td>너무재밓었다그래서보는것을추천한다</td>\n",
       "      <td>0</td>\n",
       "    </tr>\n",
       "    <tr>\n",
       "      <th>3</th>\n",
       "      <td>9045019</td>\n",
       "      <td>교도소 이야기구먼 ..솔직히 재미는 없다..평점 조정</td>\n",
       "      <td>0</td>\n",
       "    </tr>\n",
       "    <tr>\n",
       "      <th>4</th>\n",
       "      <td>6483659</td>\n",
       "      <td>사이몬페그의 익살스런 연기가 돋보였던 영화!스파이더맨에서 늙어보이기만 했던 커스틴 ...</td>\n",
       "      <td>1</td>\n",
       "    </tr>\n",
       "  </tbody>\n",
       "</table>\n",
       "</div>"
      ],
      "text/plain": [
       "         id                                           document  label\n",
       "0   9976970                                아 더빙.. 진짜 짜증나네요 목소리      0\n",
       "1   3819312                  흠...포스터보고 초딩영화줄....오버연기조차 가볍지 않구나      1\n",
       "2  10265843                                  너무재밓었다그래서보는것을추천한다      0\n",
       "3   9045019                      교도소 이야기구먼 ..솔직히 재미는 없다..평점 조정      0\n",
       "4   6483659  사이몬페그의 익살스런 연기가 돋보였던 영화!스파이더맨에서 늙어보이기만 했던 커스틴 ...      1"
      ]
     },
     "execution_count": 20,
     "metadata": {},
     "output_type": "execute_result"
    }
   ],
   "source": [
    "# file open\n",
    "train_data = pd.read_table('ratings_train.txt')\n",
    "test_data = pd.read_table('ratings_test.txt')\n",
    "\n",
    "train_data.head()\n"
   ]
  },
  {
   "cell_type": "code",
   "execution_count": 21,
   "id": "2e14c01a",
   "metadata": {
    "scrolled": true
   },
   "outputs": [
    {
     "data": {
      "text/html": [
       "<div>\n",
       "<style scoped>\n",
       "    .dataframe tbody tr th:only-of-type {\n",
       "        vertical-align: middle;\n",
       "    }\n",
       "\n",
       "    .dataframe tbody tr th {\n",
       "        vertical-align: top;\n",
       "    }\n",
       "\n",
       "    .dataframe thead th {\n",
       "        text-align: right;\n",
       "    }\n",
       "</style>\n",
       "<table border=\"1\" class=\"dataframe\">\n",
       "  <thead>\n",
       "    <tr style=\"text-align: right;\">\n",
       "      <th></th>\n",
       "      <th>id</th>\n",
       "      <th>document</th>\n",
       "      <th>label</th>\n",
       "    </tr>\n",
       "  </thead>\n",
       "  <tbody>\n",
       "    <tr>\n",
       "      <th>0</th>\n",
       "      <td>6270596</td>\n",
       "      <td>굳 ㅋ</td>\n",
       "      <td>1</td>\n",
       "    </tr>\n",
       "    <tr>\n",
       "      <th>1</th>\n",
       "      <td>9274899</td>\n",
       "      <td>GDNTOPCLASSINTHECLUB</td>\n",
       "      <td>0</td>\n",
       "    </tr>\n",
       "    <tr>\n",
       "      <th>2</th>\n",
       "      <td>8544678</td>\n",
       "      <td>뭐야 이 평점들은.... 나쁘진 않지만 10점 짜리는 더더욱 아니잖아</td>\n",
       "      <td>0</td>\n",
       "    </tr>\n",
       "    <tr>\n",
       "      <th>3</th>\n",
       "      <td>6825595</td>\n",
       "      <td>지루하지는 않은데 완전 막장임... 돈주고 보기에는....</td>\n",
       "      <td>0</td>\n",
       "    </tr>\n",
       "    <tr>\n",
       "      <th>4</th>\n",
       "      <td>6723715</td>\n",
       "      <td>3D만 아니었어도 별 다섯 개 줬을텐데.. 왜 3D로 나와서 제 심기를 불편하게 하죠??</td>\n",
       "      <td>0</td>\n",
       "    </tr>\n",
       "  </tbody>\n",
       "</table>\n",
       "</div>"
      ],
      "text/plain": [
       "        id                                           document  label\n",
       "0  6270596                                                굳 ㅋ      1\n",
       "1  9274899                               GDNTOPCLASSINTHECLUB      0\n",
       "2  8544678             뭐야 이 평점들은.... 나쁘진 않지만 10점 짜리는 더더욱 아니잖아      0\n",
       "3  6825595                   지루하지는 않은데 완전 막장임... 돈주고 보기에는....      0\n",
       "4  6723715  3D만 아니었어도 별 다섯 개 줬을텐데.. 왜 3D로 나와서 제 심기를 불편하게 하죠??      0"
      ]
     },
     "execution_count": 21,
     "metadata": {},
     "output_type": "execute_result"
    }
   ],
   "source": [
    "test_data.head()"
   ]
  },
  {
   "cell_type": "code",
   "execution_count": 23,
   "id": "82d19972",
   "metadata": {},
   "outputs": [
    {
     "name": "stdout",
     "output_type": "stream",
     "text": [
      "Train Data Size: (150000, 3)\n",
      "Test Data Size: (50000, 3)\n"
     ]
    }
   ],
   "source": [
    "print(\"Train Data Size:\", train_data.shape)\n",
    "print(\"Test Data Size:\", test_data.shape)"
   ]
  },
  {
   "cell_type": "code",
   "execution_count": 24,
   "id": "124716e5",
   "metadata": {},
   "outputs": [
    {
     "name": "stdout",
     "output_type": "stream",
     "text": [
      "Train Data Size: (146182, 3)\n",
      "Test Data Size: (49157, 3)\n"
     ]
    }
   ],
   "source": [
    "# document part에서, 중보 제거 및 null 제거\n",
    "train_data.drop_duplicates(subset=['document'], inplace=True)\n",
    "train_data = train_data.dropna(how = 'any') \n",
    "test_data.drop_duplicates(subset=['document'], inplace=True)\n",
    "test_data = test_data.dropna(how = 'any') \n",
    "print(\"Train Data Size:\", train_data.shape)\n",
    "print(\"Test Data Size:\", test_data.shape)"
   ]
  },
  {
   "cell_type": "code",
   "execution_count": 27,
   "id": "c7db2522",
   "metadata": {
    "scrolled": true
   },
   "outputs": [
    {
     "data": {
      "text/html": [
       "<div>\n",
       "<style scoped>\n",
       "    .dataframe tbody tr th:only-of-type {\n",
       "        vertical-align: middle;\n",
       "    }\n",
       "\n",
       "    .dataframe tbody tr th {\n",
       "        vertical-align: top;\n",
       "    }\n",
       "\n",
       "    .dataframe thead th {\n",
       "        text-align: right;\n",
       "    }\n",
       "</style>\n",
       "<table border=\"1\" class=\"dataframe\">\n",
       "  <thead>\n",
       "    <tr style=\"text-align: right;\">\n",
       "      <th></th>\n",
       "      <th>id</th>\n",
       "      <th>document</th>\n",
       "      <th>label</th>\n",
       "    </tr>\n",
       "  </thead>\n",
       "  <tbody>\n",
       "    <tr>\n",
       "      <th>0</th>\n",
       "      <td>9976970</td>\n",
       "      <td>아 더빙 진짜 짜증나네요 목소리</td>\n",
       "      <td>0</td>\n",
       "    </tr>\n",
       "    <tr>\n",
       "      <th>1</th>\n",
       "      <td>3819312</td>\n",
       "      <td>흠 포스터보고 초딩영화줄 오버연기조차 가볍지 않구나</td>\n",
       "      <td>1</td>\n",
       "    </tr>\n",
       "    <tr>\n",
       "      <th>2</th>\n",
       "      <td>10265843</td>\n",
       "      <td>너무재밓었다그래서보는것을추천한다</td>\n",
       "      <td>0</td>\n",
       "    </tr>\n",
       "    <tr>\n",
       "      <th>3</th>\n",
       "      <td>9045019</td>\n",
       "      <td>교도소 이야기구먼 솔직히 재미는 없다 평점 조정</td>\n",
       "      <td>0</td>\n",
       "    </tr>\n",
       "    <tr>\n",
       "      <th>4</th>\n",
       "      <td>6483659</td>\n",
       "      <td>사이몬페그의 익살스런 연기가 돋보였던 영화 스파이더맨에서 늙어보이기만 했던 커스틴 ...</td>\n",
       "      <td>1</td>\n",
       "    </tr>\n",
       "  </tbody>\n",
       "</table>\n",
       "</div>"
      ],
      "text/plain": [
       "         id                                           document  label\n",
       "0   9976970                                  아 더빙 진짜 짜증나네요 목소리      0\n",
       "1   3819312                       흠 포스터보고 초딩영화줄 오버연기조차 가볍지 않구나      1\n",
       "2  10265843                                  너무재밓었다그래서보는것을추천한다      0\n",
       "3   9045019                         교도소 이야기구먼 솔직히 재미는 없다 평점 조정      0\n",
       "4   6483659  사이몬페그의 익살스런 연기가 돋보였던 영화 스파이더맨에서 늙어보이기만 했던 커스틴 ...      1"
      ]
     },
     "execution_count": 27,
     "metadata": {},
     "output_type": "execute_result"
    }
   ],
   "source": [
    "import re\n",
    "\n",
    "def preprocess_sentence(sentence):\n",
    "    sentence = sentence.lower().strip()\n",
    "\n",
    "    sentence = re.sub(r\"([?.!,])\", r\" \\1 \", sentence)\n",
    "    sentence = re.sub(r'[\" \"]+', \" \", sentence)\n",
    "    sentence = re.sub(r\"[^a-zA-Z가-힣]+\", \" \", sentence)\n",
    "    sentence = sentence.strip()\n",
    "\n",
    "    return sentence\n",
    "\n",
    "train_data[\"document\"] = [preprocess_sentence(s) for s in train_data[\"document\"]]\n",
    "test_data[\"document\"] = [preprocess_sentence(s) for s in test_data[\"document\"]]\n",
    "train_data.head()"
   ]
  },
  {
   "cell_type": "code",
   "execution_count": 33,
   "id": "72dcc944",
   "metadata": {},
   "outputs": [
    {
     "name": "stdout",
     "output_type": "stream",
     "text": [
      "훈련 데이타 문장 길이 : 최대 140\n",
      "훈련 데이타 문장 길이 : 평균: 32.93\n"
     ]
    }
   ],
   "source": [
    "X_train = train_data['document']\n",
    "\n",
    "# 각 문장의 문자 수 계산\n",
    "lengths_train = X_train.apply(len)\n",
    "\n",
    "# 최대 길이\n",
    "max_length = lengths_train.max()\n",
    "\n",
    "# 평균 길이\n",
    "avg_length = lengths_train.mean()\n",
    "\n",
    "print(f\"훈련 데이타 문장 길이 : 최대 {max_length}\")\n",
    "print(f\"훈련 데이타 문장 길이 : 평균: {avg_length:.2f}\")"
   ]
  },
  {
   "cell_type": "code",
   "execution_count": 34,
   "id": "b3a8c025",
   "metadata": {},
   "outputs": [
    {
     "name": "stdout",
     "output_type": "stream",
     "text": [
      "테스트 데이타 문장 길이 : 최대 140\n",
      "테스트 데이타 문장 길이 : 평균: 32.82\n"
     ]
    }
   ],
   "source": [
    "x_test = test_data['document']\n",
    "\n",
    "# 각 문장의 문자 수 계산\n",
    "lengths_test = x_test.apply(len)\n",
    "\n",
    "# 최대 길이\n",
    "max_length = lengths_test.max()\n",
    "\n",
    "# 평균 길이\n",
    "avg_length = lengths_test.mean()\n",
    "\n",
    "print(f\"테스트 데이타 문장 길이 : 최대 {max_length}\")\n",
    "print(f\"테스트 데이타 문장 길이 : 평균: {avg_length:.2f}\")"
   ]
  },
  {
   "cell_type": "code",
   "execution_count": 36,
   "id": "c126f1d5",
   "metadata": {},
   "outputs": [
    {
     "data": {
      "image/png": "[encoded data removed]",
      "text/plain": [
       "<Figure size 1008x360 with 2 Axes>"
      ]
     },
     "metadata": {
      "needs_background": "light"
     },
     "output_type": "display_data"
    }
   ],
   "source": [
    "# 시각화\n",
    "plt.figure(figsize=(14, 5))\n",
    "\n",
    "# 1. 히스토그램: 대화 길이\n",
    "plt.subplot(1, 2, 1)\n",
    "plt.hist(lengths_train, bins=50, edgecolor='black')\n",
    "plt.title(\"훈련 대화 길이 분포\")\n",
    "plt.xlabel(\"문자 수\")\n",
    "plt.ylabel(\"빈도\")\n",
    "\n",
    "# 2. Countplot: class 분포\n",
    "plt.subplot(1, 2, 2)\n",
    "plt.hist(lengths_test, bins=50, edgecolor='black')\n",
    "plt.title(\"테스트 대화 길이 분포\")\n",
    "plt.xlabel(\"문자 수\")\n",
    "plt.ylabel(\"빈도\")\n",
    "\n",
    "plt.tight_layout()\n",
    "plt.show()"
   ]
  },
  {
   "cell_type": "code",
   "execution_count": 40,
   "id": "f4f07968",
   "metadata": {},
   "outputs": [
    {
     "data": {
      "text/plain": [
       "195339"
      ]
     },
     "execution_count": 40,
     "metadata": {},
     "output_type": "execute_result"
    }
   ],
   "source": [
    "all_texts = pd.concat([train_data['document'], test_data['document']], ignore_index=True)\n",
    "len(all_texts)"
   ]
  },
  {
   "cell_type": "code",
   "execution_count": 48,
   "id": "299e63b7",
   "metadata": {},
   "outputs": [],
   "source": [
    "# clean data 파일로 저장\n",
    "train_data.to_csv('ratings_train_clean.txt', index=False)  \n",
    "test_data.to_csv('ratings_test_clean.txt', index=False)  \n",
    "all_texts.to_csv('ratings_clean.txt', index=False)\n",
    "input_file = 'ratings_clean.txt'"
   ]
  },
  {
   "cell_type": "markdown",
   "id": "203fa52b",
   "metadata": {},
   "source": [
    "## 토큰화"
   ]
  },
  {
   "cell_type": "markdown",
   "id": "4a72b312",
   "metadata": {},
   "source": [
    "**Vocab Size**\n",
    "1. 말뭉치 크기\n",
    "- 작은 말뭉치 (~수십만 문장) : 어휘 크기를 너무 크게 하면 과적합(overfitting)되기 쉽고, 희소한 토큰이 많아지므로, 2.000 ~ 8,000 권장 \n",
    "- 중간규모 말뭉치 (수백만 문장 ) : 16,000 ~ 32,000\n",
    "- 대규모 말뭉치 (수천만~수억)  : 32,000 ~ 64,000+\n",
    "\n",
    "2. 한국어 \n",
    "- 큰 어휘 집합이 더 효율적 \n",
    "\n",
    "3. 텍스트 분류/감성 분석: 표현력보다는 특징의 일관성이 중요하므로 어휘 크기 작아도 무방"
   ]
  },
  {
   "cell_type": "code",
   "execution_count": 96,
   "id": "7daab0c1",
   "metadata": {
    "scrolled": true
   },
   "outputs": [],
   "source": [
    "# SentencePiece 학습\n",
    "\n",
    "VOCAB_SIZE = 6000\n",
    "seq_max_len =  60\n",
    "\n",
    "# 모델 이름 prefix\n",
    "model_prefix = 'nsmc_spm'\n",
    "model_type = 'bpe'\n",
    "# --model_type = unigram이 디폴트, bpe 옵션  (일반적을 bep가 감성 분석에 잘 맞음)\n",
    "\n",
    "# 어휘 수, 문자 커버리지, 토크나이저 타입 등 설정\n",
    "spm.SentencePieceTrainer.train(\n",
    "    input=input_file,\n",
    "    model_prefix=model_prefix,\n",
    "    vocab_size=VOCAB_SIZE,\n",
    "    model_type=model_type,             # bpe, unigram, char, word 중 선택 가능\n",
    "    character_coverage=1.0,            # 한글: 1.0, 일본어: 0.9995, 영어: 1.0\n",
    "    pad_id=0,                          # [PAD]\n",
    "    unk_id=1,                          # [UNK]\n",
    "    bos_id=2,                          # [BOS]\n",
    "    eos_id=3,                          # [EOS]\n",
    "    user_defined_symbols=[],           # 필요한 경우 특수토큰 직접 추가\n",
    "    train_extremely_large_corpus=False  # (말뭉치가 10GB 이상일 때만 True)\n",
    ")\n"
   ]
  },
  {
   "cell_type": "code",
   "execution_count": 97,
   "id": "27162c91",
   "metadata": {},
   "outputs": [
    {
     "name": "stdout",
     "output_type": "stream",
     "text": [
      "['▁이', '▁영화', '▁진짜', '▁재미', '▁있어요', '!']\n"
     ]
    }
   ],
   "source": [
    "sp = spm.SentencePieceProcessor()\n",
    "sp.load(\"nsmc_spm.model\")\n",
    "\n",
    "text = \"이 영화 진짜 재미 있어요!\"\n",
    "tokens = sp.encode(text, out_type=str)\n",
    "print(tokens) \n"
   ]
  },
  {
   "cell_type": "code",
   "execution_count": 98,
   "id": "ad02de69",
   "metadata": {},
   "outputs": [],
   "source": [
    "def sp_tokenize(s, corpus): \n",
    "\n",
    "    tensor = []\n",
    "\n",
    "    for sen in corpus:\n",
    "        tensor.append(s.EncodeAsIds(sen))\n",
    "\n",
    "    with open(\"./nsmc_spm.vocab\", 'r') as f:\n",
    "        vocab = f.readlines()\n",
    "\n",
    "    word_index = {}\n",
    "    index_word = {}\n",
    "\n",
    "    for idx, line in enumerate(vocab):\n",
    "        word = line.split(\"\\t\")[0]\n",
    "\n",
    "        word_index.update({word:idx})\n",
    "        index_word.update({idx:word})\n",
    "\n",
    "    tensor = tf.keras.preprocessing.sequence.pad_sequences(tensor, padding='post')\n",
    "\n",
    "    return tensor, word_index, index_word"
   ]
  },
  {
   "cell_type": "code",
   "execution_count": 107,
   "id": "5e2a0c39",
   "metadata": {},
   "outputs": [
    {
     "name": "stdout",
     "output_type": "stream",
     "text": [
      "Vocab Size: 6000\n",
      "x_train shape: (146182, 60)\n",
      "x_test shape: (49157, 60)\n",
      "y_train shape: (146182,)\n",
      "y_test shape: (49157,)\n"
     ]
    }
   ],
   "source": [
    "from tensorflow.keras.preprocessing.sequence import pad_sequences\n",
    "\n",
    "# 어휘 사전 (index <-> word)\n",
    "sp_tensor, word_to_index, index_to_word = sp_tokenize( sp, all_texts)\n",
    "print(\"Vocab Size:\", len(index_to_word))\n",
    "\n",
    "# 문장을 ID 리스트로 변환\n",
    "x_train = []\n",
    "for sentence in train_data['document']:\n",
    "    temp_X = sp.EncodeAsIds(sentence) # 토큰화\n",
    "    x_train.append(temp_X)\n",
    "\n",
    "x_test = []\n",
    "for sentence in test_data['document']:\n",
    "    temp_X = sp.EncodeAsIds(sentence) # 토큰화\n",
    "    x_test.append(temp_X)\n",
    "\n",
    "# 패딩 (길이가 다르므로 텐서화 전 패딩 필요)\n",
    "x_train_padded = pad_sequences(x_train, maxlen=seq_max_len, padding='post')\n",
    "x_test_padded = pad_sequences(x_test, maxlen=seq_max_len, padding='post')\n",
    "\n",
    "# 텐서로 변환 완료\n",
    "print(\"x_train shape:\", x_train_padded.shape)\n",
    "print(\"x_test shape:\", x_test_padded.shape)\n"
   ]
  },
  {
   "cell_type": "code",
   "execution_count": 115,
   "id": "16686b98",
   "metadata": {},
   "outputs": [
    {
     "name": "stdout",
     "output_type": "stream",
     "text": [
      "X_train shape: (146182, 60)\n",
      "X_val shape: (146182,)\n",
      "y_train shape: (49157, 60)\n",
      "y_val shape: (49157,)\n"
     ]
    }
   ],
   "source": [
    "from sklearn.model_selection import train_test_split\n",
    "\n",
    "\n",
    "#x_label = train_data['label'].astype('float32').values\n",
    "#X_train, X_val, y_train, y_val = train_test_split(x_train_padded, x_label, test_size=0.2, random_state=42)\n",
    "\n",
    "X_train = x_train_padded\n",
    "y_train = x_test_padded\n",
    "\n",
    "X_val = train_data['label'].astype('float32').values\n",
    "y_val = test_data['label'].astype('float32').values\n",
    "\n",
    "print(\"X_train shape:\", X_train.shape)\n",
    "print(\"X_val shape:\", X_val.shape)\n",
    "\n",
    "print(\"y_train shape:\", y_train.shape)\n",
    "print(\"y_val shape:\", y_val.shape)"
   ]
  },
  {
   "cell_type": "markdown",
   "id": "a5ccc242",
   "metadata": {},
   "source": [
    "## 모델 구성 "
   ]
  },
  {
   "cell_type": "code",
   "execution_count": 123,
   "id": "abfa6e66",
   "metadata": {},
   "outputs": [
    {
     "name": "stdout",
     "output_type": "stream",
     "text": [
      "Model: \"sequential_6\"\n",
      "_________________________________________________________________\n",
      "Layer (type)                 Output Shape              Param #   \n",
      "=================================================================\n",
      "embedding_5 (Embedding)      (None, 60, 128)           768000    \n",
      "_________________________________________________________________\n",
      "bidirectional_2 (Bidirection (None, 256)               263168    \n",
      "_________________________________________________________________\n",
      "dense_10 (Dense)             (None, 8)                 2056      \n",
      "_________________________________________________________________\n",
      "dense_11 (Dense)             (None, 1)                 9         \n",
      "=================================================================\n",
      "Total params: 1,033,233\n",
      "Trainable params: 1,033,233\n",
      "Non-trainable params: 0\n",
      "_________________________________________________________________\n"
     ]
    }
   ],
   "source": [
    "word_vector_dim = 128  # 워드 벡터의 차원 수 (변경 가능한 하이퍼파라미터)\n",
    "\n",
    "# model 설계 - 딥러닝 모델 코드를 직접 작성해 주세요.\n",
    "model_lstm = tf.keras.Sequential()\n",
    "model_lstm.add(tf.keras.layers.Embedding(VOCAB_SIZE, word_vector_dim, input_length=seq_max_len))\n",
    "model_lstm.add(tf.keras.layers.Bidirectional( tf.keras.layers.LSTM(word_vector_dim) ))   \n",
    "model_lstm.add(tf.keras.layers.Dense(8, activation='relu'))\n",
    "model_lstm.add(tf.keras.layers.Dense(1, activation='sigmoid'))  # 최종 출력은 긍정/부정을 나타내는 1dim 입니다.\n",
    "\n",
    "model_lstm.summary()"
   ]
  },
  {
   "cell_type": "code",
   "execution_count": 126,
   "id": "7eeea5fa",
   "metadata": {},
   "outputs": [
    {
     "name": "stdout",
     "output_type": "stream",
     "text": [
      "Epoch 1/20\n",
      "572/572 [==============================] - 12s 18ms/step - loss: 0.4141 - accuracy: 0.8053 - val_loss: 0.3814 - val_accuracy: 0.8306\n",
      "Epoch 2/20\n",
      "572/572 [==============================] - 10s 17ms/step - loss: 0.3381 - accuracy: 0.8512 - val_loss: 0.3540 - val_accuracy: 0.8422\n",
      "Epoch 3/20\n",
      "572/572 [==============================] - 10s 17ms/step - loss: 0.3084 - accuracy: 0.8656 - val_loss: 0.3390 - val_accuracy: 0.8491\n",
      "Epoch 4/20\n",
      "572/572 [==============================] - 10s 17ms/step - loss: 0.2858 - accuracy: 0.8767 - val_loss: 0.3384 - val_accuracy: 0.8490\n",
      "Epoch 5/20\n",
      "572/572 [==============================] - 10s 17ms/step - loss: 0.2662 - accuracy: 0.8865 - val_loss: 0.3424 - val_accuracy: 0.8503\n",
      "Epoch 6/20\n",
      "572/572 [==============================] - 10s 17ms/step - loss: 0.2448 - accuracy: 0.8978 - val_loss: 0.3556 - val_accuracy: 0.8481\n",
      "Epoch 7/20\n",
      "572/572 [==============================] - 10s 17ms/step - loss: 0.2232 - accuracy: 0.9077 - val_loss: 0.3868 - val_accuracy: 0.8479\n",
      "Epoch 00007: early stopping\n",
      "1537/1537 [==============================] - 6s 4ms/step - loss: 0.3868 - accuracy: 0.8479\n",
      " 최종 검증 정확도: 0.8479\n",
      " 최종 검증 loss: 0.3868\n"
     ]
    }
   ],
   "source": [
    "from tensorflow.keras.callbacks import EarlyStopping\n",
    "\n",
    "model_lstm.compile(optimizer='adam',\n",
    "              loss='binary_crossentropy',\n",
    "              metrics=['accuracy'])\n",
    "              \n",
    "epochs=20  # 몇 epoch를 훈련하면 좋을지 결과를 보면서 바꾸어 봅시다. \n",
    "callbacks = EarlyStopping(monitor='val_loss', patience=3, verbose=1)\n",
    "\n",
    "history_lstm = model_lstm.fit(\n",
    "                    X_train, X_val,\n",
    "                    validation_data=(y_train, y_val),\n",
    "                    epochs=epochs,\n",
    "                    batch_size=256,\n",
    "                    verbose=1, \n",
    "                    callbacks = callbacks)\n",
    "\n",
    "loss, acc = model_lstm.evaluate(y_train, y_val)\n",
    "print(f\" 최종 검증 정확도: {acc:.4f}\")\n",
    "print(f\" 최종 검증 loss: {loss:.4f}\")"
   ]
  },
  {
   "cell_type": "code",
   "execution_count": 127,
   "id": "115026b6",
   "metadata": {
    "scrolled": true
   },
   "outputs": [
    {
     "data": {
      "image/png": "[encoded data removed]",
      "text/plain": [
       "<Figure size 1008x360 with 2 Axes>"
      ]
     },
     "metadata": {
      "needs_background": "light"
     },
     "output_type": "display_data"
    }
   ],
   "source": [
    "# 시각화\n",
    "\n",
    "import matplotlib.pyplot as plt\n",
    "\n",
    "history_dict = history_lstm.history\n",
    "\n",
    "acc = history_dict['accuracy']\n",
    "val_acc = history_dict['val_accuracy']\n",
    "loss = history_dict['loss']\n",
    "val_loss = history_dict['val_loss']\n",
    "\n",
    "epochs = range(1, len(acc) + 1)\n",
    "\n",
    "plt.figure(figsize=(14, 5))\n",
    "\n",
    "\n",
    "plt.subplot(1, 2, 1)\n",
    "plt.plot(epochs, acc, 'bo', label='Training accuracy')\n",
    "plt.plot(epochs, val_acc, 'b', label='Validation accuracy ')\n",
    "plt.title('Training and validation accuracy')\n",
    "plt.xlabel('Epochs')\n",
    "plt.ylabel('Accuracy')\n",
    "plt.legend()\n",
    "\n",
    "plt.subplot(1, 2, 2)\n",
    "plt.plot(epochs, loss, 'ro', label='Training loss ')\n",
    "plt.plot(epochs, val_loss, 'r', label='Validation loss ')\n",
    "plt.title('Training and validation loss ')\n",
    "plt.xlabel('Epochs')\n",
    "plt.ylabel('Loss')\n",
    "\n",
    "plt.legend()\n",
    "plt.show()"
   ]
  },
  {
   "cell_type": "markdown",
   "id": "f0488dfb",
   "metadata": {},
   "source": [
    " **Test 결과 \n",
    " - VOCAB = 8000, seq_max_len = 60, type = bpe\n",
    "     - 최종 검증 정확도: 0.8314\n",
    "     - 최종 검증 loss: 0.6664\n",
    " \n",
    " - VOCAB = 6000, seq_max_len = 60, type = bpe\n",
    "     - "
   ]
  },
  {
   "cell_type": "code",
   "execution_count": 122,
   "id": "bd50369a",
   "metadata": {},
   "outputs": [],
   "source": [
    "#문장 1개를 활용할 딕셔너리와 함께 주면, 단어 인덱스 리스트 벡터로 변환해 주는 함수입니다. \n",
    "# 단, 모든 문장은 <BOS>로 시작하는 것으로 합니다. \n",
    "def get_encoded_sentence(sentence, word_to_index):\n",
    "    return [word_to_index['<BOS>']]+[word_to_index[word] if word in word_to_index else word_to_index['<UNK>'] for word in sentence.split()]\n",
    "\n",
    "# 여러 개의 문장 리스트를 한꺼번에 단어 인덱스 리스트 벡터로 encode해 주는 함수입니다. \n",
    "def get_encoded_sentences(sentences, word_to_index):\n",
    "    return [get_encoded_sentence(sentence, word_to_index) for sentence in sentences]\n",
    "\n",
    "# 숫자 벡터로 encode된 문장을 원래대로 decode하는 함수입니다. \n",
    "def get_decoded_sentence(encoded_sentence, index_to_word):\n",
    "    return ' '.join(index_to_word[index] if index in index_to_word else '<UNK>' for index in encoded_sentence[1:])  #[1:]를 통해 <BOS>를 제외\n",
    "\n",
    "# 여러 개의 숫자 벡터로 encode된 문장을 한꺼번에 원래대로 decode하는 함수입니다. \n",
    "def get_decoded_sentences(encoded_sentences, index_to_word):\n",
    "    return [get_decoded_sentence(encoded_sentence, index_to_word) for encoded_sentence in encoded_sentences]"
   ]
  }
 ],
 "metadata": {
  "kernelspec": {
   "display_name": "Python 3 (ipykernel)",
   "language": "python",
   "name": "python3"
  },
  "language_info": {
   "codemirror_mode": {
    "name": "ipython",
    "version": 3
   },
   "file_extension": ".py",
   "mimetype": "text/x-python",
   "name": "python",
   "nbconvert_exporter": "python",
   "pygments_lexer": "ipython3",
   "version": "3.9.7"
  }
 },
 "nbformat": 4,
 "nbformat_minor": 5
}
