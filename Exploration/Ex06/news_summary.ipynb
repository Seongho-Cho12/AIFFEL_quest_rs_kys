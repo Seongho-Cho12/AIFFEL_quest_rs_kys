{
 "cells": [
  {
   "cell_type": "code",
   "execution_count": 1,
   "id": "3731c28a",
   "metadata": {},
   "outputs": [
    {
     "name": "stdout",
     "output_type": "stream",
     "text": [
      "3.6.5\n",
      "2.6.0\n",
      "1.3.3\n",
      "1.2.0\n"
     ]
    }
   ],
   "source": [
    "from importlib.metadata import version\n",
    "import nltk\n",
    "import tensorflow\n",
    "import summa\n",
    "import pandas as pd\n",
    "\n",
    "import numpy as np\n",
    "import os\n",
    "import re\n",
    "import matplotlib.pyplot as plt\n",
    "from nltk.corpus import stopwords\n",
    "from bs4 import BeautifulSoup \n",
    "from tensorflow.keras.preprocessing.text import Tokenizer \n",
    "from tensorflow.keras.preprocessing.sequence import pad_sequences\n",
    "import urllib.request\n",
    "import warnings\n",
    "warnings.filterwarnings(\"ignore\", category=UserWarning, module='bs4')\n",
    "\n",
    "print(nltk.__version__)\n",
    "print(tensorflow.__version__)\n",
    "print(pd.__version__)\n",
    "print(version('summa'))"
   ]
  },
  {
   "cell_type": "code",
   "execution_count": 2,
   "id": "5faa5e30",
   "metadata": {},
   "outputs": [],
   "source": [
    "import urllib.request\n",
    "urllib.request.urlretrieve(\"https://raw.githubusercontent.com/sunnysai12345/News_Summary/master/news_summary_more.csv\", filename=\"news_summary_more.csv\")\n",
    "data = pd.read_csv('news_summary_more.csv', encoding='iso-8859-1')"
   ]
  },
  {
   "cell_type": "code",
   "execution_count": 3,
   "id": "b395684d",
   "metadata": {},
   "outputs": [
    {
     "name": "stdout",
     "output_type": "stream",
     "text": [
      "전체 샘플수 : 98401\n"
     ]
    },
    {
     "data": {
      "text/html": [
       "<div>\n",
       "<style scoped>\n",
       "    .dataframe tbody tr th:only-of-type {\n",
       "        vertical-align: middle;\n",
       "    }\n",
       "\n",
       "    .dataframe tbody tr th {\n",
       "        vertical-align: top;\n",
       "    }\n",
       "\n",
       "    .dataframe thead th {\n",
       "        text-align: right;\n",
       "    }\n",
       "</style>\n",
       "<table border=\"1\" class=\"dataframe\">\n",
       "  <thead>\n",
       "    <tr style=\"text-align: right;\">\n",
       "      <th></th>\n",
       "      <th>headlines</th>\n",
       "      <th>text</th>\n",
       "    </tr>\n",
       "  </thead>\n",
       "  <tbody>\n",
       "    <tr>\n",
       "      <th>36156</th>\n",
       "      <td>Will do everything to ensure India's election ...</td>\n",
       "      <td>During his testimony before the US Congress on...</td>\n",
       "    </tr>\n",
       "    <tr>\n",
       "      <th>33554</th>\n",
       "      <td>Govt clears military equipment procurement wor...</td>\n",
       "      <td>The Defence Ministry on Friday cleared the pro...</td>\n",
       "    </tr>\n",
       "    <tr>\n",
       "      <th>82461</th>\n",
       "      <td>Microsoft puts artificial intelligence in Ã¢Â...</td>\n",
       "      <td>Microsoft researchers have installed computer ...</td>\n",
       "    </tr>\n",
       "    <tr>\n",
       "      <th>94613</th>\n",
       "      <td>The title of my biopic should be 'Sex God': Ra...</td>\n",
       "      <td>Actor Ranveer Singh has said that if a biopic ...</td>\n",
       "    </tr>\n",
       "    <tr>\n",
       "      <th>18464</th>\n",
       "      <td>UP CM directs invoking NSA against those invol...</td>\n",
       "      <td>UP CM Yogi Adityanath has directed investigati...</td>\n",
       "    </tr>\n",
       "    <tr>\n",
       "      <th>17017</th>\n",
       "      <td>Ola raises $50 mn from Chinese investors at $4...</td>\n",
       "      <td>Homegrown ride-hailing startup Ola has raised ...</td>\n",
       "    </tr>\n",
       "    <tr>\n",
       "      <th>84298</th>\n",
       "      <td>Bookies lost Ã¢ÂÂ¹2500 cr after India's loss ...</td>\n",
       "      <td>Bookmakers reportedly lost up to Ã¢ÂÂ¹2,500 c...</td>\n",
       "    </tr>\n",
       "    <tr>\n",
       "      <th>58673</th>\n",
       "      <td>Ready to pay political price to fight corrupti...</td>\n",
       "      <td>PM Narendra Modi on Thursday said that he migh...</td>\n",
       "    </tr>\n",
       "    <tr>\n",
       "      <th>68662</th>\n",
       "      <td>Indian man flies to Singapore to buy iPhone 8 ...</td>\n",
       "      <td>Indian businessman Amin Ahmed Dholiya flew to ...</td>\n",
       "    </tr>\n",
       "    <tr>\n",
       "      <th>57519</th>\n",
       "      <td>Ã¢ÂÂ¹100cr illegally transferred from Jharkha...</td>\n",
       "      <td>The CBI has registered a case in connection wi...</td>\n",
       "    </tr>\n",
       "  </tbody>\n",
       "</table>\n",
       "</div>"
      ],
      "text/plain": [
       "                                               headlines  \\\n",
       "36156  Will do everything to ensure India's election ...   \n",
       "33554  Govt clears military equipment procurement wor...   \n",
       "82461  Microsoft puts artificial intelligence in Ã¢Â...   \n",
       "94613  The title of my biopic should be 'Sex God': Ra...   \n",
       "18464  UP CM directs invoking NSA against those invol...   \n",
       "17017  Ola raises $50 mn from Chinese investors at $4...   \n",
       "84298  Bookies lost Ã¢ÂÂ¹2500 cr after India's loss ...   \n",
       "58673  Ready to pay political price to fight corrupti...   \n",
       "68662  Indian man flies to Singapore to buy iPhone 8 ...   \n",
       "57519  Ã¢ÂÂ¹100cr illegally transferred from Jharkha...   \n",
       "\n",
       "                                                    text  \n",
       "36156  During his testimony before the US Congress on...  \n",
       "33554  The Defence Ministry on Friday cleared the pro...  \n",
       "82461  Microsoft researchers have installed computer ...  \n",
       "94613  Actor Ranveer Singh has said that if a biopic ...  \n",
       "18464  UP CM Yogi Adityanath has directed investigati...  \n",
       "17017  Homegrown ride-hailing startup Ola has raised ...  \n",
       "84298  Bookmakers reportedly lost up to Ã¢ÂÂ¹2,500 c...  \n",
       "58673  PM Narendra Modi on Thursday said that he migh...  \n",
       "68662  Indian businessman Amin Ahmed Dholiya flew to ...  \n",
       "57519  The CBI has registered a case in connection wi...  "
      ]
     },
     "execution_count": 3,
     "metadata": {},
     "output_type": "execute_result"
    }
   ],
   "source": [
    "print('전체 샘플수 :', (len(data)))\n",
    "data.sample(10)"
   ]
  },
  {
   "cell_type": "markdown",
   "id": "ec4dab69",
   "metadata": {},
   "source": [
    "추상적 요약을 하는 경우에는 text를 본문, headlines를 이미 요약된 데이터로 삼아서 모델을 학습할 수 있어요. 추출적 요약을 하는 경우에는 오직 text열만을 사용하세요"
   ]
  },
  {
   "cell_type": "markdown",
   "id": "79d72c0b",
   "metadata": {},
   "source": [
    "1. 분석단계, 정제단계, 정규화와 불용어 제거, 데이터셋 분리, 인코딩 과정이 빠짐없이 체계적으로 진행되었다.\n",
    "2. 모델 학습이 진행되면서 train loss와 validation loss가 감소하는 경향을 그래프를 통해 확인했으며, 실제 요약문에 있는 핵심 단어들이 요약 문장 안에 포함되었다\n",
    "3. Extractive 요약을 시도해 보고 Abstractive 요약 결과과 함께 비교해 보았다. \n",
    "   두 요약 결과를 문법완성도 측면과 핵심단어 포함 측면으로 나누어 비교하고 분석 결과를 표로 정리하여 제시하였다."
   ]
  },
  {
   "cell_type": "markdown",
   "id": "c8157b81",
   "metadata": {},
   "source": [
    "# 1. 추상적 요약"
   ]
  },
  {
   "cell_type": "markdown",
   "id": "6232cffe",
   "metadata": {},
   "source": [
    "## 1-1 데이터 전처리하기"
   ]
  },
  {
   "cell_type": "markdown",
   "id": "32de4487",
   "metadata": {},
   "source": [
    "**중복 제거, Null 제거**"
   ]
  },
  {
   "cell_type": "code",
   "execution_count": 4,
   "id": "96f7ed15",
   "metadata": {},
   "outputs": [
    {
     "name": "stdout",
     "output_type": "stream",
     "text": [
      "text 열에서 중복을 배제한 유일한 샘플의 수 : 98360\n",
      "headlines 열에서 중복을 배제한 유일한 샘플의 수 : 98280\n",
      "전체 샘플수 : 98360\n",
      "headlines    0\n",
      "text         0\n",
      "dtype: int64\n",
      "전체 샘플수 : 98360\n"
     ]
    }
   ],
   "source": [
    "print('text 열에서 중복을 배제한 유일한 샘플의 수 :', data['text'].nunique())\n",
    "print('headlines 열에서 중복을 배제한 유일한 샘플의 수 :', data['headlines'].nunique())\n",
    "\n",
    "data.drop_duplicates(subset = ['text'], inplace=True)\n",
    "print('전체 샘플수 :', (len(data)))\n",
    "\n",
    "print(data.isnull().sum())\n",
    "\n",
    "data.dropna(axis=0, inplace=True)\n",
    "print('전체 샘플수 :', (len(data)))"
   ]
  },
  {
   "cell_type": "markdown",
   "id": "00b2816b",
   "metadata": {},
   "source": [
    "**텍스트 정규화(text normalization)**"
   ]
  },
  {
   "cell_type": "code",
   "execution_count": 5,
   "id": "9218910b",
   "metadata": {},
   "outputs": [
    {
     "name": "stdout",
     "output_type": "stream",
     "text": [
      "불용어 개수 : 198\n"
     ]
    },
    {
     "name": "stderr",
     "output_type": "stream",
     "text": [
      "[nltk_data] Downloading package stopwords to /aiffel/nltk_data...\n",
      "[nltk_data]   Package stopwords is already up-to-date!\n"
     ]
    }
   ],
   "source": [
    "nltk.download('stopwords')\n",
    "print('불용어 개수 :', len(stopwords.words('english') ))"
   ]
  },
  {
   "cell_type": "code",
   "execution_count": 6,
   "id": "275d1847",
   "metadata": {},
   "outputs": [
    {
     "name": "stdout",
     "output_type": "stream",
     "text": [
      "정규화 사전의 수:  120\n"
     ]
    }
   ],
   "source": [
    "contractions = {\"ain't\": \"is not\", \"aren't\": \"are not\",\"can't\": \"cannot\", \"'cause\": \"because\", \"could've\": \"could have\", \"couldn't\": \"could not\",\n",
    "                           \"didn't\": \"did not\",  \"doesn't\": \"does not\", \"don't\": \"do not\", \"hadn't\": \"had not\", \"hasn't\": \"has not\", \"haven't\": \"have not\",\n",
    "                           \"he'd\": \"he would\",\"he'll\": \"he will\", \"he's\": \"he is\", \"how'd\": \"how did\", \"how'd'y\": \"how do you\", \"how'll\": \"how will\", \"how's\": \"how is\",\n",
    "                           \"I'd\": \"I would\", \"I'd've\": \"I would have\", \"I'll\": \"I will\", \"I'll've\": \"I will have\",\"I'm\": \"I am\", \"I've\": \"I have\", \"i'd\": \"i would\",\n",
    "                           \"i'd've\": \"i would have\", \"i'll\": \"i will\",  \"i'll've\": \"i will have\",\"i'm\": \"i am\", \"i've\": \"i have\", \"isn't\": \"is not\", \"it'd\": \"it would\",\n",
    "                           \"it'd've\": \"it would have\", \"it'll\": \"it will\", \"it'll've\": \"it will have\",\"it's\": \"it is\", \"let's\": \"let us\", \"ma'am\": \"madam\",\n",
    "                           \"mayn't\": \"may not\", \"might've\": \"might have\",\"mightn't\": \"might not\",\"mightn't've\": \"might not have\", \"must've\": \"must have\",\n",
    "                           \"mustn't\": \"must not\", \"mustn't've\": \"must not have\", \"needn't\": \"need not\", \"needn't've\": \"need not have\",\"o'clock\": \"of the clock\",\n",
    "                           \"oughtn't\": \"ought not\", \"oughtn't've\": \"ought not have\", \"shan't\": \"shall not\", \"sha'n't\": \"shall not\", \"shan't've\": \"shall not have\",\n",
    "                           \"she'd\": \"she would\", \"she'd've\": \"she would have\", \"she'll\": \"she will\", \"she'll've\": \"she will have\", \"she's\": \"she is\",\n",
    "                           \"should've\": \"should have\", \"shouldn't\": \"should not\", \"shouldn't've\": \"should not have\", \"so've\": \"so have\",\"so's\": \"so as\",\n",
    "                           \"this's\": \"this is\",\"that'd\": \"that would\", \"that'd've\": \"that would have\", \"that's\": \"that is\", \"there'd\": \"there would\",\n",
    "                           \"there'd've\": \"there would have\", \"there's\": \"there is\", \"here's\": \"here is\",\"they'd\": \"they would\", \"they'd've\": \"they would have\",\n",
    "                           \"they'll\": \"they will\", \"they'll've\": \"they will have\", \"they're\": \"they are\", \"they've\": \"they have\", \"to've\": \"to have\",\n",
    "                           \"wasn't\": \"was not\", \"we'd\": \"we would\", \"we'd've\": \"we would have\", \"we'll\": \"we will\", \"we'll've\": \"we will have\", \"we're\": \"we are\",\n",
    "                           \"we've\": \"we have\", \"weren't\": \"were not\", \"what'll\": \"what will\", \"what'll've\": \"what will have\", \"what're\": \"what are\",\n",
    "                           \"what's\": \"what is\", \"what've\": \"what have\", \"when's\": \"when is\", \"when've\": \"when have\", \"where'd\": \"where did\", \"where's\": \"where is\",\n",
    "                           \"where've\": \"where have\", \"who'll\": \"who will\", \"who'll've\": \"who will have\", \"who's\": \"who is\", \"who've\": \"who have\",\n",
    "                           \"why's\": \"why is\", \"why've\": \"why have\", \"will've\": \"will have\", \"won't\": \"will not\", \"won't've\": \"will not have\",\n",
    "                           \"would've\": \"would have\", \"wouldn't\": \"would not\", \"wouldn't've\": \"would not have\", \"y'all\": \"you all\",\n",
    "                           \"y'all'd\": \"you all would\",\"y'all'd've\": \"you all would have\",\"y'all're\": \"you all are\",\"y'all've\": \"you all have\",\n",
    "                           \"you'd\": \"you would\", \"you'd've\": \"you would have\", \"you'll\": \"you will\", \"you'll've\": \"you will have\",\n",
    "                           \"you're\": \"you are\", \"you've\": \"you have\"}\n",
    "\n",
    "print(\"정규화 사전의 수: \", len(contractions))"
   ]
  },
  {
   "cell_type": "code",
   "execution_count": 7,
   "id": "3b89449c",
   "metadata": {},
   "outputs": [],
   "source": [
    "# 데이터 전처리 함수\n",
    "def preprocess_sentence(sentence, remove_stopwords=True):\n",
    "    sentence = sentence.lower() # 텍스트 소문자화\n",
    "    sentence = BeautifulSoup(sentence, \"lxml\").text # <br />, <a href = ...> 등의 html 태그 제거\n",
    "    sentence = re.sub(r'\\([^)]*\\)', '', sentence) # 괄호로 닫힌 문자열 (...) 제거 Ex) my husband (and myself!) for => my husband for\n",
    "    sentence = re.sub('\"','', sentence) # 쌍따옴표 \" 제거\n",
    "    sentence = ' '.join([contractions[t] if t in contractions else t for t in sentence.split(\" \")]) # 약어 정규화\n",
    "    sentence = re.sub(r\"'s\\b\",\"\", sentence) # 소유격 제거. Ex) roland's -> roland\n",
    "    sentence = re.sub(\"[^a-zA-Z]\", \" \", sentence) # 영어 외 문자(숫자, 특수문자 등) 공백으로 변환\n",
    "    sentence = re.sub('[m]{2,}', 'mm', sentence) # m이 3개 이상이면 2개로 변경. Ex) ummmmmmm yeah -> umm yeah\n",
    "    \n",
    "    # 불용어 제거 (Text)\n",
    "    if remove_stopwords:\n",
    "        tokens = ' '.join(word for word in sentence.split() if not word in stopwords.words('english') if len(word) > 1)\n",
    "    # 불용어 미제거 (Summary)\n",
    "    else:\n",
    "        tokens = ' '.join(word for word in sentence.split() if len(word) > 1)\n",
    "    return tokens"
   ]
  },
  {
   "cell_type": "code",
   "execution_count": 8,
   "id": "9f47923f",
   "metadata": {},
   "outputs": [
    {
     "name": "stdout",
     "output_type": "stream",
     "text": [
      "Text 전처리 후 결과:  ['saurav kant alumnus upgrad iiit pg program machine learning artificial intelligence sr systems engineer infosys almost years work experience program upgrad degree career support helped transition data scientist tech mahindra salary hike upgrad online power learning powered lakh careers', 'kunal shah credit card bill payment platform cred gave users chance win free food swiggy one year pranav kaushik delhi techie bagged reward spending cred coins users get one cred coin per rupee bill paid used avail rewards brands like ixigo bookmyshow ubereats cult fit', 'new zealand defeated india wickets fourth odi hamilton thursday win first match five match odi series india lost international match rohit sharma captaincy consecutive victories dating back march match witnessed india getting seventh lowest total odi cricket history', 'aegon life iterm insurance plan customers enjoy tax benefits premiums paid save taxes plan provides life cover age years also customers options insure critical illnesses disability accidental death benefit rider life cover age years', 'speaking sexual harassment allegations rajkumar hirani sonam kapoor said known hirani many years true metoo movement get derailed metoo movement always believe woman case need reserve judgment added hirani accused assistant worked sanju']\n"
     ]
    }
   ],
   "source": [
    "# 전체 Text 데이터에 대한 전처리 \n",
    "clean_text = []\n",
    "\n",
    "#clean_text = data['Text'].apply(lambda x: preprocess_sentence(str(x), remove_stopwords=True))\n",
    "\n",
    "for t in data['text']:\n",
    "  clean_text.append(preprocess_sentence(t, True))\n",
    "\n",
    "# 전처리 후 출력\n",
    "print(\"Text 전처리 후 결과: \", clean_text[:5])"
   ]
  },
  {
   "cell_type": "code",
   "execution_count": 9,
   "id": "768fecbe",
   "metadata": {},
   "outputs": [
    {
     "name": "stdout",
     "output_type": "stream",
     "text": [
      "Headlines 전처리 후 결과:  0    upgrad learner switches to career in ml al wit...\n",
      "1    delhi techie wins free food from swiggy for on...\n",
      "2    new zealand end rohit sharma led india match w...\n",
      "3    aegon life iterm insurance plan helps customer...\n",
      "4    have known hirani for yrs what if metoo claims...\n",
      "Name: headlines, dtype: object\n"
     ]
    }
   ],
   "source": [
    "# 전체 Headlines 데이터에 대한 전처리 \n",
    "clean_summary = []\n",
    "\n",
    "#clean_summary = data['headlines'].apply(lambda x: preprocess_sentence(str(x), remove_stopwords=False))\n",
    "\n",
    "for t in data['headlines']:\n",
    "  clean_summary.append(preprocess_sentence(t, False))\n",
    "\n",
    "print(\"Headlines 전처리 후 결과: \", clean_summary[:5])"
   ]
  },
  {
   "cell_type": "code",
   "execution_count": 12,
   "id": "e2cba1c1",
   "metadata": {},
   "outputs": [
    {
     "name": "stdout",
     "output_type": "stream",
     "text": [
      "전체 샘플수 : 98360\n"
     ]
    }
   ],
   "source": [
    "data['text'] = clean_text\n",
    "data['headlines'] = clean_summary\n",
    "\n",
    "# 빈 값을 Null 값으로 변환\n",
    "data.replace('', np.nan, inplace=True)\n",
    "data.isnull().sum()\n",
    "\n",
    "data.dropna(axis=0, inplace=True)\n",
    "print('전체 샘플수 :', (len(data)))"
   ]
  },
  {
   "cell_type": "markdown",
   "id": "20c2361a",
   "metadata": {},
   "source": [
    "**샘플의 최대 길이 정하기**"
   ]
  },
  {
   "cell_type": "code",
   "execution_count": 14,
   "id": "fd7a5ce1",
   "metadata": {},
   "outputs": [
    {
     "name": "stdout",
     "output_type": "stream",
     "text": [
      "텍스트의 최소 길이 : 1\n",
      "텍스트의 최대 길이 : 60\n",
      "텍스트의 평균 길이 : 35.09968483123221\n",
      "요약의 최소 길이 : 1\n",
      "요약의 최대 길이 : 16\n",
      "요약의 평균 길이 : 9.299532330215534\n"
     ]
    },
    {
     "data": {
      "image/png": "[encoded data removed]",
      "text/plain": [
       "<Figure size 432x288 with 1 Axes>"
      ]
     },
     "metadata": {
      "needs_background": "light"
     },
     "output_type": "display_data"
    },
    {
     "data": {
      "image/png": "[encoded data removed]",
      "text/plain": [
       "<Figure size 432x288 with 1 Axes>"
      ]
     },
     "metadata": {
      "needs_background": "light"
     },
     "output_type": "display_data"
    }
   ],
   "source": [
    "text_len = [len(str.split()) for str in data['text']]\n",
    "summary_len = [len(str.split()) for str in data['headlines']]\n",
    "\n",
    "print('텍스트의 최소 길이 : {}'.format(np.min(text_len)))\n",
    "print('텍스트의 최대 길이 : {}'.format(np.max(text_len)))\n",
    "print('텍스트의 평균 길이 : {}'.format(np.mean(text_len)))\n",
    "print('요약의 최소 길이 : {}'.format(np.min(summary_len)))\n",
    "print('요약의 최대 길이 : {}'.format(np.max(summary_len)))\n",
    "print('요약의 평균 길이 : {}'.format(np.mean(summary_len)))\n",
    "\n",
    "               \n",
    "plt.title('Text')\n",
    "plt.hist(text_len, bins = 40)\n",
    "plt.xlabel('length of samples')\n",
    "plt.ylabel('number of samples')\n",
    "plt.show()\n",
    "\n",
    "plt.title('Headlines')\n",
    "plt.hist(summary_len, bins = 40)\n",
    "plt.xlabel('length of samples')\n",
    "plt.ylabel('number of samples')\n",
    "plt.show()"
   ]
  },
  {
   "cell_type": "code",
   "execution_count": 18,
   "id": "b2d0cbb6",
   "metadata": {},
   "outputs": [
    {
     "name": "stdout",
     "output_type": "stream",
     "text": [
      "전체 샘플 중 길이가 60 이하인 샘플의 비율: 1.0\n",
      "전체 샘플 중 길이가 16 이하인 샘플의 비율: 1.0\n"
     ]
    }
   ],
   "source": [
    "text_max_len = 60\n",
    "summary_max_len = 16\n",
    "\n",
    "def below_threshold_len(max_len, nested_list):\n",
    "  cnt = 0\n",
    "  for s in nested_list:\n",
    "    if(len(s.split()) <= max_len):\n",
    "        cnt = cnt + 1\n",
    "  print('전체 샘플 중 길이가 %s 이하인 샘플의 비율: %s'%(max_len, (cnt / len(nested_list))))\n",
    "\n",
    "below_threshold_len(text_max_len, data['text'])\n",
    "below_threshold_len(summary_max_len,  data['headlines'])"
   ]
  },
  {
   "cell_type": "code",
   "execution_count": 19,
   "id": "28c92dad",
   "metadata": {},
   "outputs": [
    {
     "name": "stdout",
     "output_type": "stream",
     "text": [
      "전체 샘플수 : 98360\n"
     ]
    }
   ],
   "source": [
    "data = data[data['text'].apply(lambda x: len(x.split()) <= text_max_len)]\n",
    "data = data[data['headlines'].apply(lambda x: len(x.split()) <= summary_max_len)]\n",
    "print('전체 샘플수 :', (len(data)))"
   ]
  },
  {
   "cell_type": "markdown",
   "id": "13b60821",
   "metadata": {},
   "source": [
    "**시작 토큰과 종료 토큰 추가하기**"
   ]
  },
  {
   "cell_type": "code",
   "execution_count": 20,
   "id": "a3a6e5c0",
   "metadata": {},
   "outputs": [
    {
     "data": {
      "text/html": [
       "<div>\n",
       "<style scoped>\n",
       "    .dataframe tbody tr th:only-of-type {\n",
       "        vertical-align: middle;\n",
       "    }\n",
       "\n",
       "    .dataframe tbody tr th {\n",
       "        vertical-align: top;\n",
       "    }\n",
       "\n",
       "    .dataframe thead th {\n",
       "        text-align: right;\n",
       "    }\n",
       "</style>\n",
       "<table border=\"1\" class=\"dataframe\">\n",
       "  <thead>\n",
       "    <tr style=\"text-align: right;\">\n",
       "      <th></th>\n",
       "      <th>headlines</th>\n",
       "      <th>text</th>\n",
       "      <th>decoder_input</th>\n",
       "      <th>decoder_target</th>\n",
       "    </tr>\n",
       "  </thead>\n",
       "  <tbody>\n",
       "    <tr>\n",
       "      <th>0</th>\n",
       "      <td>upgrad learner switches to career in ml al wit...</td>\n",
       "      <td>saurav kant alumnus upgrad iiit pg program mac...</td>\n",
       "      <td>sostoken upgrad learner switches to career in ...</td>\n",
       "      <td>upgrad learner switches to career in ml al wit...</td>\n",
       "    </tr>\n",
       "    <tr>\n",
       "      <th>1</th>\n",
       "      <td>delhi techie wins free food from swiggy for on...</td>\n",
       "      <td>kunal shah credit card bill payment platform c...</td>\n",
       "      <td>sostoken delhi techie wins free food from swig...</td>\n",
       "      <td>delhi techie wins free food from swiggy for on...</td>\n",
       "    </tr>\n",
       "    <tr>\n",
       "      <th>2</th>\n",
       "      <td>new zealand end rohit sharma led india match w...</td>\n",
       "      <td>new zealand defeated india wickets fourth odi ...</td>\n",
       "      <td>sostoken new zealand end rohit sharma led indi...</td>\n",
       "      <td>new zealand end rohit sharma led india match w...</td>\n",
       "    </tr>\n",
       "    <tr>\n",
       "      <th>3</th>\n",
       "      <td>aegon life iterm insurance plan helps customer...</td>\n",
       "      <td>aegon life iterm insurance plan customers enjo...</td>\n",
       "      <td>sostoken aegon life iterm insurance plan helps...</td>\n",
       "      <td>aegon life iterm insurance plan helps customer...</td>\n",
       "    </tr>\n",
       "    <tr>\n",
       "      <th>4</th>\n",
       "      <td>have known hirani for yrs what if metoo claims...</td>\n",
       "      <td>speaking sexual harassment allegations rajkuma...</td>\n",
       "      <td>sostoken have known hirani for yrs what if met...</td>\n",
       "      <td>have known hirani for yrs what if metoo claims...</td>\n",
       "    </tr>\n",
       "  </tbody>\n",
       "</table>\n",
       "</div>"
      ],
      "text/plain": [
       "                                           headlines  \\\n",
       "0  upgrad learner switches to career in ml al wit...   \n",
       "1  delhi techie wins free food from swiggy for on...   \n",
       "2  new zealand end rohit sharma led india match w...   \n",
       "3  aegon life iterm insurance plan helps customer...   \n",
       "4  have known hirani for yrs what if metoo claims...   \n",
       "\n",
       "                                                text  \\\n",
       "0  saurav kant alumnus upgrad iiit pg program mac...   \n",
       "1  kunal shah credit card bill payment platform c...   \n",
       "2  new zealand defeated india wickets fourth odi ...   \n",
       "3  aegon life iterm insurance plan customers enjo...   \n",
       "4  speaking sexual harassment allegations rajkuma...   \n",
       "\n",
       "                                       decoder_input  \\\n",
       "0  sostoken upgrad learner switches to career in ...   \n",
       "1  sostoken delhi techie wins free food from swig...   \n",
       "2  sostoken new zealand end rohit sharma led indi...   \n",
       "3  sostoken aegon life iterm insurance plan helps...   \n",
       "4  sostoken have known hirani for yrs what if met...   \n",
       "\n",
       "                                      decoder_target  \n",
       "0  upgrad learner switches to career in ml al wit...  \n",
       "1  delhi techie wins free food from swiggy for on...  \n",
       "2  new zealand end rohit sharma led india match w...  \n",
       "3  aegon life iterm insurance plan helps customer...  \n",
       "4  have known hirani for yrs what if metoo claims...  "
      ]
     },
     "execution_count": 20,
     "metadata": {},
     "output_type": "execute_result"
    }
   ],
   "source": [
    "# Headlines 데이터에는 시작 토큰과 종료 토큰을 추가한다.\n",
    "data['decoder_input'] = data['headlines'].apply(lambda x : 'sostoken '+ x)\n",
    "data['decoder_target'] = data['headlines'].apply(lambda x : x + ' eostoken')\n",
    "data.head()"
   ]
  },
  {
   "cell_type": "markdown",
   "id": "c5feb594",
   "metadata": {},
   "source": [
    "**훈련데이타와 테스트데이터 나누기**"
   ]
  },
  {
   "cell_type": "code",
   "execution_count": 29,
   "id": "a7c366e3",
   "metadata": {},
   "outputs": [
    {
     "name": "stdout",
     "output_type": "stream",
     "text": [
      "테스트 데이터의 수 : 19672\n",
      "훈련 데이터의 개수 : 78688\n",
      "훈련 레이블의 개수 : 78688\n",
      "테스트 데이터의 개수 : 19672\n",
      "테스트 레이블의 개수 : 19672\n"
     ]
    }
   ],
   "source": [
    "#인코더의 입력, 디코더의 입력과 레이블을 각각 다시 Numpy 타입으로 저장\n",
    "\n",
    "encoder_input = np.array(data['text']) # 인코더의 입력\n",
    "decoder_input = np.array(data['decoder_input']) # 디코더의 입력 (sostoken ~)\n",
    "decoder_target = np.array(data['decoder_target']) # 디코더의 레이블 (~ eostoken)\n",
    "\n",
    "# 인코더 입력과 같은 크기와 형태의 정수 시퀀스\n",
    "indices = np.arange(encoder_input.shape[0])\n",
    "np.random.shuffle(indices)\n",
    "\n",
    "# 샘플을 섞어준다\n",
    "encoder_input = encoder_input[indices]\n",
    "decoder_input = decoder_input[indices]\n",
    "decoder_target = decoder_target[indices]\n",
    "\n",
    "# 이제 섞인 데이터를 8:2의 비율로 훈련 데이터와 테스트 데이터로 분리\n",
    "n_of_val = int(len(encoder_input)*0.2)\n",
    "print('테스트 데이터의 수 :', n_of_val)\n",
    "\n",
    "# 테스트 데이터의 개수를 이용해 전체 데이터를 양분\n",
    "encoder_input_train = encoder_input[:-n_of_val]\n",
    "decoder_input_train = decoder_input[:-n_of_val]\n",
    "decoder_target_train = decoder_target[:-n_of_val]\n",
    "\n",
    "encoder_input_test = encoder_input[-n_of_val:]\n",
    "decoder_input_test = decoder_input[-n_of_val:]\n",
    "decoder_target_test = decoder_target[-n_of_val:]\n",
    "\n",
    "print('훈련 데이터의 개수 :', len(encoder_input_train))\n",
    "print('훈련 레이블의 개수 :', len(decoder_input_train))\n",
    "print('테스트 데이터의 개수 :', len(encoder_input_test))\n",
    "print('테스트 레이블의 개수 :', len(decoder_input_test))"
   ]
  },
  {
   "cell_type": "markdown",
   "id": "82fb4a0b",
   "metadata": {},
   "source": [
    "**단어 집합(vocabulary) 만들기 및 정수 인코딩**\n",
    "\n",
    "    Tokenizer()\n",
    "    * fit_on_texts(texts)\t전체 텍스트 데이터에 대해 단어 사전 구축\n",
    "    * texts_to_sequences(texts)\t텍스트를 정수 시퀀스로 변환\n",
    "    * sequences_to_texts(sequences)\t시퀀스를 다시 텍스트로 복원\n",
    "    * texts_to_matrix(texts, mode='binary')\t텍스트를 벡터화 (BoW, TF-IDF 등 지원)\n",
    "    * word_index\t단어와 정수 인덱스의 매핑 딕셔너리\n",
    "    * index_word\t인덱스 → 단어 매핑 (역변환)"
   ]
  },
  {
   "cell_type": "code",
   "execution_count": 30,
   "id": "bbb96050",
   "metadata": {},
   "outputs": [
    {
     "name": "stdout",
     "output_type": "stream",
     "text": [
      "단어 집합(vocabulary)의 크기 : 69532\n",
      "등장 빈도가 6번 이하인 희귀 단어의 수: 47377\n",
      "단어 집합에서 희귀 단어를 제외시킬 경우의 단어 집합의 크기 22155\n",
      "단어 집합에서 희귀 단어의 비율: 68.13697290456193\n",
      "전체 등장 빈도에서 희귀 단어 등장 빈도 비율: 3.490502303009589\n"
     ]
    }
   ],
   "source": [
    "src_tokenizer = Tokenizer() # 토크나이저 정의\n",
    "src_tokenizer.fit_on_texts(encoder_input_train) # 입력된 데이터로부터 단어 집합 생성\n",
    "# src_tokenizer.word_index에 단어집합이 생성되어 있음\n",
    "\n",
    "threshold = 7\n",
    "total_cnt = len(src_tokenizer.word_index) # 단어의 수\n",
    "rare_cnt = 0 # 등장 빈도수가 threshold보다 작은 단어의 개수를 카운트\n",
    "total_freq = 0 # 훈련 데이터의 전체 단어 빈도수 총 합\n",
    "rare_freq = 0 # 등장 빈도수가 threshold보다 작은 단어의 등장 빈도수의 총 합\n",
    "\n",
    "# 단어와 빈도수의 쌍(pair)을 key와 value로 받는다.\n",
    "for key, value in src_tokenizer.word_counts.items():\n",
    "    total_freq = total_freq + value\n",
    "\n",
    "    # 단어의 등장 빈도수가 threshold보다 작으면\n",
    "    if(value < threshold):\n",
    "        rare_cnt = rare_cnt + 1\n",
    "        rare_freq = rare_freq + value\n",
    "\n",
    "print('단어 집합(vocabulary)의 크기 :', total_cnt)\n",
    "print('등장 빈도가 %s번 이하인 희귀 단어의 수: %s'%(threshold - 1, rare_cnt))\n",
    "print('단어 집합에서 희귀 단어를 제외시킬 경우의 단어 집합의 크기 %s'%(total_cnt - rare_cnt))\n",
    "print(\"단어 집합에서 희귀 단어의 비율:\", (rare_cnt / total_cnt)*100)\n",
    "print(\"전체 등장 빈도에서 희귀 단어 등장 빈도 비율:\", (rare_freq / total_freq)*100)\n"
   ]
  },
  {
   "cell_type": "code",
   "execution_count": 31,
   "id": "48b6e593",
   "metadata": {},
   "outputs": [
    {
     "name": "stdout",
     "output_type": "stream",
     "text": [
      "단어 집합(vocabulary)의 크기 : 30103\n",
      "등장 빈도가 5번 이하인 희귀 단어의 수: 19673\n",
      "단어 집합에서 희귀 단어를 제외시킬 경우의 단어 집합의 크기 10430\n",
      "단어 집합에서 희귀 단어의 비율: 65.35229046938844\n",
      "전체 등장 빈도에서 희귀 단어 등장 빈도 비율: 4.640717639292478\n"
     ]
    }
   ],
   "source": [
    "tar_tokenizer = Tokenizer()\n",
    "tar_tokenizer.fit_on_texts(decoder_input_train)\n",
    "\n",
    "threshold = 6\n",
    "total_cnt = len(tar_tokenizer.word_index) # 단어의 수\n",
    "rare_cnt = 0 # 등장 빈도수가 threshold보다 작은 단어의 개수를 카운트\n",
    "total_freq = 0 # 훈련 데이터의 전체 단어 빈도수 총 합\n",
    "rare_freq = 0 # 등장 빈도수가 threshold보다 작은 단어의 등장 빈도수의 총 합\n",
    "\n",
    "# 단어와 빈도수의 쌍(pair)을 key와 value로 받는다.\n",
    "for key, value in tar_tokenizer.word_counts.items():\n",
    "    total_freq = total_freq + value\n",
    "\n",
    "    # 단어의 등장 빈도수가 threshold보다 작으면\n",
    "    if(value < threshold):\n",
    "        rare_cnt = rare_cnt + 1\n",
    "        rare_freq = rare_freq + value\n",
    "\n",
    "print('단어 집합(vocabulary)의 크기 :', total_cnt)\n",
    "print('등장 빈도가 %s번 이하인 희귀 단어의 수: %s'%(threshold - 1, rare_cnt))\n",
    "print('단어 집합에서 희귀 단어를 제외시킬 경우의 단어 집합의 크기 %s'%(total_cnt - rare_cnt))\n",
    "print(\"단어 집합에서 희귀 단어의 비율:\", (rare_cnt / total_cnt)*100)\n",
    "print(\"전체 등장 빈도에서 희귀 단어 등장 빈도 비율:\", (rare_freq / total_freq)*100)"
   ]
  },
  {
   "cell_type": "code",
   "execution_count": 32,
   "id": "c6a30785",
   "metadata": {},
   "outputs": [
    {
     "name": "stdout",
     "output_type": "stream",
     "text": [
      "src_tokenizer.word_index : 69532\n",
      "[[1408, 1429, 104, 422, 869, 232, 647, 691, 204, 53, 1777, 184, 647, 691, 1034, 4416, 3189, 706, 5592, 1290, 422, 271, 4416, 2380, 2029, 52, 109, 3101, 690, 4416, 1, 1550, 2350, 74, 263, 33, 180, 875, 861], [11, 2018, 58, 20706, 17, 8012, 7099, 58, 1130, 160, 57, 4763, 758, 3548, 878, 84, 742, 78, 779, 733, 81, 37, 1279, 2998, 4763, 249, 193, 3859, 175, 31, 1, 733, 1279, 418, 1262, 17, 11, 21, 16745, 412], [575, 894, 19433, 4343, 9285, 18399, 5528, 1517, 723, 25, 833, 35, 1256, 7100, 2395, 5528, 1517, 630, 7582, 2834, 61, 5529, 9286, 944, 22156, 30, 1536, 575, 318]]\n"
     ]
    }
   ],
   "source": [
    "# total_cnt - rare_cnt 수로 단어 집합을 제한\n",
    "# num_words\t사용할 단어의 최대 개수 (빈도순 정렬 후 상위 n개만 사용)\n",
    "\n",
    "src_vocab = 23000\n",
    "src_tokenizer = Tokenizer(num_words=src_vocab) # 단어 집합의 크기를 23,000으로 제한\n",
    "src_tokenizer.fit_on_texts(encoder_input_train) # 단어 집합 재생성\n",
    "print('src_tokenizer.word_index :', len(src_tokenizer.word_index))\n",
    "\n",
    "# 텍스트 시퀀스를 정수 시퀀스로 변환\n",
    "encoder_input_train = src_tokenizer.texts_to_sequences(encoder_input_train) \n",
    "encoder_input_test = src_tokenizer.texts_to_sequences(encoder_input_test)\n",
    "\n",
    "# 잘 진행되었는지 샘플 출력\n",
    "print(encoder_input_train[:3])"
   ]
  },
  {
   "cell_type": "code",
   "execution_count": 33,
   "id": "667666e7",
   "metadata": {},
   "outputs": [
    {
     "name": "stdout",
     "output_type": "stream",
     "text": [
      "input\n",
      "input  [[1, 189, 2480, 10, 3, 249, 3107, 332, 476, 471, 908, 148], [1, 1922, 1545, 10432, 1582, 13, 25, 1655], [1, 7640, 875, 1447, 1827, 5, 68], [1, 527, 864, 1196, 831, 3, 160, 115, 250, 2519, 616], [1, 1950, 430, 10, 1179, 3, 522, 304, 3]]\n",
      "target\n",
      "decoder  [[189, 2480, 10, 3, 249, 3107, 332, 476, 471, 908, 148, 2], [1922, 1545, 10432, 1582, 13, 25, 1655, 2], [7640, 875, 1447, 1827, 5, 68, 2], [527, 864, 1196, 831, 3, 160, 115, 250, 2519, 616, 2], [1950, 430, 10, 1179, 3, 522, 304, 3, 2]]\n"
     ]
    }
   ],
   "source": [
    "tar_vocab = 11000\n",
    "tar_tokenizer = Tokenizer(num_words=tar_vocab) \n",
    "tar_tokenizer.fit_on_texts(decoder_input_train)\n",
    "tar_tokenizer.fit_on_texts(decoder_target_train)\n",
    "\n",
    "# 텍스트 시퀀스를 정수 시퀀스로 변환\n",
    "decoder_input_train = tar_tokenizer.texts_to_sequences(decoder_input_train) \n",
    "decoder_target_train = tar_tokenizer.texts_to_sequences(decoder_target_train)\n",
    "decoder_input_test = tar_tokenizer.texts_to_sequences(decoder_input_test)\n",
    "decoder_target_test = tar_tokenizer.texts_to_sequences(decoder_target_test)\n",
    "\n",
    "# 잘 변환되었는지 확인\n",
    "print('input')\n",
    "print('input ',decoder_input_train[:5])\n",
    "print('target')\n",
    "print('decoder ',decoder_target_train[:5])"
   ]
  },
  {
   "cell_type": "code",
   "execution_count": 34,
   "id": "f025dce3",
   "metadata": {},
   "outputs": [
    {
     "name": "stdout",
     "output_type": "stream",
     "text": [
      "삭제할 훈련 데이터의 개수 : 0\n",
      "삭제할 테스트 데이터의 개수 : 0\n",
      "훈련 데이터의 개수 : 78688\n",
      "훈련 레이블의 개수 : 78688\n",
      "테스트 데이터의 개수 : 19672\n",
      "테스트 레이블의 개수 : 19672\n"
     ]
    }
   ],
   "source": [
    "# sostoken만 있는 decoder_input\n",
    "drop_train = [index for index, sentence in enumerate(decoder_input_train) if len(sentence) == 1]\n",
    "drop_test = [index for index, sentence in enumerate(decoder_input_test) if len(sentence) == 1]\n",
    "\n",
    "print('삭제할 훈련 데이터의 개수 :', len(drop_train))\n",
    "print('삭제할 테스트 데이터의 개수 :', len(drop_test))\n",
    "\n",
    "# summary가 없으면, text(encoder)도 없어야 한다. \n",
    "encoder_input_train = [sentence for index, sentence in enumerate(encoder_input_train) if index not in drop_train]\n",
    "decoder_input_train = [sentence for index, sentence in enumerate(decoder_input_train) if index not in drop_train]\n",
    "decoder_target_train = [sentence for index, sentence in enumerate(decoder_target_train) if index not in drop_train]\n",
    "\n",
    "encoder_input_test = [sentence for index, sentence in enumerate(encoder_input_test) if index not in drop_test]\n",
    "decoder_input_test = [sentence for index, sentence in enumerate(decoder_input_test) if index not in drop_test]\n",
    "decoder_target_test = [sentence for index, sentence in enumerate(decoder_target_test) if index not in drop_test]\n",
    "\n",
    "print('훈련 데이터의 개수 :', len(encoder_input_train))\n",
    "print('훈련 레이블의 개수 :', len(decoder_input_train))\n",
    "print('테스트 데이터의 개수 :', len(encoder_input_test))\n",
    "print('테스트 레이블의 개수 :', len(decoder_input_test))"
   ]
  },
  {
   "cell_type": "code",
   "execution_count": 35,
   "id": "0a7686ac",
   "metadata": {},
   "outputs": [],
   "source": [
    "src_index_to_word = src_tokenizer.index_word # 원문 단어 집합에서 정수 -> 단어를 얻음\n",
    "tar_word_to_index = tar_tokenizer.word_index # 요약 단어 집합에서 단어 -> 정수를 얻음\n",
    "tar_index_to_word = tar_tokenizer.index_word # 요약 단어 집합에서 정수 -> 단어를 얻음"
   ]
  },
  {
   "cell_type": "code",
   "execution_count": 36,
   "id": "10d4834f",
   "metadata": {},
   "outputs": [],
   "source": [
    "# 원문의 정수 시퀀스를 텍스트 시퀀스로 변환\n",
    "def seq2text(input_seq):\n",
    "    temp=''\n",
    "    for i in input_seq:\n",
    "        if (i!=0):\n",
    "            temp = temp + src_index_to_word[i]+' '\n",
    "    return temp\n",
    "\n",
    "# 요약문의 정수 시퀀스를 텍스트 시퀀스로 변환\n",
    "def seq2summary(input_seq):\n",
    "    temp=''\n",
    "    for i in input_seq:\n",
    "        if( i==0):\n",
    "            continue\n",
    "        if(tar_index_to_word[i] == 'eostoken') :\n",
    "            break\n",
    "        temp = temp + tar_index_to_word[i]+' '\n",
    "    return temp"
   ]
  },
  {
   "cell_type": "markdown",
   "id": "5ad02dec",
   "metadata": {},
   "source": [
    "**패딩하기**"
   ]
  },
  {
   "cell_type": "code",
   "execution_count": 37,
   "id": "4c0cd328",
   "metadata": {},
   "outputs": [],
   "source": [
    "encoder_input_train = pad_sequences(encoder_input_train, maxlen=text_max_len, padding='post')\n",
    "encoder_input_test = pad_sequences(encoder_input_test, maxlen=text_max_len, padding='post')\n",
    "\n",
    "decoder_input_train = pad_sequences(decoder_input_train, maxlen=summary_max_len, padding='post')\n",
    "decoder_target_train = pad_sequences(decoder_target_train, maxlen=summary_max_len, padding='post')\n",
    "decoder_input_test = pad_sequences(decoder_input_test, maxlen=summary_max_len, padding='post')\n",
    "decoder_target_test = pad_sequences(decoder_target_test, maxlen=summary_max_len, padding='post')"
   ]
  },
  {
   "cell_type": "markdown",
   "id": "f673e150",
   "metadata": {},
   "source": [
    "## 1-2  어텐션 메커니즘 사용하기"
   ]
  },
  {
   "cell_type": "markdown",
   "id": "114b0c56",
   "metadata": {},
   "source": [
    "### 훈련 모델"
   ]
  },
  {
   "cell_type": "code",
   "execution_count": 38,
   "id": "d162c2c4",
   "metadata": {},
   "outputs": [],
   "source": [
    "from tensorflow.keras.layers import Input, LSTM, Embedding, Dense, Concatenate, TimeDistributed\n",
    "from tensorflow.keras.layers import AdditiveAttention\n",
    "from tensorflow.keras.models import Model\n",
    "from tensorflow.keras.callbacks import EarlyStopping, ModelCheckpoint\n",
    "\n",
    "\n",
    "# 인코더 설계 시작\n",
    "embedding_dim = 128\n",
    "hidden_size = 256\n",
    "\n",
    "# 인코더\n",
    "encoder_inputs = Input(shape=(text_max_len,))  # text_max_len로 크기 정해줌\n",
    "\n",
    "# 인코더의 임베딩 층\n",
    "enc_emb = Embedding(src_vocab, embedding_dim)(encoder_inputs)\n",
    "\n",
    "# 인코더의 LSTM 1   \n",
    "# encoder_lstm1 = LSTM(hidden_size, return_sequences=True, return_state=True ,dropout = 0.4, recurrent_dropout = 0.4)\n",
    "encoder_lstm1 = LSTM(hidden_size, return_sequences=True, return_state=True ,dropout = 0.4)\n",
    "encoder_output1, state_h1, state_c1 = encoder_lstm1(enc_emb)\n",
    "\n",
    "# 인코더의 LSTM 2\n",
    "encoder_lstm2 = LSTM(hidden_size, return_sequences=True, return_state=True ,dropout = 0.4)\n",
    "encoder_output2, state_h2, state_c2 = encoder_lstm2(encoder_output1)\n",
    "\n",
    "# 인코더의 LSTM 3\n",
    "encoder_lstm3 = LSTM(hidden_size, return_sequences=True, return_state=True ,dropout = 0.4)\n",
    "encoder_outputs, state_h, state_c = encoder_lstm3(encoder_output2)\n",
    "\n",
    "\n",
    "# 디코더 설계\n",
    "decoder_inputs = Input(shape=(None,))\n",
    "\n",
    "# 디코더의 임베딩 층\n",
    "dec_emb_layer = Embedding(tar_vocab, embedding_dim)\n",
    "dec_emb = dec_emb_layer(decoder_inputs)\n",
    "#dec_emb = Embedding(tgt_vocab, embedding_dim)(decoder_inputs)\n",
    "\n",
    "# 디코더의 LSTM\n",
    "# 인코더의 hidden state와 cell state가 디코더의 초기 state로 사용.\n",
    "# decoder_lstm = LSTM(hidden_size, return_sequences=True, return_state=True, dropout=0.4, recurrent_dropout=0.2)\n",
    "decoder_lstm = LSTM(hidden_size, return_sequences=True, return_state=True, dropout=0.4)\n",
    "decoder_outputs, _, _ = decoder_lstm(dec_emb, initial_state=[state_h, state_c])\n"
   ]
  },
  {
   "cell_type": "code",
   "execution_count": 39,
   "id": "438f646e",
   "metadata": {},
   "outputs": [
    {
     "name": "stdout",
     "output_type": "stream",
     "text": [
      "Model: \"model\"\n",
      "__________________________________________________________________________________________________\n",
      "Layer (type)                    Output Shape         Param #     Connected to                     \n",
      "==================================================================================================\n",
      "input_1 (InputLayer)            [(None, 60)]         0                                            \n",
      "__________________________________________________________________________________________________\n",
      "embedding (Embedding)           (None, 60, 128)      2944000     input_1[0][0]                    \n",
      "__________________________________________________________________________________________________\n",
      "lstm (LSTM)                     [(None, 60, 256), (N 394240      embedding[0][0]                  \n",
      "__________________________________________________________________________________________________\n",
      "input_2 (InputLayer)            [(None, None)]       0                                            \n",
      "__________________________________________________________________________________________________\n",
      "lstm_1 (LSTM)                   [(None, 60, 256), (N 525312      lstm[0][0]                       \n",
      "__________________________________________________________________________________________________\n",
      "embedding_1 (Embedding)         (None, None, 128)    1408000     input_2[0][0]                    \n",
      "__________________________________________________________________________________________________\n",
      "lstm_2 (LSTM)                   [(None, 60, 256), (N 525312      lstm_1[0][0]                     \n",
      "__________________________________________________________________________________________________\n",
      "lstm_3 (LSTM)                   [(None, None, 256),  394240      embedding_1[0][0]                \n",
      "                                                                 lstm_2[0][1]                     \n",
      "                                                                 lstm_2[0][2]                     \n",
      "__________________________________________________________________________________________________\n",
      "attention_layer (AdditiveAttent (None, None, 256)    256         lstm_3[0][0]                     \n",
      "                                                                 lstm_2[0][0]                     \n",
      "__________________________________________________________________________________________________\n",
      "concat_layer (Concatenate)      (None, None, 512)    0           lstm_3[0][0]                     \n",
      "                                                                 attention_layer[0][0]            \n",
      "__________________________________________________________________________________________________\n",
      "dense (Dense)                   (None, None, 11000)  5643000     concat_layer[0][0]               \n",
      "==================================================================================================\n",
      "Total params: 11,834,360\n",
      "Trainable params: 11,834,360\n",
      "Non-trainable params: 0\n",
      "__________________________________________________________________________________________________\n"
     ]
    }
   ],
   "source": [
    "from tensorflow.keras.layers import AdditiveAttention\n",
    "\n",
    "# 어텐션 층(어텐션 함수)\n",
    "attn_layer = AdditiveAttention(name='attention_layer')\n",
    "\n",
    "# 인코더와 디코더의 모든 time step의 hidden state를 어텐션 층에 전달하고 결과를 리턴\n",
    "attn_out = attn_layer([decoder_outputs, encoder_outputs])\n",
    "\n",
    "\n",
    "# 어텐션의 결과와 디코더의 hidden state들을 연결\n",
    "decoder_concat_input = Concatenate(axis=-1, name='concat_layer')([decoder_outputs, attn_out])\n",
    "\n",
    "\n",
    "# 디코더의 출력층\n",
    "decoder_softmax_layer = Dense(tar_vocab, activation='softmax')\n",
    "decoder_softmax_outputs = decoder_softmax_layer(decoder_concat_input)  # 인코더와 concat한 결과를 사용\n",
    "\n",
    "# 모델 정의\n",
    "model_attention = Model([encoder_inputs, decoder_inputs], decoder_softmax_outputs)\n",
    "model_attention .summary()"
   ]
  },
  {
   "cell_type": "code",
   "execution_count": 41,
   "id": "2aac8265",
   "metadata": {},
   "outputs": [
    {
     "name": "stdout",
     "output_type": "stream",
     "text": [
      "Epoch 1/50\n",
      "308/308 [==============================] - 51s 144ms/step - loss: 4.3312 - val_loss: 3.9565\n",
      "Epoch 2/50\n",
      "308/308 [==============================] - 45s 145ms/step - loss: 3.8392 - val_loss: 3.6787\n",
      "Epoch 3/50\n",
      "308/308 [==============================] - 46s 149ms/step - loss: 3.5966 - val_loss: 3.4920\n",
      "Epoch 4/50\n",
      "308/308 [==============================] - 46s 149ms/step - loss: 3.4026 - val_loss: 3.3521\n",
      "Epoch 5/50\n",
      "308/308 [==============================] - 46s 149ms/step - loss: 3.2468 - val_loss: 3.2414\n",
      "Epoch 6/50\n",
      "308/308 [==============================] - 46s 149ms/step - loss: 3.1165 - val_loss: 3.1550\n",
      "Epoch 7/50\n",
      "308/308 [==============================] - 46s 149ms/step - loss: 3.0048 - val_loss: 3.0944\n",
      "Epoch 8/50\n",
      "308/308 [==============================] - 46s 149ms/step - loss: 2.9087 - val_loss: 3.0420\n",
      "Epoch 9/50\n",
      "308/308 [==============================] - 46s 149ms/step - loss: 2.8241 - val_loss: 2.9985\n",
      "Epoch 10/50\n",
      "308/308 [==============================] - 46s 149ms/step - loss: 2.7502 - val_loss: 2.9652\n",
      "Epoch 11/50\n",
      "308/308 [==============================] - 46s 150ms/step - loss: 2.6823 - val_loss: 2.9337\n",
      "Epoch 12/50\n",
      "308/308 [==============================] - 46s 150ms/step - loss: 2.6202 - val_loss: 2.9014\n",
      "Epoch 13/50\n",
      "308/308 [==============================] - 46s 149ms/step - loss: 2.5650 - val_loss: 2.8887\n",
      "Epoch 14/50\n",
      "308/308 [==============================] - 46s 149ms/step - loss: 2.5124 - val_loss: 2.8656\n",
      "Epoch 15/50\n",
      "308/308 [==============================] - 46s 150ms/step - loss: 2.4641 - val_loss: 2.8597\n",
      "Epoch 16/50\n",
      "308/308 [==============================] - 46s 150ms/step - loss: 2.4178 - val_loss: 2.8428\n",
      "Epoch 17/50\n",
      "308/308 [==============================] - 46s 149ms/step - loss: 2.3766 - val_loss: 2.8317\n",
      "Epoch 18/50\n",
      "308/308 [==============================] - 46s 150ms/step - loss: 2.3380 - val_loss: 2.8263\n",
      "Epoch 19/50\n",
      "308/308 [==============================] - 46s 149ms/step - loss: 2.3017 - val_loss: 2.8180\n",
      "Epoch 20/50\n",
      "308/308 [==============================] - 46s 150ms/step - loss: 2.2624 - val_loss: 2.8103\n",
      "Epoch 21/50\n",
      "308/308 [==============================] - 46s 149ms/step - loss: 2.2291 - val_loss: 2.8049\n",
      "Epoch 22/50\n",
      "308/308 [==============================] - 46s 150ms/step - loss: 2.1977 - val_loss: 2.8033\n",
      "Epoch 23/50\n",
      "308/308 [==============================] - 46s 149ms/step - loss: 2.1680 - val_loss: 2.7995\n",
      "Epoch 24/50\n",
      "308/308 [==============================] - 46s 149ms/step - loss: 2.1405 - val_loss: 2.7947\n",
      "Epoch 25/50\n",
      "308/308 [==============================] - 46s 150ms/step - loss: 2.1143 - val_loss: 2.7998\n",
      "Epoch 26/50\n",
      "308/308 [==============================] - 46s 150ms/step - loss: 2.0927 - val_loss: 2.7996\n",
      "Epoch 27/50\n",
      "308/308 [==============================] - 46s 149ms/step - loss: 2.0694 - val_loss: 2.7977\n",
      "Epoch 28/50\n",
      "308/308 [==============================] - 46s 150ms/step - loss: 2.0459 - val_loss: 2.7977\n",
      "Epoch 29/50\n",
      "308/308 [==============================] - 46s 150ms/step - loss: 2.0240 - val_loss: 2.7946\n",
      "Epoch 30/50\n",
      "308/308 [==============================] - 46s 150ms/step - loss: 2.0047 - val_loss: 2.7992\n",
      "Epoch 31/50\n",
      "308/308 [==============================] - 46s 149ms/step - loss: 1.9848 - val_loss: 2.8007\n",
      "Epoch 32/50\n",
      "308/308 [==============================] - 46s 149ms/step - loss: 1.9653 - val_loss: 2.8033\n",
      "Epoch 33/50\n",
      "308/308 [==============================] - 46s 150ms/step - loss: 1.9435 - val_loss: 2.8044\n",
      "Epoch 34/50\n",
      "308/308 [==============================] - 46s 149ms/step - loss: 1.9217 - val_loss: 2.8084\n",
      "Epoch 00034: early stopping\n"
     ]
    }
   ],
   "source": [
    "model_attention.compile(optimizer='rmsprop', loss='sparse_categorical_crossentropy')\n",
    "es = EarlyStopping(monitor='val_loss', patience=3, verbose=1)\n",
    "history = model_attention.fit(x=[encoder_input_train, decoder_input_train], y=decoder_target_train, \\\n",
    "          validation_data=([encoder_input_test, decoder_input_test], decoder_target_test), \\\n",
    "          batch_size=256, callbacks=[es], epochs=30)\n",
    "# 시간이 너무 오래 걸려서, patience는 5 -> 2, epochs는 50 -> 20 으로 변경"
   ]
  },
  {
   "cell_type": "code",
   "execution_count": 42,
   "id": "12b164b9",
   "metadata": {},
   "outputs": [
    {
     "data": {
      "image/png": "[encoded data removed]",
      "text/plain": [
       "<Figure size 432x288 with 1 Axes>"
      ]
     },
     "metadata": {
      "needs_background": "light"
     },
     "output_type": "display_data"
    }
   ],
   "source": [
    "plt.plot(history.history['loss'], label='train')\n",
    "plt.plot(history.history['val_loss'], label='test')\n",
    "plt.legend()\n",
    "plt.show()"
   ]
  },
  {
   "cell_type": "markdown",
   "id": "28525cac",
   "metadata": {},
   "source": [
    "### 추론 모델"
   ]
  },
  {
   "cell_type": "code",
   "execution_count": 43,
   "id": "2fb84c54",
   "metadata": {},
   "outputs": [],
   "source": [
    "\n",
    "# 인코더 모델\n",
    "# input : encoder_input\n",
    "# output : last lstm layer 의 state_h, state_c\n",
    "encoder_model = Model(inputs=encoder_inputs, outputs=[encoder_outputs, state_h, state_c])\n"
   ]
  },
  {
   "cell_type": "code",
   "execution_count": 44,
   "id": "c180fcb1",
   "metadata": {},
   "outputs": [],
   "source": [
    "# 이전 시점의 상태들을 저장하는 텐서\n",
    "decoder_state_input_h = Input(shape=(hidden_size,))\n",
    "decoder_state_input_c = Input(shape=(hidden_size,))\n",
    "\n",
    "dec_emb2 = dec_emb_layer(decoder_inputs)\n",
    "\n",
    "# 문장의 다음 단어를 예측하기 위해서 초기 상태(initial_state)를 이전 시점의 상태로 사용. \n",
    "# 이는 뒤의 함수 decode_sequence()에 구현\n",
    "# 훈련 과정에서와 달리 LSTM의 리턴하는 은닉 상태와 셀 상태인 state_h와 state_c를 버리지 않음.\n",
    "decoder_outputs2, state_h2, state_c2 = decoder_lstm(dec_emb2, initial_state=[decoder_state_input_h, decoder_state_input_c])"
   ]
  },
  {
   "cell_type": "code",
   "execution_count": 45,
   "id": "b3658696",
   "metadata": {},
   "outputs": [],
   "source": [
    "# 어텐션 함수\n",
    "decoder_hidden_state_input = Input(shape=(text_max_len, hidden_size))\n",
    "# 디코더의 output과 hidden satte를 어텐션층에 전달하고 결과를 리턴\n",
    "attn_out_inf = attn_layer([decoder_outputs2, decoder_hidden_state_input])\n",
    "decoder_inf_concat = Concatenate(axis=-1, name='concat')([decoder_outputs2, attn_out_inf])\n",
    "\n",
    "# 디코더의 출력층\n",
    "decoder_outputs2 = decoder_softmax_layer(decoder_inf_concat) \n",
    "\n",
    "# 최종 디코더 모델\n",
    "# input : decoder inputs, atteion_hidden_state, decoder_old_state_h & c, \n",
    "# output : decoder output, decoder_out_h_state, decoder_out_c_state\n",
    "decoder_model = Model(\n",
    "    [decoder_inputs] + [decoder_hidden_state_input, decoder_state_input_h, decoder_state_input_c],\n",
    "    [decoder_outputs2] + [state_h2, state_c2])"
   ]
  },
  {
   "cell_type": "code",
   "execution_count": 46,
   "id": "08b090a2",
   "metadata": {},
   "outputs": [],
   "source": [
    "def decode_sequence(input_seq):\n",
    "    # 입력으로부터 인코더의 상태를 얻음\n",
    "    e_out, e_h, e_c = encoder_model.predict(input_seq)\n",
    "\n",
    "     # <SOS>에 해당하는 토큰 생성\n",
    "    target_seq = np.zeros((1,1))\n",
    "    target_seq[0, 0] = tar_word_to_index['sostoken']\n",
    "\n",
    "    stop_condition = False\n",
    "    decoded_sentence = ''\n",
    "    while not stop_condition: # stop_condition이 True가 될 때까지 루프 반복\n",
    "\n",
    "        output_tokens, h, c = decoder_model.predict([target_seq] + [e_out, e_h, e_c])\n",
    "        sampled_token_index = np.argmax(output_tokens[0, -1, :])\n",
    "        sampled_token = tar_index_to_word[sampled_token_index]\n",
    "\n",
    "        if (sampled_token!='eostoken'):\n",
    "            decoded_sentence += ' '+sampled_token\n",
    "\n",
    "        #  <eos>에 도달하거나 최대 길이를 넘으면 중단.\n",
    "        if (sampled_token == 'eostoken'  or len(decoded_sentence.split()) >= (summary_max_len-1)):\n",
    "            stop_condition = True\n",
    "\n",
    "        # 길이가 1인 타겟 시퀀스를 업데이트\n",
    "        target_seq = np.zeros((1,1))\n",
    "        target_seq[0, 0] = sampled_token_index\n",
    "\n",
    "        # 상태를 업데이트 합니다.\n",
    "        e_h, e_c = h, c\n",
    "\n",
    "    return decoded_sentence"
   ]
  },
  {
   "cell_type": "code",
   "execution_count": 47,
   "id": "37a98907",
   "metadata": {},
   "outputs": [],
   "source": [
    "# 원문의 정수 시퀀스를 텍스트 시퀀스로 변환\n",
    "def seq2text(input_seq):\n",
    "    temp=''\n",
    "    for i in input_seq:\n",
    "        if (i!=0):\n",
    "            temp = temp + src_index_to_word[i]+' '\n",
    "    return temp\n",
    "\n",
    "# 요약문의 정수 시퀀스를 텍스트 시퀀스로 변환\n",
    "def seq2summary(input_seq):\n",
    "    temp=''\n",
    "    for i in input_seq:\n",
    "        if((i!=0 and i!=tar_word_to_index['sostoken']) and i!=tar_word_to_index['eostoken']):\n",
    "            temp = temp + tar_index_to_word[i]+' '\n",
    "    return temp"
   ]
  },
  {
   "cell_type": "markdown",
   "id": "72445d51",
   "metadata": {},
   "source": [
    "## 1-3. 실제 결과와 요약문 비교하기"
   ]
  },
  {
   "cell_type": "code",
   "execution_count": 48,
   "id": "51179bc2",
   "metadata": {},
   "outputs": [
    {
     "name": "stdout",
     "output_type": "stream",
     "text": [
      "<class 'numpy.ndarray'>\n"
     ]
    }
   ],
   "source": [
    "print(type(encoder_input_test))\n",
    "\n",
    "pred_loop_cnt = 30"
   ]
  },
  {
   "cell_type": "code",
   "execution_count": 82,
   "id": "8fc67188",
   "metadata": {},
   "outputs": [
    {
     "name": "stdout",
     "output_type": "stream",
     "text": [
      "기사 : bombay high court allowed three ailing com students appear exams despite low attendance exceptional medical grounds students filed petition college barred exams maintaining required attendance students reportedly could attend classes regularly one cancer others met accidents \n",
      "실제 헤드라인 : bombay hc allows students with low attendance to give exam \n",
      "예측 헤드라인 :  hc refuses to stay back to answer marks of neet\n",
      "\n",
      "\n",
      "기사 : flipkart ceo kalyan krishnamurthy said changes flipkart operating processes result walmart deal acquire stake indian startup email sellers platform krishnamurthy said flipkart walmart maintain distinct brands keep making deep investments technology added \n",
      "실제 헤드라인 : no change in operating post walmart deal flipkart \n",
      "예측 헤드라인 :  flipkart will not be part of flipkart flipkart binny bansal\n",
      "\n",
      "\n",
      "기사 : least two people killed others injured wednesday several gunmen stormed office indian ngo save children afghanistan jalalabad according reports attackers detonated car bomb outside office using rocket propelled grenades blast way inside isis claimed responsibility attack \n",
      "실제 헤드라인 : gunmen storm save the children office in afghanistan \n",
      "예측 헤드라인 :  killed in twin bomb attacks in afghanistan\n",
      "\n",
      "\n",
      "기사 : story policewoman breastfeeding month old baby suspect gone viral china baby started crying mother attending trial following latter permitted policewoman nurse child said new mother could feel anxious child mother would \n",
      "실제 헤드라인 : policewoman breastfeeds suspect baby while she is in trial \n",
      "예측 헤드라인 :  newborn baby baby on newborn baby goes viral\n",
      "\n",
      "\n",
      "기사 : exit polls predicted karnataka face hung assembly party able secure seats required form government member assembly india today polls suggested bjp likely win seats congress winning seats times suggested bjp form government majority \n",
      "실제 헤드라인 : exit polls predict hung assembly in karnataka \n",
      "예측 헤드라인 :  no confidence in gujarat assembly polls in taka\n",
      "\n",
      "\n",
      "기사 : death year old boy due dengue sir ganga ram hospital delhi city reported first death due vector borne disease year least people affected dengue delhi season according latest municipal report affected people residents delhi \n",
      "실제 헤드라인 : delhi witnesses its first dengue death this year \n",
      "예측 헤드라인 :  death toll in delhi boy dies in days\n",
      "\n",
      "\n",
      "기사 : tokyo olympics paralympics selected elementary school kids unveiled wednesday olympics mascot blue checked eyed character ears special powers paralympics mascot sports pink checks talk stones wind total million children cast vote select \n",
      "실제 헤드라인 : mascot chosen by children for tokyo olympics unveiled \n",
      "예측 헤드라인 :  indian football team makes trophy themed football\n",
      "\n",
      "\n",
      "기사 : google parent company alphabet chairman eric schmidt said technology major cannot guarantee get pretty close ensuring ad show next offensive content platforms comes brands like bbc domino hyundai boycotted google withdrew ads uk appearing next videos promoting terrorism \n",
      "실제 헤드라인 : cannot guarantee ad will not show near offensive content google \n",
      "예측 헤드라인 :  google parent alphabet ceo quits amid sexual harassment\n",
      "\n",
      "\n",
      "기사 : indian cricketer mahendra singh dhoni acquired stake chennai based sports tech startup run adam undisclosed amount part deal dhoni serve mentor brand ambassador startup run adam uses technology platform connect athletes resources including sponsors experts coaches specialists among others \n",
      "실제 헤드라인 : ms dhoni acquires stake in sports tech startup run adam \n",
      "예측 헤드라인 :  flipkart acquires indian origin startup raises mn\n",
      "\n",
      "\n"
     ]
    }
   ],
   "source": [
    "for i in range(1, 10):\n",
    "    print(\"기사 :\", seq2text(encoder_input_test[i]))\n",
    "    print(\"실제 헤드라인 :\", seq2summary(decoder_input_test[i]))\n",
    "    print(\"예측 헤드라인 :\", decode_sequence(encoder_input_test[i].reshape(1, text_max_len)))\n",
    "    print(\"\\n\")"
   ]
  },
  {
   "cell_type": "code",
   "execution_count": 50,
   "id": "c3822a70",
   "metadata": {},
   "outputs": [
    {
     "data": {
      "text/html": [
       "<div>\n",
       "<style scoped>\n",
       "    .dataframe tbody tr th:only-of-type {\n",
       "        vertical-align: middle;\n",
       "    }\n",
       "\n",
       "    .dataframe tbody tr th {\n",
       "        vertical-align: top;\n",
       "    }\n",
       "\n",
       "    .dataframe thead th {\n",
       "        text-align: right;\n",
       "    }\n",
       "</style>\n",
       "<table border=\"1\" class=\"dataframe\">\n",
       "  <thead>\n",
       "    <tr style=\"text-align: right;\">\n",
       "      <th></th>\n",
       "      <th>원문</th>\n",
       "      <th>실제 요약</th>\n",
       "      <th>예측 요약</th>\n",
       "    </tr>\n",
       "  </thead>\n",
       "  <tbody>\n",
       "    <tr>\n",
       "      <th>0</th>\n",
       "      <td>bombay high court allowed three ailing com stu...</td>\n",
       "      <td>bombay hc allows students with low attendance ...</td>\n",
       "      <td>hc refuses to stay back to answer marks of neet</td>\n",
       "    </tr>\n",
       "    <tr>\n",
       "      <th>1</th>\n",
       "      <td>flipkart ceo kalyan krishnamurthy said changes...</td>\n",
       "      <td>no change in operating post walmart deal flipk...</td>\n",
       "      <td>flipkart will not be part of flipkart flipkar...</td>\n",
       "    </tr>\n",
       "    <tr>\n",
       "      <th>2</th>\n",
       "      <td>least two people killed others injured wednesd...</td>\n",
       "      <td>gunmen storm save the children office in afgha...</td>\n",
       "      <td>killed in twin bomb attacks in afghanistan</td>\n",
       "    </tr>\n",
       "    <tr>\n",
       "      <th>3</th>\n",
       "      <td>story policewoman breastfeeding month old baby...</td>\n",
       "      <td>policewoman breastfeeds suspect baby while she...</td>\n",
       "      <td>newborn baby baby on newborn baby goes viral</td>\n",
       "    </tr>\n",
       "    <tr>\n",
       "      <th>4</th>\n",
       "      <td>exit polls predicted karnataka face hung assem...</td>\n",
       "      <td>exit polls predict hung assembly in karnataka</td>\n",
       "      <td>no confidence in gujarat assembly polls in taka</td>\n",
       "    </tr>\n",
       "    <tr>\n",
       "      <th>5</th>\n",
       "      <td>death year old boy due dengue sir ganga ram ho...</td>\n",
       "      <td>delhi witnesses its first dengue death this year</td>\n",
       "      <td>death toll in delhi boy dies in days</td>\n",
       "    </tr>\n",
       "    <tr>\n",
       "      <th>6</th>\n",
       "      <td>tokyo olympics paralympics selected elementary...</td>\n",
       "      <td>mascot chosen by children for tokyo olympics u...</td>\n",
       "      <td>indian football team makes trophy themed foot...</td>\n",
       "    </tr>\n",
       "    <tr>\n",
       "      <th>7</th>\n",
       "      <td>google parent company alphabet chairman eric s...</td>\n",
       "      <td>cannot guarantee ad will not show near offensi...</td>\n",
       "      <td>google parent alphabet ceo quits amid sexual ...</td>\n",
       "    </tr>\n",
       "    <tr>\n",
       "      <th>8</th>\n",
       "      <td>indian cricketer mahendra singh dhoni acquired...</td>\n",
       "      <td>ms dhoni acquires stake in sports tech startup...</td>\n",
       "      <td>flipkart acquires indian origin startup raise...</td>\n",
       "    </tr>\n",
       "    <tr>\n",
       "      <th>9</th>\n",
       "      <td>afghanistan fast bowler aftab alam broke conce...</td>\n",
       "      <td>afghan pacer cries after last over loss shoaib...</td>\n",
       "      <td>desh pacer takes wkts for nd straight win in ...</td>\n",
       "    </tr>\n",
       "    <tr>\n",
       "      <th>10</th>\n",
       "      <td>denying reports dating india year old coach ra...</td>\n",
       "      <td>all read today is fiction on reports of dating...</td>\n",
       "      <td>would not like to see shastri on playing shastri</td>\n",
       "    </tr>\n",
       "    <tr>\n",
       "      <th>11</th>\n",
       "      <td>actor ranveer singh portuguese model victoria ...</td>\n",
       "      <td>ranveer and victoria secret angel on vogue ind...</td>\n",
       "      <td>deepika padukone trolled for using his debut</td>\n",
       "    </tr>\n",
       "    <tr>\n",
       "      <th>12</th>\n",
       "      <td>darren lehmann stepped australia head coach af...</td>\n",
       "      <td>lehmann gets new coaching job weeks after ball...</td>\n",
       "      <td>australian cricketers resigns from aus coach</td>\n",
       "    </tr>\n",
       "    <tr>\n",
       "      <th>13</th>\n",
       "      <td>aditya birla group chairman kumar mangalam bir...</td>\n",
       "      <td>ongoing trade wars to have negative impact on ...</td>\n",
       "      <td>india will be among biggest economy in india ...</td>\n",
       "    </tr>\n",
       "    <tr>\n",
       "      <th>14</th>\n",
       "      <td>outgoing congress president sonia gandhi conte...</td>\n",
       "      <td>sonia to contest elections from priyanka</td>\n",
       "      <td>rahul gandhi is my father shiv sena mp</td>\n",
       "    </tr>\n",
       "    <tr>\n",
       "      <th>15</th>\n",
       "      <td>accusing karnataka congress mlas crossing line...</td>\n",
       "      <td>will quit if cong mlas keep crossing the line ...</td>\n",
       "      <td>taka cm vijay rupani are not taka cm</td>\n",
       "    </tr>\n",
       "    <tr>\n",
       "      <th>16</th>\n",
       "      <td>hyderabad indore jet airways flight people boa...</td>\n",
       "      <td>flight makes emergency landing after engine fa...</td>\n",
       "      <td>engine airways plane engine engine emergency ...</td>\n",
       "    </tr>\n",
       "    <tr>\n",
       "      <th>17</th>\n",
       "      <td>facebook messenger launched live location feat...</td>\n",
       "      <td>facebook messenger lets users share live locat...</td>\n",
       "      <td>facebook launches feature to let users share ...</td>\n",
       "    </tr>\n",
       "    <tr>\n",
       "      <th>18</th>\n",
       "      <td>jnu student leader umar khalid filed police co...</td>\n",
       "      <td>gangster said was on hit list umar khalid on d...</td>\n",
       "      <td>fir against hindu group for murder of hindu s...</td>\n",
       "    </tr>\n",
       "    <tr>\n",
       "      <th>19</th>\n",
       "      <td>inspired us politics switzerland based startup...</td>\n",
       "      <td>swiss startup creates dump the trump board game</td>\n",
       "      <td>trump defends us researchers for scientists</td>\n",
       "    </tr>\n",
       "    <tr>\n",
       "      <th>20</th>\n",
       "      <td>brazilian football legend ronaldo used fifa wo...</td>\n",
       "      <td>brazil ronaldo used wc hairstyle to distract m...</td>\n",
       "      <td>neymar not to be named after his world cup</td>\n",
       "    </tr>\n",
       "    <tr>\n",
       "      <th>21</th>\n",
       "      <td>ajay devgn parineeti chopra starrer film golma...</td>\n",
       "      <td>ajay devgn parineeti starrer golmaal again hit...</td>\n",
       "      <td>ajay devgn starrer sanju hits the theatres</td>\n",
       "    </tr>\n",
       "    <tr>\n",
       "      <th>22</th>\n",
       "      <td>bihar government planning ban chewing tobacco ...</td>\n",
       "      <td>bihar govt plans ban on chewing tobacco on hea...</td>\n",
       "      <td>bihar bans sale of liquor ban on</td>\n",
       "    </tr>\n",
       "    <tr>\n",
       "      <th>23</th>\n",
       "      <td>liquor baron vijay mallya arrested london poli...</td>\n",
       "      <td>vijay mallya granted bail within hours of arrest</td>\n",
       "      <td>vijay mallya arrested for stealing crore in</td>\n",
       "    </tr>\n",
       "    <tr>\n",
       "      <th>24</th>\n",
       "      <td>american chipmaker intel unveiled two seater a...</td>\n",
       "      <td>intel unveils flying car with km range</td>\n",
       "      <td>volkswagen to build electric cars that can be in</td>\n",
       "    </tr>\n",
       "    <tr>\n",
       "      <th>25</th>\n",
       "      <td>icc approved increase women world cup prize mo...</td>\n",
       "      <td>icc increases women world cup prize money by t...</td>\n",
       "      <td>icc announces cr for athletes of athletes</td>\n",
       "    </tr>\n",
       "    <tr>\n",
       "      <th>26</th>\n",
       "      <td>study conducted delhi university colleges reve...</td>\n",
       "      <td>harassment fear delhi girls college choice study</td>\n",
       "      <td>du college to be sexually harassed by boys</td>\n",
       "    </tr>\n",
       "    <tr>\n",
       "      <th>27</th>\n",
       "      <td>photo sharing app snapchat monday faced global...</td>\n",
       "      <td>snapchat faces global outage millions of users</td>\n",
       "      <td>instagram faces users to face users face face</td>\n",
       "    </tr>\n",
       "    <tr>\n",
       "      <th>28</th>\n",
       "      <td>south african wicketkeeper quinton de kock mis...</td>\n",
       "      <td>sa keeper de kock gets by bee misses stumping</td>\n",
       "      <td>de kock hits his first time in his th match</td>\n",
       "    </tr>\n",
       "  </tbody>\n",
       "</table>\n",
       "</div>"
      ],
      "text/plain": [
       "                                                   원문  \\\n",
       "0   bombay high court allowed three ailing com stu...   \n",
       "1   flipkart ceo kalyan krishnamurthy said changes...   \n",
       "2   least two people killed others injured wednesd...   \n",
       "3   story policewoman breastfeeding month old baby...   \n",
       "4   exit polls predicted karnataka face hung assem...   \n",
       "5   death year old boy due dengue sir ganga ram ho...   \n",
       "6   tokyo olympics paralympics selected elementary...   \n",
       "7   google parent company alphabet chairman eric s...   \n",
       "8   indian cricketer mahendra singh dhoni acquired...   \n",
       "9   afghanistan fast bowler aftab alam broke conce...   \n",
       "10  denying reports dating india year old coach ra...   \n",
       "11  actor ranveer singh portuguese model victoria ...   \n",
       "12  darren lehmann stepped australia head coach af...   \n",
       "13  aditya birla group chairman kumar mangalam bir...   \n",
       "14  outgoing congress president sonia gandhi conte...   \n",
       "15  accusing karnataka congress mlas crossing line...   \n",
       "16  hyderabad indore jet airways flight people boa...   \n",
       "17  facebook messenger launched live location feat...   \n",
       "18  jnu student leader umar khalid filed police co...   \n",
       "19  inspired us politics switzerland based startup...   \n",
       "20  brazilian football legend ronaldo used fifa wo...   \n",
       "21  ajay devgn parineeti chopra starrer film golma...   \n",
       "22  bihar government planning ban chewing tobacco ...   \n",
       "23  liquor baron vijay mallya arrested london poli...   \n",
       "24  american chipmaker intel unveiled two seater a...   \n",
       "25  icc approved increase women world cup prize mo...   \n",
       "26  study conducted delhi university colleges reve...   \n",
       "27  photo sharing app snapchat monday faced global...   \n",
       "28  south african wicketkeeper quinton de kock mis...   \n",
       "\n",
       "                                                실제 요약  \\\n",
       "0   bombay hc allows students with low attendance ...   \n",
       "1   no change in operating post walmart deal flipk...   \n",
       "2   gunmen storm save the children office in afgha...   \n",
       "3   policewoman breastfeeds suspect baby while she...   \n",
       "4      exit polls predict hung assembly in karnataka    \n",
       "5   delhi witnesses its first dengue death this year    \n",
       "6   mascot chosen by children for tokyo olympics u...   \n",
       "7   cannot guarantee ad will not show near offensi...   \n",
       "8   ms dhoni acquires stake in sports tech startup...   \n",
       "9   afghan pacer cries after last over loss shoaib...   \n",
       "10  all read today is fiction on reports of dating...   \n",
       "11  ranveer and victoria secret angel on vogue ind...   \n",
       "12  lehmann gets new coaching job weeks after ball...   \n",
       "13  ongoing trade wars to have negative impact on ...   \n",
       "14          sonia to contest elections from priyanka    \n",
       "15  will quit if cong mlas keep crossing the line ...   \n",
       "16  flight makes emergency landing after engine fa...   \n",
       "17  facebook messenger lets users share live locat...   \n",
       "18  gangster said was on hit list umar khalid on d...   \n",
       "19   swiss startup creates dump the trump board game    \n",
       "20  brazil ronaldo used wc hairstyle to distract m...   \n",
       "21  ajay devgn parineeti starrer golmaal again hit...   \n",
       "22  bihar govt plans ban on chewing tobacco on hea...   \n",
       "23  vijay mallya granted bail within hours of arrest    \n",
       "24            intel unveils flying car with km range    \n",
       "25  icc increases women world cup prize money by t...   \n",
       "26  harassment fear delhi girls college choice study    \n",
       "27    snapchat faces global outage millions of users    \n",
       "28     sa keeper de kock gets by bee misses stumping    \n",
       "\n",
       "                                                예측 요약  \n",
       "0     hc refuses to stay back to answer marks of neet  \n",
       "1    flipkart will not be part of flipkart flipkar...  \n",
       "2          killed in twin bomb attacks in afghanistan  \n",
       "3        newborn baby baby on newborn baby goes viral  \n",
       "4     no confidence in gujarat assembly polls in taka  \n",
       "5                death toll in delhi boy dies in days  \n",
       "6    indian football team makes trophy themed foot...  \n",
       "7    google parent alphabet ceo quits amid sexual ...  \n",
       "8    flipkart acquires indian origin startup raise...  \n",
       "9    desh pacer takes wkts for nd straight win in ...  \n",
       "10   would not like to see shastri on playing shastri  \n",
       "11       deepika padukone trolled for using his debut  \n",
       "12       australian cricketers resigns from aus coach  \n",
       "13   india will be among biggest economy in india ...  \n",
       "14             rahul gandhi is my father shiv sena mp  \n",
       "15               taka cm vijay rupani are not taka cm  \n",
       "16   engine airways plane engine engine emergency ...  \n",
       "17   facebook launches feature to let users share ...  \n",
       "18   fir against hindu group for murder of hindu s...  \n",
       "19        trump defends us researchers for scientists  \n",
       "20         neymar not to be named after his world cup  \n",
       "21         ajay devgn starrer sanju hits the theatres  \n",
       "22                   bihar bans sale of liquor ban on  \n",
       "23        vijay mallya arrested for stealing crore in  \n",
       "24   volkswagen to build electric cars that can be in  \n",
       "25          icc announces cr for athletes of athletes  \n",
       "26         du college to be sexually harassed by boys  \n",
       "27      instagram faces users to face users face face  \n",
       "28        de kock hits his first time in his th match  "
      ]
     },
     "execution_count": 50,
     "metadata": {},
     "output_type": "execute_result"
    }
   ],
   "source": [
    "samples = []\n",
    "for i in range(1, pred_loop_cnt):\n",
    "    samples.append({\n",
    "        '기사': seq2text(encoder_input_test[i]),\n",
    "        '실제 헤드라인': seq2summary(decoder_input_test[i]),\n",
    "        '예측 헤드라인': decode_sequence(encoder_input_test[i].reshape(1, text_max_len))  \n",
    "    })\n",
    "    \n",
    "pd.DataFrame(samples)"
   ]
  },
  {
   "cell_type": "code",
   "execution_count": 59,
   "id": "b032712c",
   "metadata": {
    "scrolled": true
   },
   "outputs": [
    {
     "name": "stdout",
     "output_type": "stream",
     "text": [
      "📊 평균 ROUGE 점수\n",
      "ROUGE-1 F1: 0.1824\n",
      "ROUGE-2 F1: 0.0292\n",
      "ROUGE-L F1: 0.1729\n"
     ]
    }
   ],
   "source": [
    "from rouge import Rouge\n",
    "\n",
    "\n",
    "rouge = Rouge()\n",
    "\n",
    "all_scores = []\n",
    "results = []\n",
    "\n",
    "for i in range(1, pred_loop_cnt):\n",
    "    ref = seq2summary(decoder_input_test[i])\n",
    "    pred = decode_sequence(encoder_input_test[i].reshape(1, text_max_len))\n",
    "\n",
    "    if ref.strip() == \"\" or pred.strip() == \"\":\n",
    "        continue\n",
    "\n",
    "    score = rouge.get_scores(pred, ref)[0]\n",
    "    all_scores.append(score)\n",
    "    \n",
    "    results.append({\n",
    "        'Index': i,\n",
    "        'ROUGE-1': score['rouge-1']['f'],\n",
    "        'ROUGE-2': score['rouge-2']['f'],\n",
    "        'ROUGE-L': score['rouge-l']['f']\n",
    "    })\n",
    "\n",
    "rouge_1 = np.mean([s['rouge-1']['f'] for s in all_scores])\n",
    "rouge_2 = np.mean([s['rouge-2']['f'] for s in all_scores])\n",
    "rouge_l = np.mean([s['rouge-l']['f'] for s in all_scores])\n",
    "\n",
    "print(\"📊 평균 ROUGE 점수\")\n",
    "print(f\"ROUGE-1 F1: {rouge_1:.4f}\")\n",
    "print(f\"ROUGE-2 F1: {rouge_2:.4f}\")\n",
    "print(f\"ROUGE-L F1: {rouge_l:.4f}\")   \n",
    "\n"
   ]
  },
  {
   "cell_type": "markdown",
   "id": "b318b0b9",
   "metadata": {},
   "source": [
    "ROUGE 종류\t좋은 점수 기준 (대략)\n",
    "ROUGE-1\t0.4 ~ 0.5 이상이면 양호\n",
    "ROUGE-2\t0.2 ~ 0.3 이상이면 괜찮음 (엄격)\n",
    "ROUGE-L\t0.3 ~ 0.4 이상이면 준수\n",
    "\n",
    "ROUGE-2가 낮은 건 자연스러움 부족 or 단어 배열 정확도 부족\n",
    "ROUGE-L이 높으면 핵심 구조는 잘 잡았다는 의미\n",
    "\n",
    "--> 별로 좋지 않은 결과임"
   ]
  },
  {
   "cell_type": "code",
   "execution_count": 60,
   "id": "1e65fcf9",
   "metadata": {},
   "outputs": [
    {
     "data": {
      "image/png": "[encoded data removed]",
      "text/plain": [
       "<Figure size 864x432 with 1 Axes>"
      ]
     },
     "metadata": {
      "needs_background": "light"
     },
     "output_type": "display_data"
    }
   ],
   "source": [
    "df = pd.DataFrame(results)\n",
    "import seaborn as sns\n",
    "\n",
    "plt.figure(figsize=(12, 6))\n",
    "sns.boxplot(data=df[['ROUGE-1', 'ROUGE-2', 'ROUGE-L']])\n",
    "plt.title(\"ROUGE Score Distribution\")\n",
    "plt.show()"
   ]
  },
  {
   "cell_type": "markdown",
   "id": "f93fdb2f",
   "metadata": {},
   "source": [
    "# 2. Summa을 이용해서 추출적 요약해보기"
   ]
  },
  {
   "cell_type": "code",
   "execution_count": 72,
   "id": "283f7da6",
   "metadata": {},
   "outputs": [
    {
     "name": "stdout",
     "output_type": "stream",
     "text": [
      "0    Saurav Kant, an alumnus of upGrad and IIIT-B's...\n",
      "1    Kunal Shah's credit card bill payment platform...\n",
      "2    New Zealand defeated India by 8 wickets in the...\n",
      "3    With Aegon Life iTerm Insurance plan, customer...\n",
      "4    Speaking about the sexual harassment allegatio...\n",
      "5    Pakistani singer Rahat Fateh Ali Khan has deni...\n",
      "6    India recorded their lowest ODI total in New Z...\n",
      "7    Weeks after ex-CBI Director Alok Verma told th...\n",
      "8    Andhra Pradesh CM N Chandrababu Naidu has said...\n",
      "9    Congress candidate Shafia Zubair won the Ramga...\n",
      "Name: text, dtype: object\n"
     ]
    }
   ],
   "source": [
    "urllib.request.urlretrieve(\"https://raw.githubusercontent.com/sunnysai12345/News_Summary/master/news_summary_more.csv\", filename=\"news_summary_more.csv\")\n",
    "summa_data = pd.read_csv('news_summary_more.csv', encoding='iso-8859-1')\n",
    "\n",
    "text = summa_data['text']\n",
    "headline = summa_data['headlines']\n",
    "print(text[:10])"
   ]
  },
  {
   "cell_type": "markdown",
   "id": "a8ccb0c8",
   "metadata": {},
   "source": [
    "- Summa의 summarize()의 인자로 사용되는 값들\n",
    "text (str) : 요약할 테스트.\n",
    "ratio (float, optional) – 요약문에서 원본에서 선택되는 문장 비율. 0~1 사이값\n",
    "words (int or None, optional) – 출력에 포함할 단어 수.\n",
    "만약, ratio와 함께 두 파라미터가 모두 제공되는 경우 ratio는 무시한다.\n",
    "split (bool, optional) – True면 문장 list / False는 조인(join)된 문자열을 반환"
   ]
  },
  {
   "cell_type": "code",
   "execution_count": 64,
   "id": "a77c00cd",
   "metadata": {},
   "outputs": [
    {
     "name": "stdout",
     "output_type": "stream",
     "text": [
      "<class 'pandas.core.series.Series'>\n"
     ]
    }
   ],
   "source": [
    "print(type(text))"
   ]
  },
  {
   "cell_type": "code",
   "execution_count": 68,
   "id": "e20a7c17",
   "metadata": {},
   "outputs": [
    {
     "name": "stdout",
     "output_type": "stream",
     "text": [
      "Summary:\n",
      "\n"
     ]
    }
   ],
   "source": [
    "from summa.summarizer import summarize\n",
    "\n",
    "# Series 전체를 하나의 긴 문자열로 연결\n",
    "#long_text = \" \".join(text.dropna().astype(str).tolist())\n",
    "\n",
    "#print('Summary:')\n",
    "#print(summarize(long_text, ratio=0.5))"
   ]
  },
  {
   "cell_type": "code",
   "execution_count": 85,
   "id": "a2a0fb97",
   "metadata": {},
   "outputs": [
    {
     "name": "stdout",
     "output_type": "stream",
     "text": [
      "기사 : Kunal Shah's credit card bill payment platform, CRED, gave users a chance to win free food from Swiggy for one year. Pranav Kaushik, a Delhi techie, bagged this reward after spending 2000 CRED coins. Users get one CRED coin per rupee of bill paid, which can be used to avail rewards from brands like Ixigo, BookMyShow, UberEats, Cult.Fit and more.\n",
      "실제 헤드라인 : Delhi techie wins free food from Swiggy for one year on CRED\n",
      "요약 헤드라인 : Users get one CRED coin per rupee of bill paid, which can be used to avail rewards from brands like Ixigo, BookMyShow, UberEats, Cult.Fit and more.\n",
      "\n",
      "\n",
      "기사 : New Zealand defeated India by 8 wickets in the fourth ODI at Hamilton on Thursday to win their first match of the five-match ODI series. India lost an international match under Rohit Sharma's captaincy after 12 consecutive victories dating back to March 2018. The match witnessed India getting all out for 92, their seventh lowest total in ODI cricket history.\n",
      "실제 헤드라인 : New Zealand end Rohit Sharma-led India's 12-match winning streak\n",
      "요약 헤드라인 : The match witnessed India getting all out for 92, their seventh lowest total in ODI cricket history.\n",
      "\n",
      "\n",
      "기사 : With Aegon Life iTerm Insurance plan, customers can enjoy tax benefits on your premiums paid and save up to Ã¢ÂÂ¹46,800^ on taxes. The plan provides life cover up to the age of 100 years. Also, customers have options to insure against Critical Illnesses, Disability and Accidental Death Benefit Rider with a life cover up to the age of 80 years.\n",
      "실제 헤드라인 : Aegon life iTerm insurance plan helps customers save tax\n",
      "요약 헤드라인 : Also, customers have options to insure against Critical Illnesses, Disability and Accidental Death Benefit Rider with a life cover up to the age of 80 years.\n",
      "\n",
      "\n",
      "기사 : Speaking about the sexual harassment allegations against Rajkumar Hirani, Sonam Kapoor said, \"I've known Hirani for many years...What if it's not true, the [#MeToo] movement will get derailed.\" \"In the #MeToo movement, I always believe a woman. But in this case, we need to reserve our judgment,\" she added. Hirani has been accused by an assistant who worked in 'Sanju'.\n",
      "실제 헤드라인 : Have known Hirani for yrs, what if MeToo claims are not true: Sonam\n",
      "요약 헤드라인 : Speaking about the sexual harassment allegations against Rajkumar Hirani, Sonam Kapoor said, \"I've known Hirani for many years...What if it's not true, the [#MeToo] movement will get derailed.\" \"In the #MeToo movement, I always believe a woman.\n",
      "\n",
      "\n",
      "기사 : Pakistani singer Rahat Fateh Ali Khan has denied receiving any notice from the Enforcement Directorate over allegedly smuggling foreign currency out of India. \"It would have been better if the authorities would have served the notice first if any and then publicised this,\" reads a press release issued on behalf of Rahat. The statement further called the allegation \"bizarre\".\n",
      "실제 헤드라인 : Rahat Fateh Ali Khan denies getting notice for smuggling currency\n",
      "요약 헤드라인 : Pakistani singer Rahat Fateh Ali Khan has denied receiving any notice from the Enforcement Directorate over allegedly smuggling foreign currency out of India.\n",
      "\n",
      "\n",
      "기사 : India recorded their lowest ODI total in New Zealand after getting all out for 92 runs in 30.5 overs in the fourth ODI at Hamilton on Thursday. Seven of India's batsmen were dismissed for single-digit scores, while their number ten batsman Yuzvendra Chahal top-scored with 18*(37). India's previous lowest ODI total in New Zealand was 108.\n",
      "실제 헤드라인 : India get all out for 92, their lowest ODI total in New Zealand\n",
      "요약 헤드라인 : India's previous lowest ODI total in New Zealand was 108.\n",
      "\n",
      "\n",
      "기사 : Weeks after ex-CBI Director Alok Verma told the Department of Personnel and Training to consider him retired, the Home Ministry asked him to join work on the last day of his fixed tenure as Director on Thursday. The ministry directed him to immediately join as DG, Fire Services, the post he was transferred to after his removal as CBI chief.\n",
      "실제 헤드라인 : Govt directs Alok Verma to join work 1 day before his retirement\n",
      "요약 헤드라인 : Weeks after ex-CBI Director Alok Verma told the Department of Personnel and Training to consider him retired, the Home Ministry asked him to join work on the last day of his fixed tenure as Director on Thursday.\n",
      "\n",
      "\n",
      "기사 : Andhra Pradesh CM N Chandrababu Naidu has said, \"When I met then US President Bill Clinton, I addressed him as Mr Clinton, not as 'sir'. (PM Narendra) Modi is my junior in politics...I addressed him as sir 10 times.\" \"I did this...to satisfy his ego in the hope that he will do justice to the state,\" he added.\n",
      "실제 헤드라인 : Called PM Modi 'sir' 10 times to satisfy his ego: Andhra CM\n",
      "요약 헤드라인 : Andhra Pradesh CM N Chandrababu Naidu has said, \"When I met then US President Bill Clinton, I addressed him as Mr Clinton, not as 'sir'.\n",
      "\n",
      "\n",
      "기사 : Congress candidate Shafia Zubair won the Ramgarh Assembly seat in Rajasthan, by defeating BJP's Sukhwant Singh with a margin of 12,228 votes in the bypoll. With this victory, Congress has taken its total to 100 seats in the 200-member assembly. The election to the Ramgarh seat was delayed due to the death of sitting MLA and BSP candidate Laxman Singh.\n",
      "실제 헤드라인 : Cong wins Ramgarh bypoll in Rajasthan, takes total to 100 seats\n",
      "요약 헤드라인 : Congress candidate Shafia Zubair won the Ramgarh Assembly seat in Rajasthan, by defeating BJP's Sukhwant Singh with a margin of 12,228 votes in the bypoll.\n",
      "\n",
      "\n"
     ]
    }
   ],
   "source": [
    "from summa.summarizer import summarize\n",
    "\n",
    "text = summa_data['text']\n",
    "headline = summa_data['headlines']\n",
    "\n",
    "all_scores = []\n",
    "summa_results = []\n",
    "\n",
    "for i in range(1, pred_loop_cnt):\n",
    "    ref = str(text[i]).strip()\n",
    "    pred = summarize( ref, ratio=0.5 )\n",
    "    #pred = summarize( ref, words=20 )\n",
    "    \n",
    "    if( i< 10):\n",
    "        print(\"기사 :\", ref)\n",
    "        print(\"실제 헤드라인 :\", headline[i])\n",
    "        print(\"요약 헤드라인 :\", pred)\n",
    "        print(\"\\n\")\n",
    "  \n",
    "\n",
    "    if ref.strip() == \"\" or pred.strip() == \"\":\n",
    "        continue\n",
    "\n",
    "    score = rouge.get_scores(pred, ref)[0]\n",
    "    all_scores.append(score)\n",
    "    \n",
    "    summa_results.append({\n",
    "        'Index': i,\n",
    "        'ROUGE-1': score['rouge-1']['f'],\n",
    "        'ROUGE-2': score['rouge-2']['f'],\n",
    "        'ROUGE-L': score['rouge-l']['f']\n",
    "    })"
   ]
  },
  {
   "cell_type": "code",
   "execution_count": 86,
   "id": "0e5d53d7",
   "metadata": {},
   "outputs": [
    {
     "name": "stdout",
     "output_type": "stream",
     "text": [
      "📊 평균 ROUGE 점수\n",
      "ROUGE-1 F1: 0.6007\n",
      "ROUGE-2 F1: 0.5496\n",
      "ROUGE-L F1: 0.6007\n"
     ]
    },
    {
     "data": {
      "image/png": "[encoded data removed]",
      "text/plain": [
       "<Figure size 864x432 with 1 Axes>"
      ]
     },
     "metadata": {
      "needs_background": "light"
     },
     "output_type": "display_data"
    }
   ],
   "source": [
    "rouge_1 = np.mean([s['rouge-1']['f'] for s in all_scores])\n",
    "rouge_2 = np.mean([s['rouge-2']['f'] for s in all_scores])\n",
    "rouge_l = np.mean([s['rouge-l']['f'] for s in all_scores])\n",
    "\n",
    "print(\"📊 평균 ROUGE 점수\")\n",
    "print(f\"ROUGE-1 F1: {rouge_1:.4f}\")\n",
    "print(f\"ROUGE-2 F1: {rouge_2:.4f}\")\n",
    "print(f\"ROUGE-L F1: {rouge_l:.4f}\")  \n",
    "\n",
    "df = pd.DataFrame(summa_results)\n",
    "import seaborn as sns\n",
    "\n",
    "plt.figure(figsize=(12, 6))\n",
    "sns.boxplot(data=df[['ROUGE-1', 'ROUGE-2', 'ROUGE-L']])\n",
    "plt.title(\"ROUGE Score Distribution\")\n",
    "plt.show()"
   ]
  },
  {
   "cell_type": "markdown",
   "id": "efc0c000",
   "metadata": {},
   "source": [
    "# [ 회고 ]"
   ]
  },
  {
   "cell_type": "markdown",
   "id": "0e7982ad",
   "metadata": {},
   "source": [
    "| 항목               | Extractive 요약                               | Abstractive 요약                    |\n",
    "|--------------------|-----------------------------------------------|------------------------------------|\n",
    "| 문법 완성도        | 자연스럽지만 약간 어색하고 투박함             | 문법적을 간결하지만 아직 요약 성능이 안좋음 |\n",
    "| 핵심 단어 포함 정도| 문장내에서 핵심 단어 추출함                   | 핵심단어를 아직 포함하지 못함      |\n",
    "| ROUTE-L 점수       | 0.6007                                        | 0.1729                             |\n"
   ]
  },
  {
   "cell_type": "markdown",
   "id": "ab3236ce",
   "metadata": {},
   "source": [
    "기사 : bombay high court allowed three ailing com students appear exams despite low attendance exceptional medical grounds students filed petition college barred exams maintaining required attendance students reportedly could attend classes regularly one cancer others met accidents \n",
    "실제 헤드라인 : bombay hc allows students with low attendance to give exam \n",
    "예측 헤드라인 :  hc refuses to stay back to answer marks of neet"
   ]
  },
  {
   "cell_type": "markdown",
   "id": "c43443b2",
   "metadata": {},
   "source": [
    "봄베이 고등법원은 출석률이 낮음에도 불구하고 병든 com 학생 3명의 시험 응시를 허용했습니다. 예외적인 의학적 근거로 학생들은 필수 출석 학생들이 정기적으로 수업에 참석할 수 있도록 요구하는 시험을 금지하는 청원서를 제출했습니다\n",
    "\n",
    "봄베이 hc는 출석률이 낮은 학생들이 시험을 볼 수 있도록 합니다\n",
    "\n",
    "hc는 그물 자국에 대한 답변을 거부합니다"
   ]
  },
  {
   "cell_type": "markdown",
   "id": "d13b3815",
   "metadata": {},
   "source": [
    "기사 : Kunal Shah's credit card bill payment platform, CRED, gave users a chance to win free food from Swiggy for one year. Pranav Kaushik, a Delhi techie, bagged this reward after spending 2000 CRED coins. Users get one CRED coin per rupee of bill paid, which can be used to avail rewards from brands like Ixigo, BookMyShow, UberEats, Cult.Fit and more.\n",
    "실제 헤드라인 : Delhi techie wins free food from Swiggy for one year on CRED\n",
    "요약 헤드라인 : Users get one CRED coin per rupee of bill paid, which can be used to avail rewards from brands like Ixigo, BookMyShow, UberEats, Cult.Fit and more."
   ]
  },
  {
   "cell_type": "markdown",
   "id": "92710ab5",
   "metadata": {},
   "source": [
    "쿠날 샤의 신용카드 청구서 결제 플랫폼인 CRED는 사용자에게 Swiggy로부터 1년 동안 무료 음식을 받을 수 있는 기회를 제공했습니다. 델리의 기술자 프라나브 카우식은 2000개의 CRED 코인을 사용한 후 이 보상을 받았습니다. 사용자는 청구서 결제 루피당 한 개의 CRED 코인을 받게 되며, 이를 통해 Ixigo, BookMyShow, UberEats, Cult.Fit 등의 브랜드에서 보상을 받을 수 있습니다\n",
    "\n",
    "델리 테크니, 스위기로부터 1년간 무료 식품 제공 CRED 획득\n",
    "\n",
    "사용자는 청구서 루피당 한 개의 CRED 코인을 지급받으며, 이를 통해 익시고, 북마이쇼, 우버이츠, 컬트핏 등의 브랜드에서 보상을 받을 수 있습니다\n",
    "\n"
   ]
  }
 ],
 "metadata": {
  "kernelspec": {
   "display_name": "Python 3 (ipykernel)",
   "language": "python",
   "name": "python3"
  },
  "language_info": {
   "codemirror_mode": {
    "name": "ipython",
    "version": 3
   },
   "file_extension": ".py",
   "mimetype": "text/x-python",
   "name": "python",
   "nbconvert_exporter": "python",
   "pygments_lexer": "ipython3",
   "version": "3.9.7"
  }
 },
 "nbformat": 4,
 "nbformat_minor": 5
}
