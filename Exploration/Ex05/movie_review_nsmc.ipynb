{
 "cells": [
  {
   "cell_type": "code",
   "execution_count": 2,
   "id": "518de628",
   "metadata": {
    "scrolled": true
   },
   "outputs": [
    {
     "name": "stdout",
     "output_type": "stream",
     "text": [
      "1.3.3\n",
      "0.5.2\n",
      "4.1.2\n"
     ]
    }
   ],
   "source": [
    "import pandas\n",
    "import konlpy\n",
    "import gensim\n",
    "\n",
    "print(pandas.__version__)\n",
    "print(konlpy.__version__)\n",
    "print(gensim.__version__)"
   ]
  },
  {
   "cell_type": "markdown",
   "id": "5ed61fc1",
   "metadata": {},
   "source": [
    "## 1) 데이터 준비 (한글)"
   ]
  },
  {
   "cell_type": "code",
   "execution_count": 3,
   "id": "587e46c3",
   "metadata": {
    "scrolled": true
   },
   "outputs": [
    {
     "data": {
      "text/html": [
       "<div>\n",
       "<style scoped>\n",
       "    .dataframe tbody tr th:only-of-type {\n",
       "        vertical-align: middle;\n",
       "    }\n",
       "\n",
       "    .dataframe tbody tr th {\n",
       "        vertical-align: top;\n",
       "    }\n",
       "\n",
       "    .dataframe thead th {\n",
       "        text-align: right;\n",
       "    }\n",
       "</style>\n",
       "<table border=\"1\" class=\"dataframe\">\n",
       "  <thead>\n",
       "    <tr style=\"text-align: right;\">\n",
       "      <th></th>\n",
       "      <th>id</th>\n",
       "      <th>document</th>\n",
       "      <th>label</th>\n",
       "    </tr>\n",
       "  </thead>\n",
       "  <tbody>\n",
       "    <tr>\n",
       "      <th>0</th>\n",
       "      <td>9976970</td>\n",
       "      <td>아 더빙.. 진짜 짜증나네요 목소리</td>\n",
       "      <td>0</td>\n",
       "    </tr>\n",
       "    <tr>\n",
       "      <th>1</th>\n",
       "      <td>3819312</td>\n",
       "      <td>흠...포스터보고 초딩영화줄....오버연기조차 가볍지 않구나</td>\n",
       "      <td>1</td>\n",
       "    </tr>\n",
       "    <tr>\n",
       "      <th>2</th>\n",
       "      <td>10265843</td>\n",
       "      <td>너무재밓었다그래서보는것을추천한다</td>\n",
       "      <td>0</td>\n",
       "    </tr>\n",
       "    <tr>\n",
       "      <th>3</th>\n",
       "      <td>9045019</td>\n",
       "      <td>교도소 이야기구먼 ..솔직히 재미는 없다..평점 조정</td>\n",
       "      <td>0</td>\n",
       "    </tr>\n",
       "    <tr>\n",
       "      <th>4</th>\n",
       "      <td>6483659</td>\n",
       "      <td>사이몬페그의 익살스런 연기가 돋보였던 영화!스파이더맨에서 늙어보이기만 했던 커스틴 ...</td>\n",
       "      <td>1</td>\n",
       "    </tr>\n",
       "  </tbody>\n",
       "</table>\n",
       "</div>"
      ],
      "text/plain": [
       "         id                                           document  label\n",
       "0   9976970                                아 더빙.. 진짜 짜증나네요 목소리      0\n",
       "1   3819312                  흠...포스터보고 초딩영화줄....오버연기조차 가볍지 않구나      1\n",
       "2  10265843                                  너무재밓었다그래서보는것을추천한다      0\n",
       "3   9045019                      교도소 이야기구먼 ..솔직히 재미는 없다..평점 조정      0\n",
       "4   6483659  사이몬페그의 익살스런 연기가 돋보였던 영화!스파이더맨에서 늙어보이기만 했던 커스틴 ...      1"
      ]
     },
     "execution_count": 3,
     "metadata": {},
     "output_type": "execute_result"
    }
   ],
   "source": [
    "import pandas as pd\n",
    "\n",
    "# 데이터를 읽어봅시다. \n",
    "train_data = pd.read_table('~/aiffel/sentiment_classification/data/ratings_train.txt')\n",
    "test_data = pd.read_table('~/aiffel/sentiment_classification/data/ratings_test.txt')\n",
    "\n",
    "train_data.head()"
   ]
  },
  {
   "cell_type": "markdown",
   "id": "76b569be",
   "metadata": {},
   "source": [
    "## 2) 데이터로더 구성"
   ]
  },
  {
   "cell_type": "markdown",
   "id": "b7c553ed",
   "metadata": {},
   "source": [
    "** data_loader ** \n",
    "데이터의 중복 제거\n",
    "NaN 결측치 제거\n",
    "한국어 토크나이저로 토큰화\n",
    "불용어(Stopwords) 제거\n",
    "사전word_to_index 구성\n",
    "텍스트 스트링을 사전 인덱스 스트링으로 변환\n",
    "X_train, y_train, X_test, y_test, word_to_index 리턴"
   ]
  },
  {
   "cell_type": "code",
   "execution_count": 4,
   "id": "e0a0a6be",
   "metadata": {},
   "outputs": [],
   "source": [
    "from konlpy.tag import Mecab\n",
    "import numpy as np\n",
    "from collections import Counter\n",
    "\n",
    "# Mecab : 형태소 분석기\n",
    "#         형태소 추출(morphs), 명사 추출, 형태소와 태그 추출 \n",
    "tokenizer = Mecab()\n",
    "stopwords = ['의','가','이','은','들','는','좀','잘','걍','과','도','를','으로','자','에','와','한','하다']\n",
    "\n",
    "vocab_size = 10000    # 어휘 사전의 크기입니다(10,000개의 단어)\n",
    "\n",
    "def load_data(train_data, test_data, num_words=10000):\n",
    "   \n",
    "    # document part에서, 중보 제거 및 null 제거\n",
    "    train_data.drop_duplicates(subset=['document'], inplace=True)\n",
    "    train_data = train_data.dropna(how = 'any') \n",
    "    test_data.drop_duplicates(subset=['document'], inplace=True)\n",
    "    test_data = test_data.dropna(how = 'any') \n",
    "    \n",
    "    \n",
    "    # Mecab 형태소 분석기를 사용해서, 형태소 추출(morphs)\n",
    "    x_train = []\n",
    "    for sentence in train_data['document']:\n",
    "        temp_X = tokenizer.morphs(sentence) # 토큰화\n",
    "        temp_X = [word for word in temp_X if not word in stopwords] # 불용어 제거\n",
    "        x_train.append(temp_X)\n",
    "\n",
    "    x_test = []\n",
    "    for sentence in test_data['document']:\n",
    "        temp_X = tokenizer.morphs(sentence) # 토큰화\n",
    "        temp_X = [word for word in temp_X if not word in stopwords] # 불용어 제거\n",
    "        x_test.append(temp_X)\n",
    "    \n",
    "    # 빈도수가 높은 순으로 vocabulary를 만들자. \n",
    "    # 1) Flattens the list of words\n",
    "    words = np.concatenate(x_train).tolist()\n",
    "    \n",
    "    # 2) Counts word frequencies and gets the top num_words - 4\n",
    "    counter = Counter(words)\n",
    "    counter = counter.most_common(num_words-4)\n",
    "    \n",
    "    # 3) Vocabulary Indexing (0~3 : reserved)\n",
    "    # word_to_index[\"<PAD>\"] = 0\n",
    "    # word_to_index[\"<BOS>\"] = 1\n",
    "    # word_to_index[\"<UNK>\"] = 2  # unknown\n",
    "    # word_to_index[\"<UNUSED>\"] = 3\n",
    "    # 자준 나온 단어들 순서대로 word_to_index 구성\n",
    "    vocab = ['', '', '', ''] + [key for key, _ in counter]\n",
    "    word_to_index = {word:index for index, word in enumerate(vocab)}\n",
    "    \n",
    "    \n",
    "    # X_train의 단어들을 vaca_index 값으로 변경\n",
    "    def wordlist_to_indexlist(wordlist):\n",
    "        return [word_to_index[word] if word in word_to_index else word_to_index[''] for word in wordlist]\n",
    "        \n",
    "    X_train = list(map(wordlist_to_indexlist, x_train))\n",
    "    X_test = list(map(wordlist_to_indexlist, x_test))\n",
    "        \n",
    "    return X_train, np.array(list(train_data['label'])), X_test, np.array(list(test_data['label'])), word_to_index\n",
    "\n",
    "\n",
    "X_train, y_train, X_test, y_test, word_to_index = load_data(train_data, test_data)\n",
    "\n",
    "word_to_index[\"<PAD>\"] = 0\n",
    "word_to_index[\"<BOS>\"] = 1\n",
    "word_to_index[\"<UNK>\"] = 2  # unknown\n",
    "word_to_index[\"<UNUSED>\"] = 3"
   ]
  },
  {
   "cell_type": "code",
   "execution_count": 5,
   "id": "217944e2",
   "metadata": {},
   "outputs": [],
   "source": [
    "# index to word\n",
    "index_to_word = {index:word for word, index in word_to_index.items()}"
   ]
  },
  {
   "cell_type": "code",
   "execution_count": 6,
   "id": "4cf3f118",
   "metadata": {},
   "outputs": [],
   "source": [
    "# 문장 1개를 활용할 딕셔너리와 함께 주면, 단어 인덱스 리스트 벡터로 변환해 주는 함수입니다. \n",
    "# 단, 모든 문장은 <BOS>로 시작하는 것으로 합니다. \n",
    "def get_encoded_sentence(sentence, word_to_index):\n",
    "    return [word_to_index['<BOS>']]+[word_to_index[word] if word in word_to_index else word_to_index['<UNK>'] for word in sentence.split()]\n",
    "\n",
    "# 여러 개의 문장 리스트를 한꺼번에 단어 인덱스 리스트 벡터로 encode해 주는 함수입니다. \n",
    "def get_encoded_sentences(sentences, word_to_index):\n",
    "    return [get_encoded_sentence(sentence, word_to_index) for sentence in sentences]\n",
    "\n",
    "# 숫자 벡터로 encode된 문장을 원래대로 decode하는 함수입니다. \n",
    "def get_decoded_sentence(encoded_sentence, index_to_word):\n",
    "    return ' '.join(index_to_word[index] if index in index_to_word else '<UNK>' for index in encoded_sentence[1:])  #[1:]를 통해 <BOS>를 제외\n",
    "\n",
    "# 여러 개의 숫자 벡터로 encode된 문장을 한꺼번에 원래대로 decode하는 함수입니다. \n",
    "def get_decoded_sentences(encoded_sentences, index_to_word):\n",
    "    return [get_decoded_sentence(encoded_sentence, index_to_word) for encoded_sentence in encoded_sentences]"
   ]
  },
  {
   "cell_type": "markdown",
   "id": "67691b2f",
   "metadata": {},
   "source": [
    "## 3) 데이터 분석 및 가공"
   ]
  },
  {
   "cell_type": "markdown",
   "id": "5a58cc8c",
   "metadata": {},
   "source": [
    "데이터셋 내 문장 길이 분포\n",
    "적절한 최대 문장 길이 지정\n",
    "keras.preprocessing.sequence.pad_sequences 을 활용한 패딩 추가"
   ]
  },
  {
   "cell_type": "code",
   "execution_count": 7,
   "id": "20f4f7e0",
   "metadata": {},
   "outputs": [
    {
     "name": "stdout",
     "output_type": "stream",
     "text": [
      "195339\n",
      "문장길이 평균 :  15.96940191154864\n",
      "문장길이 최대 :  116\n",
      "문장길이 표준편차 :  12.843571191092\n",
      "pad_sequences maxlen :  41\n",
      "전체 문장의 0.9342988343341575%가 maxlen 설정값 이내에 포함됩니다. \n"
     ]
    }
   ],
   "source": [
    "# 전체 문장\n",
    "total_data_text = list(X_train) + list(X_test)\n",
    "print(len(total_data_text) )\n",
    "\n",
    "# 한 문장의 길이를  num_tokens에 저장\n",
    "num_tokens = [len(tokens) for tokens in total_data_text]\n",
    "# array로 변환\n",
    "num_tokens = np.array(num_tokens)\n",
    "\n",
    "# 문장길이의 평균값, 최대값, 표준편차를 계산해 본다. \n",
    "print('문장길이 평균 : ', np.mean(num_tokens))\n",
    "print('문장길이 최대 : ', np.max(num_tokens))\n",
    "print('문장길이 표준편차 : ', np.std(num_tokens))\n",
    "\n",
    "# 예를들어, 최대 길이를 (평균 + 2*표준편차)로 한다면,  \n",
    "max_tokens = np.mean(num_tokens) + 2 * np.std(num_tokens)\n",
    "maxlen = int(max_tokens)\n",
    "print('pad_sequences maxlen : ', maxlen)\n",
    "print(f'전체 문장의 {np.sum(num_tokens < max_tokens) / len(num_tokens)}%가 maxlen 설정값 이내에 포함됩니다. ')"
   ]
  },
  {
   "cell_type": "code",
   "execution_count": 8,
   "id": "02e7049a",
   "metadata": {},
   "outputs": [
    {
     "name": "stdout",
     "output_type": "stream",
     "text": [
      "(146182, 41)\n",
      "(49157, 41)\n"
     ]
    }
   ],
   "source": [
    "import tensorflow as tf\n",
    "\n",
    "X_train = tf.keras.preprocessing.sequence.pad_sequences(X_train,\n",
    "                                                        value=word_to_index[\"<PAD>\"],\n",
    "                                                        padding='pre', # 혹은 'pre' 'post'\n",
    "                                                        maxlen=maxlen)\n",
    "\n",
    "X_test = tf.keras.preprocessing.sequence.pad_sequences(X_test,\n",
    "                                                       value=word_to_index[\"<PAD>\"],\n",
    "                                                       padding='pre', # 혹은 'pre' 'post'\n",
    "                                                       maxlen=maxlen)\n",
    "\n",
    "print(X_train.shape)\n",
    "print(X_test.shape)"
   ]
  },
  {
   "cell_type": "markdown",
   "id": "f38f371a",
   "metadata": {},
   "source": [
    "## 4) 모델 구성 및 validation set 구성"
   ]
  },
  {
   "cell_type": "code",
   "execution_count": 9,
   "id": "01d81ec2",
   "metadata": {},
   "outputs": [
    {
     "name": "stdout",
     "output_type": "stream",
     "text": [
      "(76182, 41)\n",
      "(76182,)\n"
     ]
    }
   ],
   "source": [
    "# validation set 30000건 분리\n",
    "x_val = X_train[:70000]   \n",
    "y_val = y_train[:70000]\n",
    "\n",
    "# validation set을 제외한 나머지 \n",
    "partial_x_train = X_train[70000:]  \n",
    "partial_y_train = y_train[70000:]\n",
    "\n",
    "print(partial_x_train.shape)\n",
    "print(partial_y_train.shape)"
   ]
  },
  {
   "cell_type": "markdown",
   "id": "61eacbb2",
   "metadata": {},
   "source": [
    "**LSTM Model**"
   ]
  },
  {
   "cell_type": "code",
   "execution_count": 10,
   "id": "ce5ddc9e",
   "metadata": {},
   "outputs": [
    {
     "name": "stdout",
     "output_type": "stream",
     "text": [
      "Model: \"sequential\"\n",
      "_________________________________________________________________\n",
      "Layer (type)                 Output Shape              Param #   \n",
      "=================================================================\n",
      "embedding (Embedding)        (None, None, 16)          160000    \n",
      "_________________________________________________________________\n",
      "lstm (LSTM)                  (None, 32)                6272      \n",
      "_________________________________________________________________\n",
      "dense (Dense)                (None, 8)                 264       \n",
      "_________________________________________________________________\n",
      "dense_1 (Dense)              (None, 1)                 9         \n",
      "=================================================================\n",
      "Total params: 166,545\n",
      "Trainable params: 166,545\n",
      "Non-trainable params: 0\n",
      "_________________________________________________________________\n"
     ]
    }
   ],
   "source": [
    "vocab_size = 10000    # 어휘 사전의 크기입니다(10,000개의 단어)\n",
    "word_vector_dim = 16  # 워드 벡터의 차원 수 (변경 가능한 하이퍼파라미터)\n",
    "\n",
    "# model 설계 - 딥러닝 모델 코드를 직접 작성해 주세요.\n",
    "model_lstm = tf.keras.Sequential()\n",
    "model_lstm.add(tf.keras.layers.Embedding(vocab_size, word_vector_dim, input_shape=(None,)))\n",
    "model_lstm.add(tf.keras.layers.LSTM(32))   \n",
    "model_lstm.add(tf.keras.layers.Dense(8, activation='relu'))\n",
    "model_lstm.add(tf.keras.layers.Dense(1, activation='sigmoid'))  # 최종 출력은 긍정/부정을 나타내는 1dim 입니다.\n",
    "\n",
    "model_lstm.summary()"
   ]
  },
  {
   "cell_type": "markdown",
   "id": "adb0a219",
   "metadata": {},
   "source": [
    "**GlobalMaxPooling1D() 레이어**"
   ]
  },
  {
   "cell_type": "code",
   "execution_count": 11,
   "id": "346b5d57",
   "metadata": {},
   "outputs": [
    {
     "name": "stdout",
     "output_type": "stream",
     "text": [
      "Model: \"sequential_1\"\n",
      "_________________________________________________________________\n",
      "Layer (type)                 Output Shape              Param #   \n",
      "=================================================================\n",
      "embedding_1 (Embedding)      (None, None, 16)          160000    \n",
      "_________________________________________________________________\n",
      "global_max_pooling1d (Global (None, 16)                0         \n",
      "_________________________________________________________________\n",
      "dense_2 (Dense)              (None, 8)                 136       \n",
      "_________________________________________________________________\n",
      "dense_3 (Dense)              (None, 1)                 9         \n",
      "=================================================================\n",
      "Total params: 160,145\n",
      "Trainable params: 160,145\n",
      "Non-trainable params: 0\n",
      "_________________________________________________________________\n"
     ]
    }
   ],
   "source": [
    "model_gmp = tf.keras.Sequential()\n",
    "model_gmp.add(tf.keras.layers.Embedding(vocab_size, word_vector_dim, input_shape=(None,)))\n",
    "model_gmp.add(tf.keras.layers.GlobalMaxPooling1D())\n",
    "model_gmp.add(tf.keras.layers.Dense(8, activation='relu'))\n",
    "model_gmp.add(tf.keras.layers.Dense(1, activation='sigmoid'))  # 최종 출력은 긍정/부정을 나타내는 1dim 입니다.\n",
    "\n",
    "model_gmp.summary()"
   ]
  },
  {
   "cell_type": "markdown",
   "id": "c7fd6129",
   "metadata": {},
   "source": [
    "**1D Convolution Layer**"
   ]
  },
  {
   "cell_type": "code",
   "execution_count": 12,
   "id": "5c0ed3fd",
   "metadata": {},
   "outputs": [
    {
     "name": "stdout",
     "output_type": "stream",
     "text": [
      "Model: \"sequential_2\"\n",
      "_________________________________________________________________\n",
      "Layer (type)                 Output Shape              Param #   \n",
      "=================================================================\n",
      "embedding_2 (Embedding)      (None, None, 16)          160000    \n",
      "_________________________________________________________________\n",
      "conv1d (Conv1D)              (None, None, 32)          3616      \n",
      "_________________________________________________________________\n",
      "max_pooling1d (MaxPooling1D) (None, None, 32)          0         \n",
      "_________________________________________________________________\n",
      "conv1d_1 (Conv1D)            (None, None, 32)          7200      \n",
      "_________________________________________________________________\n",
      "global_max_pooling1d_1 (Glob (None, 32)                0         \n",
      "_________________________________________________________________\n",
      "dense_4 (Dense)              (None, 8)                 264       \n",
      "_________________________________________________________________\n",
      "dense_5 (Dense)              (None, 1)                 9         \n",
      "=================================================================\n",
      "Total params: 171,089\n",
      "Trainable params: 171,089\n",
      "Non-trainable params: 0\n",
      "_________________________________________________________________\n"
     ]
    }
   ],
   "source": [
    "model_1dcov = tf.keras.Sequential()\n",
    "model_1dcov.add(tf.keras.layers.Embedding(vocab_size, word_vector_dim, input_shape=(None,)))\n",
    "model_1dcov.add(tf.keras.layers.Conv1D(32, 7, activation='relu'))  # filter size : 7개, 차원수는 16\n",
    "model_1dcov.add(tf.keras.layers.MaxPooling1D(5))\n",
    "model_1dcov.add(tf.keras.layers.Conv1D(32, 7, activation='relu'))\n",
    "model_1dcov.add(tf.keras.layers.GlobalMaxPooling1D())\n",
    "model_1dcov.add(tf.keras.layers.Dense(8, activation='relu'))\n",
    "model_1dcov.add(tf.keras.layers.Dense(1, activation='sigmoid'))  # 최종 출력은 긍정/부정을 나타내는 1dim 입니다.\n",
    "\n",
    "model_1dcov.summary()"
   ]
  },
  {
   "cell_type": "code",
   "execution_count": 13,
   "id": "bfe968c9",
   "metadata": {},
   "outputs": [
    {
     "name": "stdout",
     "output_type": "stream",
     "text": [
      "Epoch 1/20\n",
      "149/149 [==============================] - 45s 10ms/step - loss: 0.5775 - accuracy: 0.7050 - val_loss: 0.4359 - val_accuracy: 0.8190\n",
      "Epoch 2/20\n",
      "149/149 [==============================] - 1s 7ms/step - loss: 0.3667 - accuracy: 0.8461 - val_loss: 0.3650 - val_accuracy: 0.8422\n",
      "Epoch 3/20\n",
      "149/149 [==============================] - 1s 7ms/step - loss: 0.3214 - accuracy: 0.8673 - val_loss: 0.3569 - val_accuracy: 0.8461\n",
      "Epoch 4/20\n",
      "149/149 [==============================] - 1s 7ms/step - loss: 0.3023 - accuracy: 0.8762 - val_loss: 0.3609 - val_accuracy: 0.8450\n",
      "Epoch 5/20\n",
      "149/149 [==============================] - 1s 7ms/step - loss: 0.2862 - accuracy: 0.8851 - val_loss: 0.3660 - val_accuracy: 0.8443\n",
      "Epoch 6/20\n",
      "149/149 [==============================] - 1s 7ms/step - loss: 0.2730 - accuracy: 0.8916 - val_loss: 0.3758 - val_accuracy: 0.8431\n",
      "Epoch 7/20\n",
      "149/149 [==============================] - 1s 7ms/step - loss: 0.2592 - accuracy: 0.8988 - val_loss: 0.3821 - val_accuracy: 0.8412\n",
      "Epoch 8/20\n",
      "149/149 [==============================] - 1s 7ms/step - loss: 0.2462 - accuracy: 0.9055 - val_loss: 0.3884 - val_accuracy: 0.8400\n",
      "Epoch 9/20\n",
      "149/149 [==============================] - 1s 7ms/step - loss: 0.2362 - accuracy: 0.9096 - val_loss: 0.3999 - val_accuracy: 0.8377\n",
      "Epoch 10/20\n",
      "149/149 [==============================] - 1s 7ms/step - loss: 0.2235 - accuracy: 0.9156 - val_loss: 0.4033 - val_accuracy: 0.8370\n",
      "Epoch 11/20\n",
      "149/149 [==============================] - 1s 7ms/step - loss: 0.2125 - accuracy: 0.9207 - val_loss: 0.4280 - val_accuracy: 0.8358\n",
      "Epoch 12/20\n",
      "149/149 [==============================] - 1s 7ms/step - loss: 0.2038 - accuracy: 0.9246 - val_loss: 0.4366 - val_accuracy: 0.8351\n",
      "Epoch 13/20\n",
      "149/149 [==============================] - 1s 7ms/step - loss: 0.1917 - accuracy: 0.9292 - val_loss: 0.4791 - val_accuracy: 0.8326\n",
      "Epoch 14/20\n",
      "149/149 [==============================] - 1s 7ms/step - loss: 0.1834 - accuracy: 0.9334 - val_loss: 0.4773 - val_accuracy: 0.8327\n",
      "Epoch 15/20\n",
      "149/149 [==============================] - 1s 7ms/step - loss: 0.1750 - accuracy: 0.9377 - val_loss: 0.5185 - val_accuracy: 0.8307\n",
      "Epoch 16/20\n",
      "149/149 [==============================] - 1s 7ms/step - loss: 0.1669 - accuracy: 0.9408 - val_loss: 0.5116 - val_accuracy: 0.8286\n",
      "Epoch 17/20\n",
      "149/149 [==============================] - 1s 7ms/step - loss: 0.1585 - accuracy: 0.9438 - val_loss: 0.5172 - val_accuracy: 0.8274\n",
      "Epoch 18/20\n",
      "149/149 [==============================] - 1s 7ms/step - loss: 0.1515 - accuracy: 0.9477 - val_loss: 0.5382 - val_accuracy: 0.8244\n",
      "Epoch 19/20\n",
      "149/149 [==============================] - 1s 7ms/step - loss: 0.1447 - accuracy: 0.9497 - val_loss: 0.5770 - val_accuracy: 0.8286\n",
      "Epoch 20/20\n",
      "149/149 [==============================] - 1s 7ms/step - loss: 0.1372 - accuracy: 0.9525 - val_loss: 0.6192 - val_accuracy: 0.8245\n"
     ]
    }
   ],
   "source": [
    "model_lstm.compile(optimizer='adam',\n",
    "              loss='binary_crossentropy',\n",
    "              metrics=['accuracy'])\n",
    "              \n",
    "epochs=20  # 몇 epoch를 훈련하면 좋을지 결과를 보면서 바꾸어 봅시다. \n",
    "\n",
    "history_lstm = model_lstm.fit(partial_x_train,\n",
    "                    partial_y_train,\n",
    "                    epochs=epochs,\n",
    "                    batch_size=512,\n",
    "                    validation_data=(x_val, y_val),\n",
    "                    verbose=1)\n"
   ]
  },
  {
   "cell_type": "code",
   "execution_count": 14,
   "id": "a9cea289",
   "metadata": {},
   "outputs": [
    {
     "name": "stdout",
     "output_type": "stream",
     "text": [
      "Epoch 1/20\n",
      "149/149 [==============================] - 1s 5ms/step - loss: 0.6438 - accuracy: 0.7411 - val_loss: 0.5514 - val_accuracy: 0.7854\n",
      "Epoch 2/20\n",
      "149/149 [==============================] - 1s 4ms/step - loss: 0.4586 - accuracy: 0.8168 - val_loss: 0.4054 - val_accuracy: 0.8245\n",
      "Epoch 3/20\n",
      "149/149 [==============================] - 1s 4ms/step - loss: 0.3622 - accuracy: 0.8475 - val_loss: 0.3724 - val_accuracy: 0.8366\n",
      "Epoch 4/20\n",
      "149/149 [==============================] - 1s 4ms/step - loss: 0.3206 - accuracy: 0.8648 - val_loss: 0.3629 - val_accuracy: 0.8400\n",
      "Epoch 5/20\n",
      "149/149 [==============================] - 1s 4ms/step - loss: 0.2927 - accuracy: 0.8789 - val_loss: 0.3624 - val_accuracy: 0.8418\n",
      "Epoch 6/20\n",
      "149/149 [==============================] - 1s 4ms/step - loss: 0.2708 - accuracy: 0.8900 - val_loss: 0.3663 - val_accuracy: 0.8410\n",
      "Epoch 7/20\n",
      "149/149 [==============================] - 1s 4ms/step - loss: 0.2525 - accuracy: 0.8980 - val_loss: 0.3725 - val_accuracy: 0.8409\n",
      "Epoch 8/20\n",
      "149/149 [==============================] - 1s 4ms/step - loss: 0.2368 - accuracy: 0.9056 - val_loss: 0.3809 - val_accuracy: 0.8395\n",
      "Epoch 9/20\n",
      "149/149 [==============================] - 1s 4ms/step - loss: 0.2228 - accuracy: 0.9129 - val_loss: 0.3914 - val_accuracy: 0.8368\n",
      "Epoch 10/20\n",
      "149/149 [==============================] - 1s 4ms/step - loss: 0.2101 - accuracy: 0.9188 - val_loss: 0.4020 - val_accuracy: 0.8367\n",
      "Epoch 11/20\n",
      "149/149 [==============================] - 1s 4ms/step - loss: 0.1984 - accuracy: 0.9256 - val_loss: 0.4146 - val_accuracy: 0.8358\n",
      "Epoch 12/20\n",
      "149/149 [==============================] - 1s 4ms/step - loss: 0.1878 - accuracy: 0.9299 - val_loss: 0.4284 - val_accuracy: 0.8336\n",
      "Epoch 13/20\n",
      "149/149 [==============================] - 1s 4ms/step - loss: 0.1778 - accuracy: 0.9346 - val_loss: 0.4427 - val_accuracy: 0.8317\n",
      "Epoch 14/20\n",
      "149/149 [==============================] - 1s 4ms/step - loss: 0.1688 - accuracy: 0.9379 - val_loss: 0.4580 - val_accuracy: 0.8302\n",
      "Epoch 15/20\n",
      "149/149 [==============================] - 1s 4ms/step - loss: 0.1603 - accuracy: 0.9419 - val_loss: 0.4730 - val_accuracy: 0.8289\n",
      "Epoch 16/20\n",
      "149/149 [==============================] - 1s 4ms/step - loss: 0.1525 - accuracy: 0.9460 - val_loss: 0.4877 - val_accuracy: 0.8275\n",
      "Epoch 17/20\n",
      "149/149 [==============================] - 1s 4ms/step - loss: 0.1452 - accuracy: 0.9490 - val_loss: 0.5032 - val_accuracy: 0.8246\n",
      "Epoch 18/20\n",
      "149/149 [==============================] - 1s 4ms/step - loss: 0.1387 - accuracy: 0.9517 - val_loss: 0.5179 - val_accuracy: 0.8241\n",
      "Epoch 19/20\n",
      "149/149 [==============================] - 1s 4ms/step - loss: 0.1324 - accuracy: 0.9543 - val_loss: 0.5331 - val_accuracy: 0.8229\n",
      "Epoch 20/20\n",
      "149/149 [==============================] - 1s 4ms/step - loss: 0.1267 - accuracy: 0.9565 - val_loss: 0.5482 - val_accuracy: 0.8221\n"
     ]
    }
   ],
   "source": [
    "model_gmp.compile(optimizer='adam',\n",
    "              loss='binary_crossentropy',\n",
    "              metrics=['accuracy'])\n",
    "              \n",
    "epochs=20  # 몇 epoch를 훈련하면 좋을지 결과를 보면서 바꾸어 봅시다. \n",
    "\n",
    "history_gmp = model_gmp.fit(partial_x_train,\n",
    "                    partial_y_train,\n",
    "                    epochs=epochs,\n",
    "                    batch_size=512,\n",
    "                    validation_data=(x_val, y_val),\n",
    "                    verbose=1)"
   ]
  },
  {
   "cell_type": "code",
   "execution_count": 15,
   "id": "9d8fd9e5",
   "metadata": {},
   "outputs": [
    {
     "name": "stdout",
     "output_type": "stream",
     "text": [
      "Epoch 1/20\n",
      "149/149 [==============================] - 27s 9ms/step - loss: 0.5771 - accuracy: 0.6751 - val_loss: 0.3831 - val_accuracy: 0.8320\n",
      "Epoch 2/20\n",
      "149/149 [==============================] - 1s 6ms/step - loss: 0.3466 - accuracy: 0.8504 - val_loss: 0.3549 - val_accuracy: 0.8451\n",
      "Epoch 3/20\n",
      "149/149 [==============================] - 1s 6ms/step - loss: 0.3044 - accuracy: 0.8717 - val_loss: 0.3549 - val_accuracy: 0.8470\n",
      "Epoch 4/20\n",
      "149/149 [==============================] - 1s 6ms/step - loss: 0.2771 - accuracy: 0.8857 - val_loss: 0.3585 - val_accuracy: 0.8475\n",
      "Epoch 5/20\n",
      "149/149 [==============================] - 1s 6ms/step - loss: 0.2531 - accuracy: 0.8982 - val_loss: 0.3665 - val_accuracy: 0.8464\n",
      "Epoch 6/20\n",
      "149/149 [==============================] - 1s 6ms/step - loss: 0.2272 - accuracy: 0.9112 - val_loss: 0.3808 - val_accuracy: 0.8447\n",
      "Epoch 7/20\n",
      "149/149 [==============================] - 1s 6ms/step - loss: 0.2009 - accuracy: 0.9253 - val_loss: 0.4238 - val_accuracy: 0.8386\n",
      "Epoch 8/20\n",
      "149/149 [==============================] - 1s 6ms/step - loss: 0.1743 - accuracy: 0.9366 - val_loss: 0.4380 - val_accuracy: 0.8365\n",
      "Epoch 9/20\n",
      "149/149 [==============================] - 1s 6ms/step - loss: 0.1474 - accuracy: 0.9490 - val_loss: 0.4713 - val_accuracy: 0.8350\n",
      "Epoch 10/20\n",
      "149/149 [==============================] - 1s 6ms/step - loss: 0.1240 - accuracy: 0.9587 - val_loss: 0.5187 - val_accuracy: 0.8333\n",
      "Epoch 11/20\n",
      "149/149 [==============================] - 1s 6ms/step - loss: 0.1038 - accuracy: 0.9661 - val_loss: 0.5585 - val_accuracy: 0.8248\n",
      "Epoch 12/20\n",
      "149/149 [==============================] - 1s 6ms/step - loss: 0.0862 - accuracy: 0.9734 - val_loss: 0.6197 - val_accuracy: 0.8280\n",
      "Epoch 13/20\n",
      "149/149 [==============================] - 1s 6ms/step - loss: 0.0714 - accuracy: 0.9793 - val_loss: 0.6729 - val_accuracy: 0.8251\n",
      "Epoch 14/20\n",
      "149/149 [==============================] - 1s 6ms/step - loss: 0.0619 - accuracy: 0.9819 - val_loss: 0.7101 - val_accuracy: 0.8224\n",
      "Epoch 15/20\n",
      "149/149 [==============================] - 1s 6ms/step - loss: 0.0533 - accuracy: 0.9855 - val_loss: 0.7782 - val_accuracy: 0.8211\n",
      "Epoch 16/20\n",
      "149/149 [==============================] - 1s 6ms/step - loss: 0.0489 - accuracy: 0.9868 - val_loss: 0.8087 - val_accuracy: 0.8210\n",
      "Epoch 17/20\n",
      "149/149 [==============================] - 1s 6ms/step - loss: 0.0428 - accuracy: 0.9894 - val_loss: 0.8668 - val_accuracy: 0.8200\n",
      "Epoch 18/20\n",
      "149/149 [==============================] - 1s 6ms/step - loss: 0.0376 - accuracy: 0.9906 - val_loss: 0.8918 - val_accuracy: 0.8175\n",
      "Epoch 19/20\n",
      "149/149 [==============================] - 1s 6ms/step - loss: 0.0346 - accuracy: 0.9917 - val_loss: 0.9623 - val_accuracy: 0.8164\n",
      "Epoch 20/20\n",
      "149/149 [==============================] - 1s 6ms/step - loss: 0.0320 - accuracy: 0.9923 - val_loss: 0.9784 - val_accuracy: 0.8159\n"
     ]
    }
   ],
   "source": [
    "model_1dcov.compile(optimizer='adam',\n",
    "              loss='binary_crossentropy',\n",
    "              metrics=['accuracy'])\n",
    "              \n",
    "epochs=20  # 몇 epoch를 훈련하면 좋을지 결과를 보면서 바꾸어 봅시다. \n",
    "\n",
    "history_1dconv = model_1dcov.fit(partial_x_train,\n",
    "                    partial_y_train,\n",
    "                    epochs=epochs,\n",
    "                    batch_size=512,\n",
    "                    validation_data=(x_val, y_val),\n",
    "                    verbose=1)"
   ]
  },
  {
   "cell_type": "code",
   "execution_count": 16,
   "id": "7bd5b7ac",
   "metadata": {
    "scrolled": false
   },
   "outputs": [
    {
     "name": "stdout",
     "output_type": "stream",
     "text": [
      "1537/1537 - 3s - loss: 0.6221 - accuracy: 0.8215\n",
      "[0.622064471244812, 0.8214903473854065]\n"
     ]
    }
   ],
   "source": [
    "results_lstm = model_lstm.evaluate(X_test,  y_test, verbose=2)\n",
    "\n",
    "print(results_lstm)"
   ]
  },
  {
   "cell_type": "code",
   "execution_count": 17,
   "id": "9a1a2fba",
   "metadata": {},
   "outputs": [
    {
     "name": "stdout",
     "output_type": "stream",
     "text": [
      "1537/1537 - 2s - loss: 0.5516 - accuracy: 0.8202\n",
      "[0.5515815615653992, 0.820208728313446]\n"
     ]
    }
   ],
   "source": [
    "results_gmp = model_gmp.evaluate(X_test,  y_test, verbose=2)\n",
    "\n",
    "print(results_gmp)"
   ]
  },
  {
   "cell_type": "code",
   "execution_count": 18,
   "id": "dac25d81",
   "metadata": {},
   "outputs": [
    {
     "name": "stdout",
     "output_type": "stream",
     "text": [
      "1537/1537 - 2s - loss: 0.9918 - accuracy: 0.8134\n",
      "[0.9917803406715393, 0.8134344816207886]\n"
     ]
    }
   ],
   "source": [
    "results_1dconv = model_1dcov.evaluate(X_test,  y_test, verbose=2)\n",
    "\n",
    "print(results_1dconv)"
   ]
  },
  {
   "cell_type": "code",
   "execution_count": 19,
   "id": "0e429e5f",
   "metadata": {},
   "outputs": [
    {
     "data": {
      "image/png": "[encoded data removed]",
      "text/plain": [
       "<Figure size 432x288 with 1 Axes>"
      ]
     },
     "metadata": {
      "needs_background": "light"
     },
     "output_type": "display_data"
    }
   ],
   "source": [
    "import matplotlib.pyplot as plt\n",
    "\n",
    "history_dict = history_lstm.history\n",
    "\n",
    "acc = history_dict['accuracy']\n",
    "val_acc = history_dict['val_accuracy']\n",
    "loss = history_dict['loss']\n",
    "val_loss = history_dict['val_loss']\n",
    "\n",
    "epochs = range(1, len(acc) + 1)\n",
    "\n",
    "# \"bo\"는 \"파란색 점\"입니다\n",
    "plt.plot(epochs, acc, 'bo', label='Training accuracy of LSTM')\n",
    "# b는 \"파란 실선\"입니다\n",
    "plt.plot(epochs, val_acc, 'b', label='Validation accuracy of LSTM')\n",
    "plt.title('Training and validation accuracy LSTM ')\n",
    "plt.xlabel('Epochs')\n",
    "plt.ylabel('Loss')\n",
    "plt.legend()\n",
    "\n",
    "plt.show()"
   ]
  },
  {
   "cell_type": "code",
   "execution_count": 20,
   "id": "3a4e0fa6",
   "metadata": {},
   "outputs": [
    {
     "data": {
      "image/png": "[encoded data removed]",
      "text/plain": [
       "<Figure size 432x288 with 1 Axes>"
      ]
     },
     "metadata": {
      "needs_background": "light"
     },
     "output_type": "display_data"
    }
   ],
   "source": [
    "plt.clf()   # 그림을 초기화합니다\n",
    "\n",
    "# \"bo\"는 \"파란색 점\"입니다\n",
    "plt.plot(epochs, loss, 'bo', label='Training loss of LSTM')\n",
    "# b는 \"파란 실선\"입니다\n",
    "plt.plot(epochs, val_loss, 'b', label='Validation loss of LSTM')\n",
    "plt.title('Training and validation loss LSTM ')\n",
    "plt.xlabel('Epochs')\n",
    "plt.ylabel('Loss')\n",
    "plt.legend()\n",
    "\n",
    "plt.show()"
   ]
  },
  {
   "cell_type": "code",
   "execution_count": 21,
   "id": "66e2e576",
   "metadata": {},
   "outputs": [
    {
     "data": {
      "image/png": "[encoded data removed]",
      "text/plain": [
       "<Figure size 432x288 with 1 Axes>"
      ]
     },
     "metadata": {
      "needs_background": "light"
     },
     "output_type": "display_data"
    }
   ],
   "source": [
    "plt.clf()   # 그림을 초기화합니다\n",
    "\n",
    "history_dict = history_gmp.history\n",
    "\n",
    "acc = history_dict['accuracy']\n",
    "val_acc = history_dict['val_accuracy']\n",
    "loss = history_dict['loss']\n",
    "val_loss = history_dict['val_loss']\n",
    "\n",
    "epochs = range(1, len(acc) + 1)\n",
    "\n",
    "# \"bo\"는 \"파란색 점\"입니다\n",
    "plt.plot(epochs, acc, 'bo', label='Training accuracy of GMP')\n",
    "# b는 \"파란 실선\"입니다\n",
    "plt.plot(epochs, val_acc, 'b', label='Validation accuracy of GMP')\n",
    "plt.title('Training and validation accuracy GMP ')\n",
    "plt.xlabel('Epochs')\n",
    "plt.ylabel('Loss')\n",
    "plt.legend()\n",
    "\n",
    "plt.show()"
   ]
  },
  {
   "cell_type": "code",
   "execution_count": 22,
   "id": "54b3cf68",
   "metadata": {},
   "outputs": [
    {
     "data": {
      "image/png": "[encoded data removed]",
      "text/plain": [
       "<Figure size 432x288 with 1 Axes>"
      ]
     },
     "metadata": {
      "needs_background": "light"
     },
     "output_type": "display_data"
    }
   ],
   "source": [
    "plt.clf()   # 그림을 초기화합니다\n",
    "\n",
    "# \"bo\"는 \"파란색 점\"입니다\n",
    "plt.plot(epochs, loss, 'bo', label='Training loss of GMP')\n",
    "# b는 \"파란 실선\"입니다\n",
    "plt.plot(epochs, val_loss, 'b', label='Validation loss of GMP')\n",
    "plt.title('Training and validation loss GMP')\n",
    "plt.xlabel('Epochs')\n",
    "plt.ylabel('Loss')\n",
    "plt.legend()\n",
    "\n",
    "plt.show()"
   ]
  },
  {
   "cell_type": "code",
   "execution_count": 23,
   "id": "5027916f",
   "metadata": {},
   "outputs": [
    {
     "data": {
      "image/png": "[encoded data removed]",
      "text/plain": [
       "<Figure size 432x288 with 1 Axes>"
      ]
     },
     "metadata": {
      "needs_background": "light"
     },
     "output_type": "display_data"
    }
   ],
   "source": [
    "plt.clf()   # 그림을 초기화합니다\n",
    "\n",
    "history_dict = history_1dconv.history\n",
    "\n",
    "acc = history_dict['accuracy']\n",
    "val_acc = history_dict['val_accuracy']\n",
    "loss = history_dict['loss']\n",
    "val_loss = history_dict['val_loss']\n",
    "\n",
    "epochs = range(1, len(acc) + 1)\n",
    "\n",
    "# \"bo\"는 \"파란색 점\"입니다\n",
    "plt.plot(epochs, acc, 'bo', label='Training accuracy of 1DConv')\n",
    "# b는 \"파란 실선\"입니다\n",
    "plt.plot(epochs, val_acc, 'b', label='Validation accuracy of 1DConv')\n",
    "plt.title('Training and validation accuracy 1DConv ')\n",
    "plt.xlabel('Epochs')\n",
    "plt.ylabel('Loss')\n",
    "plt.legend()\n",
    "\n",
    "plt.show()"
   ]
  },
  {
   "cell_type": "code",
   "execution_count": 24,
   "id": "b4bc210d",
   "metadata": {},
   "outputs": [
    {
     "data": {
      "image/png": "[encoded data removed]",
      "text/plain": [
       "<Figure size 432x288 with 1 Axes>"
      ]
     },
     "metadata": {
      "needs_background": "light"
     },
     "output_type": "display_data"
    }
   ],
   "source": [
    "plt.clf()   # 그림을 초기화합니다\n",
    "\n",
    "# \"bo\"는 \"파란색 점\"입니다\n",
    "plt.plot(epochs, loss, 'bo', label='Training loss of 1DConv')\n",
    "# b는 \"파란 실선\"입니다\n",
    "plt.plot(epochs, val_loss, 'b', label='Validation loss of 1DConv')\n",
    "plt.title('Training and validation loss 1DConv')\n",
    "plt.xlabel('Epochs')\n",
    "plt.ylabel('Loss')\n",
    "plt.legend()\n",
    "\n",
    "plt.show()"
   ]
  },
  {
   "cell_type": "markdown",
   "id": "b42557a0",
   "metadata": {},
   "source": [
    "## 회고\n",
    "훈련 데이타의 성능은 1DConv > GMP > LSTM 이었으나\n",
    "테스트 데이타의 성능은 LSTM > GMP > 1DConv 순이었다. "
   ]
  },
  {
   "cell_type": "markdown",
   "id": "ef2a80d0",
   "metadata": {},
   "source": [
    "## 7) 학습된 Embedding 레이어 분석"
   ]
  },
  {
   "cell_type": "code",
   "execution_count": 25,
   "id": "6544f335",
   "metadata": {},
   "outputs": [
    {
     "name": "stdout",
     "output_type": "stream",
     "text": [
      "(10000, 16)\n"
     ]
    }
   ],
   "source": [
    "import os\n",
    "\n",
    "embedding_layer = model_lstm.layers[0]\n",
    "weights = embedding_layer.get_weights()[0]\n",
    "print(weights.shape)    # shape: (vocab_size, embedding_dim)\n",
    "\n",
    "# 학습한 Embedding 파라미터를 파일에 써서 저장합니다. \n",
    "word2vec_file_path = os.getenv('HOME')+'/aiffel/sentiment_classification/data/word2vec_kor.txt'\n",
    "f = open(word2vec_file_path, 'w')\n",
    "f.write('{} {}\\n'.format(vocab_size-4, word_vector_dim))  # 몇개의 벡터를 얼마 사이즈로 기재할지 타이틀을 씁니다.\n",
    "\n",
    "# 단어 개수(에서 특수문자 4개는 제외하고)만큼의 워드 벡터를 파일에 기록합니다. \n",
    "vectors = model_lstm.get_weights()[0]\n",
    "for i in range(4,vocab_size):\n",
    "    f.write('{} {}\\n'.format(index_to_word[i], ' '.join(map(str, list(vectors[i, :])))))\n",
    "f.close()"
   ]
  },
  {
   "cell_type": "code",
   "execution_count": 26,
   "id": "9a6add39",
   "metadata": {},
   "outputs": [],
   "source": [
    "from gensim.models.keyedvectors import Word2VecKeyedVectors\n",
    "\n",
    "word_vectors = Word2VecKeyedVectors.load_word2vec_format(word2vec_file_path, binary=False)\n"
   ]
  },
  {
   "cell_type": "code",
   "execution_count": 27,
   "id": "88739b3d",
   "metadata": {},
   "outputs": [
    {
     "data": {
      "text/plain": [
       "[('c', 0.7156264185905457),\n",
       " ('감상', 0.7114855647087097),\n",
       " ('본성', 0.6752042770385742),\n",
       " ('만화', 0.6682097315788269),\n",
       " ('넘쳐나', 0.6476684808731079),\n",
       " ('라라', 0.6385300159454346),\n",
       " ('택시', 0.6384759545326233),\n",
       " ('는데요', 0.6323755383491516),\n",
       " ('야지', 0.6283780932426453),\n",
       " ('똥폼', 0.6274725794792175)]"
      ]
     },
     "execution_count": 27,
     "metadata": {},
     "output_type": "execute_result"
    }
   ],
   "source": [
    "word_vectors.similar_by_word(\"배우\")"
   ]
  },
  {
   "cell_type": "code",
   "execution_count": 28,
   "id": "c64f547b",
   "metadata": {
    "scrolled": true
   },
   "outputs": [
    {
     "data": {
      "text/plain": [
       "[('떨어지', 0.9614725708961487),\n",
       " ('구조', 0.958461344242096),\n",
       " ('대충', 0.957857072353363),\n",
       " ('쓰레기', 0.955694317817688),\n",
       " ('욕', 0.9540031552314758),\n",
       " ('차라리', 0.9512563347816467),\n",
       " ('삼류', 0.9487443566322327),\n",
       " ('재미없', 0.9487111568450928),\n",
       " ('식상', 0.9435437917709351),\n",
       " ('싫', 0.94211745262146)]"
      ]
     },
     "execution_count": 28,
     "metadata": {},
     "output_type": "execute_result"
    }
   ],
   "source": [
    "word_vectors.similar_by_word(\"실망\")"
   ]
  },
  {
   "cell_type": "code",
   "execution_count": 29,
   "id": "fcc7311d",
   "metadata": {},
   "outputs": [
    {
     "data": {
      "text/plain": [
       "9996"
      ]
     },
     "execution_count": 29,
     "metadata": {},
     "output_type": "execute_result"
    }
   ],
   "source": [
    "len(word_vectors.index_to_key)"
   ]
  },
  {
   "cell_type": "markdown",
   "id": "97a69ef0",
   "metadata": {},
   "source": [
    "## 회고 : embeding 데이타의 유사성이 거의 없다"
   ]
  },
  {
   "cell_type": "markdown",
   "id": "0ed50ec1",
   "metadata": {},
   "source": [
    "## 8) 한국어 Word2Vec 임베딩 활용하여 성능 개선"
   ]
  },
  {
   "cell_type": "markdown",
   "id": "dbbc286b",
   "metadata": {},
   "source": [
    "한국어 Word2Vec은 /data 폴더 안에 있는 word2vec_ko.model을 활용\n",
    "한국어 Word2Vec을 활용할 때는 load_word2vec_format() 형태가 아닌 load() 형태로 모델을 불러와주세요\n",
    "\n",
    "/workspace/gcs/gcp_files/E-9/data"
   ]
  },
  {
   "cell_type": "code",
   "execution_count": 30,
   "id": "82db0cfc",
   "metadata": {},
   "outputs": [],
   "source": [
    "from gensim.models import KeyedVectors\n",
    "from gensim.models.keyedvectors import Word2VecKeyedVectors\n",
    "\n",
    "#word2vec_file_path = os.getenv('HOME')+'/aiffel/data/word2vec_ko.model'\n",
    "word2vec_file_path = '/aiffel/data/word2vec_ko.model'\n",
    "pre_word_vectors = Word2VecKeyedVectors.load(word2vec_file_path)\n"
   ]
  },
  {
   "cell_type": "code",
   "execution_count": 31,
   "id": "ac6a9f77",
   "metadata": {},
   "outputs": [
    {
     "data": {
      "text/plain": [
       "100"
      ]
     },
     "execution_count": 31,
     "metadata": {},
     "output_type": "execute_result"
    }
   ],
   "source": [
    "pre_word_vectors.vector_size"
   ]
  },
  {
   "cell_type": "code",
   "execution_count": 32,
   "id": "30fcb45f",
   "metadata": {},
   "outputs": [
    {
     "data": {
      "text/plain": [
       "302960"
      ]
     },
     "execution_count": 32,
     "metadata": {},
     "output_type": "execute_result"
    }
   ],
   "source": [
    "len(pre_word_vectors.wv.index_to_key)"
   ]
  },
  {
   "cell_type": "code",
   "execution_count": 33,
   "id": "791b2aba",
   "metadata": {},
   "outputs": [
    {
     "data": {
      "text/plain": [
       "(100,)"
      ]
     },
     "execution_count": 33,
     "metadata": {},
     "output_type": "execute_result"
    }
   ],
   "source": [
    "vector = pre_word_vectors.wv['영화']\n",
    "# vector  # 5*20 = 100dim 워드 벡터\n",
    "vector.shape"
   ]
  },
  {
   "cell_type": "code",
   "execution_count": 34,
   "id": "104dd8d9",
   "metadata": {},
   "outputs": [
    {
     "data": {
      "text/plain": [
       "[('가수', 0.7729029655456543),\n",
       " ('코미디언', 0.7728644609451294),\n",
       " ('만화가', 0.749615490436554),\n",
       " ('영화배우', 0.7441834211349487),\n",
       " ('여배우', 0.7411354184150696),\n",
       " ('연출가', 0.7396705746650696),\n",
       " ('극작가', 0.7209770679473877),\n",
       " ('삽화가', 0.7152643799781799),\n",
       " ('안무가', 0.7149248123168945),\n",
       " ('무용가', 0.7118033766746521)]"
      ]
     },
     "execution_count": 34,
     "metadata": {},
     "output_type": "execute_result"
    }
   ],
   "source": [
    "pre_word_vectors.wv.most_similar(\"배우\")"
   ]
  },
  {
   "cell_type": "code",
   "execution_count": 35,
   "id": "e6317967",
   "metadata": {
    "scrolled": true
   },
   "outputs": [
    {
     "data": {
      "text/plain": [
       "[('당황', 0.8200313448905945),\n",
       " ('당혹', 0.8075222373008728),\n",
       " ('곤혹', 0.771090030670166),\n",
       " ('낙담', 0.7601173520088196),\n",
       " ('분개', 0.7536212205886841),\n",
       " ('경악', 0.7477779984474182),\n",
       " ('뻔뻔', 0.7368745803833008),\n",
       " ('격분', 0.733599066734314),\n",
       " ('감탄', 0.7275494337081909),\n",
       " ('분노', 0.7243137955665588)]"
      ]
     },
     "execution_count": 35,
     "metadata": {},
     "output_type": "execute_result"
    }
   ],
   "source": [
    "pre_word_vectors.wv.most_similar(\"실망\")"
   ]
  },
  {
   "cell_type": "markdown",
   "id": "ccec230a",
   "metadata": {},
   "source": [
    "## 회고\n",
    "1) 단어의 유사성 비교 \n",
    "   embedding layer로 훈련한 데이타의 유사성은 (배우, 실망) 두 단어에 대해서 유사성이 낮은 단어들이 출력되었고,  \n",
    "   pre-trained 벡터에서 (배우, 실망) 두 단어에 대해서 유사성이 높은 단어들이 출력되었다. \n",
    "2) 유사성 성능 차이로 생각되는 이유  \n",
    "   embeding layer로 훈련한 데이타는 갯수가 10000개(9996)개로 사이즈가 적고, \n",
    "   pre-trained data 는 30만개로 사이즈가 크다\n",
    "   또한, pre-trained는 여러번 다양한 단어들(토큰들)로 테스트를 여러번 누적된 데이타이므로, 벡터화가 잘 되어서, 성능이 좋다. "
   ]
  },
  {
   "cell_type": "code",
   "execution_count": 36,
   "id": "6e6bfcda",
   "metadata": {},
   "outputs": [
    {
     "name": "stdout",
     "output_type": "stream",
     "text": [
      "(10000, 100)\n"
     ]
    }
   ],
   "source": [
    "\n",
    "pre_word_vector_dim = pre_word_vectors.vector_size  # 워드 벡터의 차원수\n",
    "\n",
    "embedding_matrix = np.random.rand(vocab_size, pre_word_vector_dim)\n",
    "\n",
    "print(embedding_matrix.shape)\n",
    "\n",
    "# embedding_matrix에 Word2Vec 워드 벡터를 단어 하나씩마다 차례차례 카피한다.\n",
    "for i in range(4,vocab_size):\n",
    "    if index_to_word[i] in pre_word_vectors.wv:\n",
    "        embedding_matrix[i] = pre_word_vectors.wv[index_to_word[i]]"
   ]
  },
  {
   "cell_type": "code",
   "execution_count": 37,
   "id": "7b953872",
   "metadata": {},
   "outputs": [
    {
     "name": "stdout",
     "output_type": "stream",
     "text": [
      "Model: \"sequential_3\"\n",
      "_________________________________________________________________\n",
      "Layer (type)                 Output Shape              Param #   \n",
      "=================================================================\n",
      "embedding_3 (Embedding)      (None, 41, 100)           1000000   \n",
      "_________________________________________________________________\n",
      "conv1d_2 (Conv1D)            (None, 35, 32)            22432     \n",
      "_________________________________________________________________\n",
      "max_pooling1d_1 (MaxPooling1 (None, 7, 32)             0         \n",
      "_________________________________________________________________\n",
      "conv1d_3 (Conv1D)            (None, 1, 32)             7200      \n",
      "_________________________________________________________________\n",
      "global_max_pooling1d_2 (Glob (None, 32)                0         \n",
      "_________________________________________________________________\n",
      "dense_6 (Dense)              (None, 16)                528       \n",
      "_________________________________________________________________\n",
      "dense_7 (Dense)              (None, 1)                 17        \n",
      "=================================================================\n",
      "Total params: 1,030,177\n",
      "Trainable params: 1,030,177\n",
      "Non-trainable params: 0\n",
      "_________________________________________________________________\n"
     ]
    }
   ],
   "source": [
    "from tensorflow.keras.initializers import Constant\n",
    "from tensorflow import keras\n",
    "from tensorflow.keras import layers\n",
    "\n",
    "# 모델 구성\n",
    "model = tf.keras.Sequential()\n",
    "model.add(tf.keras.layers.Embedding(vocab_size, \n",
    "                                 pre_word_vector_dim, \n",
    "                                 embeddings_initializer=Constant(embedding_matrix),  # 카피한 임베딩을 여기서 활용\n",
    "                                 input_length=maxlen, \n",
    "                                 trainable=True))   # trainable을 True로 주면 Fine-tuning\n",
    "model.add(tf.keras.layers.Conv1D(32, 7, activation='relu'))\n",
    "model.add(tf.keras.layers.MaxPooling1D(5))\n",
    "model.add(tf.keras.layers.Conv1D(32, 7, activation='relu'))\n",
    "model.add(tf.keras.layers.GlobalMaxPooling1D())\n",
    "model.add(tf.keras.layers.Dense(16, activation='relu'))\n",
    "model.add(tf.keras.layers.Dense(1, activation='sigmoid')) \n",
    "\n",
    "model.summary()"
   ]
  },
  {
   "cell_type": "code",
   "execution_count": 38,
   "id": "1c63fb84",
   "metadata": {},
   "outputs": [
    {
     "name": "stdout",
     "output_type": "stream",
     "text": [
      "Epoch 1/10\n",
      "149/149 [==============================] - 2s 9ms/step - loss: 0.6124 - accuracy: 0.6573 - val_loss: 0.5370 - val_accuracy: 0.7313\n",
      "Epoch 2/10\n",
      "149/149 [==============================] - 1s 7ms/step - loss: 0.5096 - accuracy: 0.7510 - val_loss: 0.4904 - val_accuracy: 0.7643\n",
      "Epoch 3/10\n",
      "149/149 [==============================] - 1s 7ms/step - loss: 0.4565 - accuracy: 0.7861 - val_loss: 0.4526 - val_accuracy: 0.7901\n",
      "Epoch 4/10\n",
      "149/149 [==============================] - 1s 7ms/step - loss: 0.4165 - accuracy: 0.8100 - val_loss: 0.4272 - val_accuracy: 0.8048\n",
      "Epoch 5/10\n",
      "149/149 [==============================] - 1s 7ms/step - loss: 0.3843 - accuracy: 0.8283 - val_loss: 0.4136 - val_accuracy: 0.8143\n",
      "Epoch 6/10\n",
      "149/149 [==============================] - 1s 7ms/step - loss: 0.3593 - accuracy: 0.8400 - val_loss: 0.4183 - val_accuracy: 0.8134\n",
      "Epoch 7/10\n",
      "149/149 [==============================] - 1s 6ms/step - loss: 0.3341 - accuracy: 0.8539 - val_loss: 0.4653 - val_accuracy: 0.7933\n",
      "Epoch 8/10\n",
      "149/149 [==============================] - 1s 6ms/step - loss: 0.3156 - accuracy: 0.8646 - val_loss: 0.3976 - val_accuracy: 0.8268\n",
      "Epoch 9/10\n",
      "149/149 [==============================] - 1s 7ms/step - loss: 0.2995 - accuracy: 0.8705 - val_loss: 0.3970 - val_accuracy: 0.8270\n",
      "Epoch 10/10\n",
      "149/149 [==============================] - 1s 7ms/step - loss: 0.2839 - accuracy: 0.8807 - val_loss: 0.4132 - val_accuracy: 0.8201\n"
     ]
    }
   ],
   "source": [
    "# 학습의 진행\n",
    "model.compile(optimizer='rmsprop',\n",
    "              loss='binary_crossentropy',\n",
    "              metrics=['accuracy'])\n",
    "              \n",
    "epochs=10  # 몇 epoch를 훈련하면 좋을지 결과를 보면서 바꾸어 봅시다. \n",
    "\n",
    "callbacks = [\n",
    "    keras.callbacks.ModelCheckpoint(\"embeddings_bidir_lstm.h5\",\n",
    "                                    save_best_only=True)\n",
    "]\n",
    "\n",
    "history_pre = model.fit(partial_x_train,\n",
    "                    partial_y_train,\n",
    "                    epochs=epochs,\n",
    "                    batch_size=512,\n",
    "                    validation_data=(x_val, y_val),\n",
    "                    verbose=1, \n",
    "                    callbacks=callbacks)\n"
   ]
  },
  {
   "cell_type": "code",
   "execution_count": 39,
   "id": "2f348e91",
   "metadata": {},
   "outputs": [
    {
     "name": "stdout",
     "output_type": "stream",
     "text": [
      "1537/1537 - 3s - loss: 0.4202 - accuracy: 0.8200\n",
      "[0.42022714018821716, 0.8200052976608276]\n"
     ]
    }
   ],
   "source": [
    "results_pre = model.evaluate(X_test,  y_test, verbose=2)\n",
    "\n",
    "print(results_pre)"
   ]
  },
  {
   "cell_type": "code",
   "execution_count": 40,
   "id": "04566ee4",
   "metadata": {},
   "outputs": [
    {
     "data": {
      "image/png": "[encoded data removed]",
      "text/plain": [
       "<Figure size 432x288 with 1 Axes>"
      ]
     },
     "metadata": {
      "needs_background": "light"
     },
     "output_type": "display_data"
    }
   ],
   "source": [
    "history_dict = history_pre.history\n",
    "\n",
    "acc = history_dict['accuracy']\n",
    "val_acc = history_dict['val_accuracy']\n",
    "loss = history_dict['loss']\n",
    "val_loss = history_dict['val_loss']\n",
    "\n",
    "epochs = range(1, len(acc) + 1)\n",
    "\n",
    "# \"bo\"는 \"파란색 점\"입니다\n",
    "plt.plot(epochs, acc, 'bo', label='Training accuracy of PreTrain')\n",
    "# b는 \"파란 실선\"입니다\n",
    "plt.plot(epochs, val_acc, 'b', label='Validation accuracy of PreTrain')\n",
    "plt.title('Training and validation accuracy PreTrain ')\n",
    "plt.xlabel('Epochs')\n",
    "plt.ylabel('Accuracy')\n",
    "plt.legend()\n",
    "\n",
    "plt.show()"
   ]
  },
  {
   "cell_type": "code",
   "execution_count": 41,
   "id": "4c61aa12",
   "metadata": {},
   "outputs": [
    {
     "data": {
      "image/png": "[encoded data removed]",
      "text/plain": [
       "<Figure size 432x288 with 1 Axes>"
      ]
     },
     "metadata": {
      "needs_background": "light"
     },
     "output_type": "display_data"
    }
   ],
   "source": [
    "plt.clf()   # 그림을 초기화합니다\n",
    "\n",
    "# \"bo\"는 \"파란색 점\"입니다\n",
    "plt.plot(epochs, loss, 'bo', label='Training loss of PreTrain')\n",
    "# b는 \"파란 실선\"입니다\n",
    "plt.plot(epochs, val_loss, 'b', label='Validation loss of PreTrain')\n",
    "plt.title('Training and validation loss PreTrain')\n",
    "plt.xlabel('Epochs')\n",
    "plt.ylabel('Loss')\n",
    "plt.legend()\n",
    "\n",
    "plt.show()"
   ]
  },
  {
   "cell_type": "code",
   "execution_count": 61,
   "id": "0a551fd7",
   "metadata": {},
   "outputs": [
    {
     "name": "stdout",
     "output_type": "stream",
     "text": [
      "Model: \"sequential_8\"\n",
      "_________________________________________________________________\n",
      "Layer (type)                 Output Shape              Param #   \n",
      "=================================================================\n",
      "embedding_8 (Embedding)      (None, 41, 100)           1000000   \n",
      "_________________________________________________________________\n",
      "bidirectional (Bidirectional (None, 64)                34048     \n",
      "_________________________________________________________________\n",
      "dropout_2 (Dropout)          (None, 64)                0         \n",
      "_________________________________________________________________\n",
      "dense_18 (Dense)             (None, 1)                 65        \n",
      "=================================================================\n",
      "Total params: 1,034,113\n",
      "Trainable params: 1,034,113\n",
      "Non-trainable params: 0\n",
      "_________________________________________________________________\n"
     ]
    }
   ],
   "source": [
    "\n",
    "# 모델 구성\n",
    "model_pre = tf.keras.Sequential()\n",
    "model_pre.add(tf.keras.layers.Embedding(vocab_size, \n",
    "                                 pre_word_vector_dim, \n",
    "                                 embeddings_initializer=Constant(embedding_matrix),  # 카피한 임베딩을 여기서 활용\n",
    "                                 input_length=maxlen, \n",
    "                                 trainable=True))   # trainable을 True로 주면 Fine-tuning\n",
    "model_pre.add(tf.keras.layers.Bidirectional( tf.keras.layers.LSTM(32) ))   \n",
    "model_pre.add(tf.keras.layers.Dropout(0.5))\n",
    "model_pre.add(tf.keras.layers.Dense(1, activation='sigmoid'))  # 최종 출력은 긍정/부정을 나타내는 1dim 입니다.\n",
    "model_pre.summary()\n"
   ]
  },
  {
   "cell_type": "code",
   "execution_count": 62,
   "id": "0c1be3d8",
   "metadata": {},
   "outputs": [
    {
     "name": "stdout",
     "output_type": "stream",
     "text": [
      "Epoch 1/20\n",
      "149/149 [==============================] - 5s 15ms/step - loss: 0.5856 - accuracy: 0.6857 - val_loss: 0.4864 - val_accuracy: 0.7703\n",
      "Epoch 2/20\n",
      "149/149 [==============================] - 2s 11ms/step - loss: 0.4725 - accuracy: 0.7817 - val_loss: 0.4266 - val_accuracy: 0.8088\n",
      "Epoch 3/20\n",
      "149/149 [==============================] - 2s 11ms/step - loss: 0.4230 - accuracy: 0.8108 - val_loss: 0.4024 - val_accuracy: 0.8202\n",
      "Epoch 4/20\n",
      "149/149 [==============================] - 2s 11ms/step - loss: 0.3886 - accuracy: 0.8287 - val_loss: 0.3732 - val_accuracy: 0.8357\n",
      "Epoch 5/20\n",
      "149/149 [==============================] - 2s 11ms/step - loss: 0.3645 - accuracy: 0.8423 - val_loss: 0.3633 - val_accuracy: 0.8411\n",
      "Epoch 6/20\n",
      "149/149 [==============================] - 2s 11ms/step - loss: 0.3437 - accuracy: 0.8527 - val_loss: 0.3554 - val_accuracy: 0.8437\n",
      "Epoch 7/20\n",
      "149/149 [==============================] - 2s 11ms/step - loss: 0.3290 - accuracy: 0.8609 - val_loss: 0.3466 - val_accuracy: 0.8491\n",
      "Epoch 8/20\n",
      "149/149 [==============================] - 2s 11ms/step - loss: 0.3154 - accuracy: 0.8677 - val_loss: 0.3420 - val_accuracy: 0.8510\n",
      "Epoch 9/20\n",
      "149/149 [==============================] - 2s 11ms/step - loss: 0.3057 - accuracy: 0.8718 - val_loss: 0.3425 - val_accuracy: 0.8520\n",
      "Epoch 10/20\n",
      "149/149 [==============================] - 2s 10ms/step - loss: 0.2952 - accuracy: 0.8776 - val_loss: 0.3403 - val_accuracy: 0.8534\n",
      "Epoch 11/20\n",
      "149/149 [==============================] - 2s 11ms/step - loss: 0.2847 - accuracy: 0.8823 - val_loss: 0.3377 - val_accuracy: 0.8549\n",
      "Epoch 12/20\n",
      "149/149 [==============================] - 2s 11ms/step - loss: 0.2757 - accuracy: 0.8877 - val_loss: 0.3411 - val_accuracy: 0.8542\n",
      "Epoch 13/20\n",
      "149/149 [==============================] - 2s 10ms/step - loss: 0.2674 - accuracy: 0.8914 - val_loss: 0.3516 - val_accuracy: 0.8538\n",
      "Epoch 14/20\n",
      "149/149 [==============================] - 2s 10ms/step - loss: 0.2585 - accuracy: 0.8950 - val_loss: 0.3700 - val_accuracy: 0.8454\n",
      "Epoch 15/20\n",
      "149/149 [==============================] - 2s 10ms/step - loss: 0.2522 - accuracy: 0.8979 - val_loss: 0.3489 - val_accuracy: 0.8558\n",
      "Epoch 16/20\n",
      "149/149 [==============================] - 2s 10ms/step - loss: 0.2445 - accuracy: 0.9021 - val_loss: 0.3482 - val_accuracy: 0.8548\n",
      "Epoch 17/20\n",
      "149/149 [==============================] - 2s 10ms/step - loss: 0.2381 - accuracy: 0.9056 - val_loss: 0.3528 - val_accuracy: 0.8530\n",
      "Epoch 18/20\n",
      "149/149 [==============================] - 2s 10ms/step - loss: 0.2306 - accuracy: 0.9091 - val_loss: 0.3548 - val_accuracy: 0.8563\n",
      "Epoch 19/20\n",
      "149/149 [==============================] - 2s 10ms/step - loss: 0.2255 - accuracy: 0.9109 - val_loss: 0.3701 - val_accuracy: 0.8554\n",
      "Epoch 20/20\n",
      "149/149 [==============================] - 2s 10ms/step - loss: 0.2194 - accuracy: 0.9145 - val_loss: 0.3688 - val_accuracy: 0.8564\n"
     ]
    }
   ],
   "source": [
    "# 학습의 진행\n",
    "model_pre.compile(optimizer='rmsprop',\n",
    "              loss='binary_crossentropy',\n",
    "              metrics=['accuracy'])\n",
    "              \n",
    "epochs=20  # 몇 epoch를 훈련하면 좋을지 결과를 보면서 바꾸어 봅시다. \n",
    "\n",
    "callbacks = [\n",
    "    keras.callbacks.ModelCheckpoint(\"embeddings_bidir_lstm.h5\",\n",
    "                                    save_best_only=True)\n",
    "]\n",
    "\n",
    "history_pre = model_pre.fit(partial_x_train,\n",
    "                    partial_y_train,\n",
    "                    epochs=epochs,\n",
    "                    batch_size=512,\n",
    "                    validation_data=(x_val, y_val),\n",
    "                    verbose=1, \n",
    "                    callbacks=callbacks)\n"
   ]
  },
  {
   "cell_type": "code",
   "execution_count": 63,
   "id": "2f0aa5f6",
   "metadata": {},
   "outputs": [
    {
     "name": "stdout",
     "output_type": "stream",
     "text": [
      "1537/1537 - 4s - loss: 0.3717 - accuracy: 0.8540\n",
      "[0.37169960141181946, 0.8539780974388123]\n"
     ]
    }
   ],
   "source": [
    "#model = keras.models.load_model(\"embeddings_bidir_lstm.h5\")\n",
    "results_pre2 = model_pre.evaluate(X_test,  y_test, verbose=2)\n",
    "\n",
    "print(results_pre2)"
   ]
  },
  {
   "cell_type": "code",
   "execution_count": 64,
   "id": "b09b526b",
   "metadata": {},
   "outputs": [
    {
     "data": {
      "image/png": "[encoded data removed]",
      "text/plain": [
       "<Figure size 432x288 with 1 Axes>"
      ]
     },
     "metadata": {
      "needs_background": "light"
     },
     "output_type": "display_data"
    }
   ],
   "source": [
    "history_dict = history_pre.history\n",
    "\n",
    "acc = history_dict['accuracy']\n",
    "val_acc = history_dict['val_accuracy']\n",
    "loss = history_dict['loss']\n",
    "val_loss = history_dict['val_loss']\n",
    "\n",
    "epochs = range(1, len(acc) + 1)\n",
    "\n",
    "# \"bo\"는 \"파란색 점\"입니다\n",
    "plt.plot(epochs, acc, 'bo', label='Training accuracy of PreTrain')\n",
    "# b는 \"파란 실선\"입니다\n",
    "plt.plot(epochs, val_acc, 'b', label='Validation accuracy of PreTrain')\n",
    "plt.title('Training and validation accuracy PreTrain ')\n",
    "plt.xlabel('Epochs')\n",
    "plt.ylabel('Accuracy')\n",
    "plt.legend()\n",
    "\n",
    "plt.show()"
   ]
  },
  {
   "cell_type": "markdown",
   "id": "5624cb60",
   "metadata": {},
   "source": [
    "## 회고 \n",
    "Bidirectional 방식으로 accuracy 85.4% 도달하였음"
   ]
  }
 ],
 "metadata": {
  "kernelspec": {
   "display_name": "Python 3 (ipykernel)",
   "language": "python",
   "name": "python3"
  },
  "language_info": {
   "codemirror_mode": {
    "name": "ipython",
    "version": 3
   },
   "file_extension": ".py",
   "mimetype": "text/x-python",
   "name": "python",
   "nbconvert_exporter": "python",
   "pygments_lexer": "ipython3",
   "version": "3.9.7"
  }
 },
 "nbformat": 4,
 "nbformat_minor": 5
}
