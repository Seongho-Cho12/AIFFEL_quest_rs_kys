{
 "cells": [
  {
   "cell_type": "code",
   "execution_count": 79,
   "id": "f04b7e39",
   "metadata": {
    "scrolled": true
   },
   "outputs": [
    {
     "name": "stdout",
     "output_type": "stream",
     "text": [
      "1.3.3\n",
      "0.5.2\n",
      "4.1.2\n"
     ]
    }
   ],
   "source": [
    "import pandas\n",
    "import konlpy\n",
    "import gensim\n",
    "\n",
    "print(pandas.__version__)\n",
    "print(konlpy.__version__)\n",
    "print(gensim.__version__)"
   ]
  },
  {
   "cell_type": "markdown",
   "id": "7ca95c56",
   "metadata": {},
   "source": [
    "## 1) 데이터 준비 (한글)"
   ]
  },
  {
   "cell_type": "code",
   "execution_count": 80,
   "id": "a2a55c21",
   "metadata": {
    "scrolled": true
   },
   "outputs": [
    {
     "data": {
      "text/html": [
       "<div>\n",
       "<style scoped>\n",
       "    .dataframe tbody tr th:only-of-type {\n",
       "        vertical-align: middle;\n",
       "    }\n",
       "\n",
       "    .dataframe tbody tr th {\n",
       "        vertical-align: top;\n",
       "    }\n",
       "\n",
       "    .dataframe thead th {\n",
       "        text-align: right;\n",
       "    }\n",
       "</style>\n",
       "<table border=\"1\" class=\"dataframe\">\n",
       "  <thead>\n",
       "    <tr style=\"text-align: right;\">\n",
       "      <th></th>\n",
       "      <th>id</th>\n",
       "      <th>document</th>\n",
       "      <th>label</th>\n",
       "    </tr>\n",
       "  </thead>\n",
       "  <tbody>\n",
       "    <tr>\n",
       "      <th>0</th>\n",
       "      <td>9976970</td>\n",
       "      <td>아 더빙.. 진짜 짜증나네요 목소리</td>\n",
       "      <td>0</td>\n",
       "    </tr>\n",
       "    <tr>\n",
       "      <th>1</th>\n",
       "      <td>3819312</td>\n",
       "      <td>흠...포스터보고 초딩영화줄....오버연기조차 가볍지 않구나</td>\n",
       "      <td>1</td>\n",
       "    </tr>\n",
       "    <tr>\n",
       "      <th>2</th>\n",
       "      <td>10265843</td>\n",
       "      <td>너무재밓었다그래서보는것을추천한다</td>\n",
       "      <td>0</td>\n",
       "    </tr>\n",
       "    <tr>\n",
       "      <th>3</th>\n",
       "      <td>9045019</td>\n",
       "      <td>교도소 이야기구먼 ..솔직히 재미는 없다..평점 조정</td>\n",
       "      <td>0</td>\n",
       "    </tr>\n",
       "    <tr>\n",
       "      <th>4</th>\n",
       "      <td>6483659</td>\n",
       "      <td>사이몬페그의 익살스런 연기가 돋보였던 영화!스파이더맨에서 늙어보이기만 했던 커스틴 ...</td>\n",
       "      <td>1</td>\n",
       "    </tr>\n",
       "  </tbody>\n",
       "</table>\n",
       "</div>"
      ],
      "text/plain": [
       "         id                                           document  label\n",
       "0   9976970                                아 더빙.. 진짜 짜증나네요 목소리      0\n",
       "1   3819312                  흠...포스터보고 초딩영화줄....오버연기조차 가볍지 않구나      1\n",
       "2  10265843                                  너무재밓었다그래서보는것을추천한다      0\n",
       "3   9045019                      교도소 이야기구먼 ..솔직히 재미는 없다..평점 조정      0\n",
       "4   6483659  사이몬페그의 익살스런 연기가 돋보였던 영화!스파이더맨에서 늙어보이기만 했던 커스틴 ...      1"
      ]
     },
     "execution_count": 80,
     "metadata": {},
     "output_type": "execute_result"
    }
   ],
   "source": [
    "import pandas as pd\n",
    "\n",
    "# 데이터를 읽어봅시다. \n",
    "train_data = pd.read_table('~/aiffel/sentiment_classification/data/ratings_train.txt')\n",
    "test_data = pd.read_table('~/aiffel/sentiment_classification/data/ratings_test.txt')\n",
    "\n",
    "train_data.head()"
   ]
  },
  {
   "cell_type": "markdown",
   "id": "cf53766b",
   "metadata": {},
   "source": [
    "## 2) 데이터로더 구성"
   ]
  },
  {
   "cell_type": "markdown",
   "id": "c045f34a",
   "metadata": {},
   "source": [
    "** data_loader ** \n",
    "데이터의 중복 제거\n",
    "NaN 결측치 제거\n",
    "한국어 토크나이저로 토큰화\n",
    "불용어(Stopwords) 제거\n",
    "사전word_to_index 구성\n",
    "텍스트 스트링을 사전 인덱스 스트링으로 변환\n",
    "X_train, y_train, X_test, y_test, word_to_index 리턴"
   ]
  },
  {
   "cell_type": "code",
   "execution_count": 81,
   "id": "5a76af76",
   "metadata": {},
   "outputs": [],
   "source": [
    "from konlpy.tag import Mecab\n",
    "import numpy as np\n",
    "from collections import Counter\n",
    "\n",
    "# Mecab : 형태소 분석기\n",
    "#         형태소 추출(morphs), 명사 추출, 형태소와 태그 추출 \n",
    "tokenizer = Mecab()\n",
    "stopwords = ['의','가','이','은','들','는','좀','잘','걍','과','도','를','으로','자','에','와','한','하다']\n",
    "\n",
    "vocab_size = 10000    # 어휘 사전의 크기입니다(10,000개의 단어)\n",
    "\n",
    "def load_data(train_data, test_data, num_words=10000):\n",
    "   \n",
    "    # document part에서, 중보 제거 및 null 제거\n",
    "    train_data.drop_duplicates(subset=['document'], inplace=True)\n",
    "    train_data = train_data.dropna(how = 'any') \n",
    "    test_data.drop_duplicates(subset=['document'], inplace=True)\n",
    "    test_data = test_data.dropna(how = 'any') \n",
    "    \n",
    "    \n",
    "    # Mecab 형태소 분석기를 사용해서, 형태소 추출(morphs)\n",
    "    x_train = []\n",
    "    for sentence in train_data['document']:\n",
    "        temp_X = tokenizer.morphs(sentence) # 토큰화\n",
    "        temp_X = [word for word in temp_X if not word in stopwords] # 불용어 제거\n",
    "        x_train.append(temp_X)\n",
    "\n",
    "    x_test = []\n",
    "    for sentence in test_data['document']:\n",
    "        temp_X = tokenizer.morphs(sentence) # 토큰화\n",
    "        temp_X = [word for word in temp_X if not word in stopwords] # 불용어 제거\n",
    "        x_test.append(temp_X)\n",
    "    \n",
    "    # 빈도수가 높은 순으로 vocabulary를 만들자. \n",
    "    # 1) Flattens the list of words\n",
    "    words = np.concatenate(x_train).tolist()\n",
    "    \n",
    "    # 2) Counts word frequencies and gets the top num_words - 4\n",
    "    counter = Counter(words)\n",
    "    counter = counter.most_common(num_words-4)\n",
    "    \n",
    "    # 3) Vocabulary Indexing (0~3 : reserved)\n",
    "    # word_to_index[\"<PAD>\"] = 0\n",
    "    # word_to_index[\"<BOS>\"] = 1\n",
    "    # word_to_index[\"<UNK>\"] = 2  # unknown\n",
    "    # word_to_index[\"<UNUSED>\"] = 3\n",
    "    # 자준 나온 단어들 순서대로 word_to_index 구성\n",
    "    vocab = ['', '', '', ''] + [key for key, _ in counter]\n",
    "    word_to_index = {word:index for index, word in enumerate(vocab)}\n",
    "    \n",
    "    \n",
    "    # X_train의 단어들을 vaca_index 값으로 변경\n",
    "    def wordlist_to_indexlist(wordlist):\n",
    "        return [word_to_index[word] if word in word_to_index else word_to_index[''] for word in wordlist]\n",
    "        \n",
    "    X_train = list(map(wordlist_to_indexlist, x_train))\n",
    "    X_test = list(map(wordlist_to_indexlist, x_test))\n",
    "        \n",
    "    return X_train, np.array(list(train_data['label'])), X_test, np.array(list(test_data['label'])), word_to_index\n",
    "\n",
    "\n",
    "X_train, y_train, X_test, y_test, word_to_index = load_data(train_data, test_data)\n",
    "\n",
    "word_to_index[\"<PAD>\"] = 0\n",
    "word_to_index[\"<BOS>\"] = 1\n",
    "word_to_index[\"<UNK>\"] = 2  # unknown\n",
    "word_to_index[\"<UNUSED>\"] = 3"
   ]
  },
  {
   "cell_type": "code",
   "execution_count": 82,
   "id": "fb2790ca",
   "metadata": {},
   "outputs": [],
   "source": [
    "# index to word\n",
    "index_to_word = {index:word for word, index in word_to_index.items()}"
   ]
  },
  {
   "cell_type": "code",
   "execution_count": 83,
   "id": "938c484a",
   "metadata": {},
   "outputs": [],
   "source": [
    "# 문장 1개를 활용할 딕셔너리와 함께 주면, 단어 인덱스 리스트 벡터로 변환해 주는 함수입니다. \n",
    "# 단, 모든 문장은 <BOS>로 시작하는 것으로 합니다. \n",
    "def get_encoded_sentence(sentence, word_to_index):\n",
    "    return [word_to_index['<BOS>']]+[word_to_index[word] if word in word_to_index else word_to_index['<UNK>'] for word in sentence.split()]\n",
    "\n",
    "# 여러 개의 문장 리스트를 한꺼번에 단어 인덱스 리스트 벡터로 encode해 주는 함수입니다. \n",
    "def get_encoded_sentences(sentences, word_to_index):\n",
    "    return [get_encoded_sentence(sentence, word_to_index) for sentence in sentences]\n",
    "\n",
    "# 숫자 벡터로 encode된 문장을 원래대로 decode하는 함수입니다. \n",
    "def get_decoded_sentence(encoded_sentence, index_to_word):\n",
    "    return ' '.join(index_to_word[index] if index in index_to_word else '<UNK>' for index in encoded_sentence[1:])  #[1:]를 통해 <BOS>를 제외\n",
    "\n",
    "# 여러 개의 숫자 벡터로 encode된 문장을 한꺼번에 원래대로 decode하는 함수입니다. \n",
    "def get_decoded_sentences(encoded_sentences, index_to_word):\n",
    "    return [get_decoded_sentence(encoded_sentence, index_to_word) for encoded_sentence in encoded_sentences]"
   ]
  },
  {
   "cell_type": "markdown",
   "id": "5bc1cd24",
   "metadata": {},
   "source": [
    "## 3) 데이터 분석 및 가공"
   ]
  },
  {
   "cell_type": "markdown",
   "id": "15acc13b",
   "metadata": {},
   "source": [
    "데이터셋 내 문장 길이 분포\n",
    "적절한 최대 문장 길이 지정\n",
    "keras.preprocessing.sequence.pad_sequences 을 활용한 패딩 추가"
   ]
  },
  {
   "cell_type": "code",
   "execution_count": 84,
   "id": "440886d7",
   "metadata": {},
   "outputs": [
    {
     "name": "stdout",
     "output_type": "stream",
     "text": [
      "195339\n",
      "문장길이 평균 :  15.96940191154864\n",
      "문장길이 최대 :  116\n",
      "문장길이 표준편차 :  12.843571191092\n",
      "pad_sequences maxlen :  41\n",
      "전체 문장의 0.9342988343341575%가 maxlen 설정값 이내에 포함됩니다. \n"
     ]
    }
   ],
   "source": [
    "# 전체 문장\n",
    "total_data_text = list(X_train) + list(X_test)\n",
    "print(len(total_data_text) )\n",
    "\n",
    "# 한 문장의 길이를  num_tokens에 저장\n",
    "num_tokens = [len(tokens) for tokens in total_data_text]\n",
    "# array로 변환\n",
    "num_tokens = np.array(num_tokens)\n",
    "\n",
    "# 문장길이의 평균값, 최대값, 표준편차를 계산해 본다. \n",
    "print('문장길이 평균 : ', np.mean(num_tokens))\n",
    "print('문장길이 최대 : ', np.max(num_tokens))\n",
    "print('문장길이 표준편차 : ', np.std(num_tokens))\n",
    "\n",
    "# 예를들어, 최대 길이를 (평균 + 2*표준편차)로 한다면,  \n",
    "max_tokens = np.mean(num_tokens) + 2 * np.std(num_tokens)\n",
    "maxlen = int(max_tokens)\n",
    "print('pad_sequences maxlen : ', maxlen)\n",
    "print(f'전체 문장의 {np.sum(num_tokens < max_tokens) / len(num_tokens)}%가 maxlen 설정값 이내에 포함됩니다. ')"
   ]
  },
  {
   "cell_type": "code",
   "execution_count": 85,
   "id": "03a8ae32",
   "metadata": {},
   "outputs": [
    {
     "name": "stdout",
     "output_type": "stream",
     "text": [
      "(146182, 41)\n",
      "(49157, 41)\n"
     ]
    }
   ],
   "source": [
    "import tensorflow as tf\n",
    "\n",
    "X_train = tf.keras.preprocessing.sequence.pad_sequences(X_train,\n",
    "                                                        value=word_to_index[\"<PAD>\"],\n",
    "                                                        padding='pre', # 혹은 'pre' 'post'\n",
    "                                                        maxlen=maxlen)\n",
    "\n",
    "X_test = tf.keras.preprocessing.sequence.pad_sequences(X_test,\n",
    "                                                       value=word_to_index[\"<PAD>\"],\n",
    "                                                       padding='pre', # 혹은 'pre' 'post'\n",
    "                                                       maxlen=maxlen)\n",
    "\n",
    "print(X_train.shape)\n",
    "print(X_test.shape)"
   ]
  },
  {
   "cell_type": "markdown",
   "id": "e07df775",
   "metadata": {},
   "source": [
    "## 4) 모델 구성 및 validation set 구성"
   ]
  },
  {
   "cell_type": "code",
   "execution_count": 125,
   "id": "f6bbbb82",
   "metadata": {},
   "outputs": [
    {
     "name": "stdout",
     "output_type": "stream",
     "text": [
      "(76182, 41)\n",
      "(76182,)\n"
     ]
    }
   ],
   "source": [
    "# validation set 30000건 분리\n",
    "x_val = X_train[:70000]   \n",
    "y_val = y_train[:70000]\n",
    "\n",
    "# validation set을 제외한 나머지 \n",
    "partial_x_train = X_train[70000:]  \n",
    "partial_y_train = y_train[70000:]\n",
    "\n",
    "print(partial_x_train.shape)\n",
    "print(partial_y_train.shape)"
   ]
  },
  {
   "cell_type": "markdown",
   "id": "789e7400",
   "metadata": {},
   "source": [
    "**LSTM Model**"
   ]
  },
  {
   "cell_type": "code",
   "execution_count": 126,
   "id": "4470c4d8",
   "metadata": {},
   "outputs": [
    {
     "name": "stdout",
     "output_type": "stream",
     "text": [
      "Model: \"sequential_7\"\n",
      "_________________________________________________________________\n",
      "Layer (type)                 Output Shape              Param #   \n",
      "=================================================================\n",
      "embedding_7 (Embedding)      (None, None, 16)          160000    \n",
      "_________________________________________________________________\n",
      "lstm_2 (LSTM)                (None, 32)                6272      \n",
      "_________________________________________________________________\n",
      "dense_14 (Dense)             (None, 8)                 264       \n",
      "_________________________________________________________________\n",
      "dense_15 (Dense)             (None, 1)                 9         \n",
      "=================================================================\n",
      "Total params: 166,545\n",
      "Trainable params: 166,545\n",
      "Non-trainable params: 0\n",
      "_________________________________________________________________\n"
     ]
    }
   ],
   "source": [
    "vocab_size = 10000    # 어휘 사전의 크기입니다(10,000개의 단어)\n",
    "word_vector_dim = 16  # 워드 벡터의 차원 수 (변경 가능한 하이퍼파라미터)\n",
    "\n",
    "# model 설계 - 딥러닝 모델 코드를 직접 작성해 주세요.\n",
    "model_lstm = tf.keras.Sequential()\n",
    "model_lstm.add(tf.keras.layers.Embedding(vocab_size, word_vector_dim, input_shape=(None,)))\n",
    "model_lstm.add(tf.keras.layers.LSTM(32))   \n",
    "model_lstm.add(tf.keras.layers.Dense(8, activation='relu'))\n",
    "model_lstm.add(tf.keras.layers.Dense(1, activation='sigmoid'))  # 최종 출력은 긍정/부정을 나타내는 1dim 입니다.\n",
    "\n",
    "model_lstm.summary()"
   ]
  },
  {
   "cell_type": "markdown",
   "id": "f4b16704",
   "metadata": {},
   "source": [
    "**GlobalMaxPooling1D() 레이어**"
   ]
  },
  {
   "cell_type": "code",
   "execution_count": 127,
   "id": "a90baadf",
   "metadata": {},
   "outputs": [
    {
     "name": "stdout",
     "output_type": "stream",
     "text": [
      "Model: \"sequential_8\"\n",
      "_________________________________________________________________\n",
      "Layer (type)                 Output Shape              Param #   \n",
      "=================================================================\n",
      "embedding_8 (Embedding)      (None, None, 16)          160000    \n",
      "_________________________________________________________________\n",
      "global_max_pooling1d_5 (Glob (None, 16)                0         \n",
      "_________________________________________________________________\n",
      "dense_16 (Dense)             (None, 8)                 136       \n",
      "_________________________________________________________________\n",
      "dense_17 (Dense)             (None, 1)                 9         \n",
      "=================================================================\n",
      "Total params: 160,145\n",
      "Trainable params: 160,145\n",
      "Non-trainable params: 0\n",
      "_________________________________________________________________\n"
     ]
    }
   ],
   "source": [
    "model_gmp = tf.keras.Sequential()\n",
    "model_gmp.add(tf.keras.layers.Embedding(vocab_size, word_vector_dim, input_shape=(None,)))\n",
    "model_gmp.add(tf.keras.layers.GlobalMaxPooling1D())\n",
    "model_gmp.add(tf.keras.layers.Dense(8, activation='relu'))\n",
    "model_gmp.add(tf.keras.layers.Dense(1, activation='sigmoid'))  # 최종 출력은 긍정/부정을 나타내는 1dim 입니다.\n",
    "\n",
    "model_gmp.summary()"
   ]
  },
  {
   "cell_type": "markdown",
   "id": "85ca7d0f",
   "metadata": {},
   "source": [
    "**1D Convolution Layer**"
   ]
  },
  {
   "cell_type": "code",
   "execution_count": 128,
   "id": "37d9b1e6",
   "metadata": {},
   "outputs": [
    {
     "name": "stdout",
     "output_type": "stream",
     "text": [
      "Model: \"sequential_9\"\n",
      "_________________________________________________________________\n",
      "Layer (type)                 Output Shape              Param #   \n",
      "=================================================================\n",
      "embedding_9 (Embedding)      (None, None, 16)          160000    \n",
      "_________________________________________________________________\n",
      "conv1d_6 (Conv1D)            (None, None, 32)          3616      \n",
      "_________________________________________________________________\n",
      "max_pooling1d_3 (MaxPooling1 (None, None, 32)          0         \n",
      "_________________________________________________________________\n",
      "conv1d_7 (Conv1D)            (None, None, 32)          7200      \n",
      "_________________________________________________________________\n",
      "global_max_pooling1d_6 (Glob (None, 32)                0         \n",
      "_________________________________________________________________\n",
      "dense_18 (Dense)             (None, 8)                 264       \n",
      "_________________________________________________________________\n",
      "dense_19 (Dense)             (None, 1)                 9         \n",
      "=================================================================\n",
      "Total params: 171,089\n",
      "Trainable params: 171,089\n",
      "Non-trainable params: 0\n",
      "_________________________________________________________________\n"
     ]
    }
   ],
   "source": [
    "model_1dcov = tf.keras.Sequential()\n",
    "model_1dcov.add(tf.keras.layers.Embedding(vocab_size, word_vector_dim, input_shape=(None,)))\n",
    "model_1dcov.add(tf.keras.layers.Conv1D(32, 7, activation='relu'))  # filter size : 7개, 차원수는 16\n",
    "model_1dcov.add(tf.keras.layers.MaxPooling1D(5))\n",
    "model_1dcov.add(tf.keras.layers.Conv1D(32, 7, activation='relu'))\n",
    "model_1dcov.add(tf.keras.layers.GlobalMaxPooling1D())\n",
    "model_1dcov.add(tf.keras.layers.Dense(8, activation='relu'))\n",
    "model_1dcov.add(tf.keras.layers.Dense(1, activation='sigmoid'))  # 최종 출력은 긍정/부정을 나타내는 1dim 입니다.\n",
    "\n",
    "model_1dcov.summary()"
   ]
  },
  {
   "cell_type": "code",
   "execution_count": 129,
   "id": "16b06afa",
   "metadata": {},
   "outputs": [
    {
     "name": "stdout",
     "output_type": "stream",
     "text": [
      "Epoch 1/20\n",
      "149/149 [==============================] - 3s 9ms/step - loss: 0.5097 - accuracy: 0.7563 - val_loss: 0.3803 - val_accuracy: 0.8347\n",
      "Epoch 2/20\n",
      "149/149 [==============================] - 1s 6ms/step - loss: 0.3463 - accuracy: 0.8511 - val_loss: 0.3554 - val_accuracy: 0.8456\n",
      "Epoch 3/20\n",
      "149/149 [==============================] - 1s 7ms/step - loss: 0.3171 - accuracy: 0.8660 - val_loss: 0.3543 - val_accuracy: 0.8463\n",
      "Epoch 4/20\n",
      "149/149 [==============================] - 1s 7ms/step - loss: 0.3017 - accuracy: 0.8741 - val_loss: 0.3650 - val_accuracy: 0.8453\n",
      "Epoch 5/20\n",
      "149/149 [==============================] - 1s 7ms/step - loss: 0.2899 - accuracy: 0.8795 - val_loss: 0.3792 - val_accuracy: 0.8359\n",
      "Epoch 6/20\n",
      "149/149 [==============================] - 1s 7ms/step - loss: 0.2805 - accuracy: 0.8840 - val_loss: 0.3750 - val_accuracy: 0.8426\n",
      "Epoch 7/20\n",
      "149/149 [==============================] - 1s 7ms/step - loss: 0.2705 - accuracy: 0.8882 - val_loss: 0.3773 - val_accuracy: 0.8401\n",
      "Epoch 8/20\n",
      "149/149 [==============================] - 1s 7ms/step - loss: 0.2588 - accuracy: 0.8933 - val_loss: 0.3939 - val_accuracy: 0.8397\n",
      "Epoch 9/20\n",
      "149/149 [==============================] - 1s 7ms/step - loss: 0.2501 - accuracy: 0.8966 - val_loss: 0.3992 - val_accuracy: 0.8404\n",
      "Epoch 10/20\n",
      "149/149 [==============================] - 1s 7ms/step - loss: 0.2370 - accuracy: 0.9033 - val_loss: 0.4097 - val_accuracy: 0.8371\n",
      "Epoch 11/20\n",
      "149/149 [==============================] - 1s 7ms/step - loss: 0.2277 - accuracy: 0.9070 - val_loss: 0.4323 - val_accuracy: 0.8387\n",
      "Epoch 12/20\n",
      "149/149 [==============================] - 1s 7ms/step - loss: 0.2158 - accuracy: 0.9125 - val_loss: 0.4724 - val_accuracy: 0.8377\n",
      "Epoch 13/20\n",
      "149/149 [==============================] - 1s 7ms/step - loss: 0.2035 - accuracy: 0.9177 - val_loss: 0.4782 - val_accuracy: 0.8358\n",
      "Epoch 14/20\n",
      "149/149 [==============================] - 1s 7ms/step - loss: 0.1943 - accuracy: 0.9213 - val_loss: 0.4914 - val_accuracy: 0.8365\n",
      "Epoch 15/20\n",
      "149/149 [==============================] - 1s 7ms/step - loss: 0.1838 - accuracy: 0.9266 - val_loss: 0.4746 - val_accuracy: 0.8311\n",
      "Epoch 16/20\n",
      "149/149 [==============================] - 1s 7ms/step - loss: 0.1726 - accuracy: 0.9330 - val_loss: 0.5224 - val_accuracy: 0.8311\n",
      "Epoch 17/20\n",
      "149/149 [==============================] - 1s 7ms/step - loss: 0.1616 - accuracy: 0.9367 - val_loss: 0.5785 - val_accuracy: 0.8326\n",
      "Epoch 18/20\n",
      "149/149 [==============================] - 1s 7ms/step - loss: 0.1527 - accuracy: 0.9409 - val_loss: 0.5893 - val_accuracy: 0.8289\n",
      "Epoch 19/20\n",
      "149/149 [==============================] - 1s 7ms/step - loss: 0.1450 - accuracy: 0.9441 - val_loss: 0.6312 - val_accuracy: 0.8260\n",
      "Epoch 20/20\n",
      "149/149 [==============================] - 1s 7ms/step - loss: 0.1388 - accuracy: 0.9470 - val_loss: 0.6526 - val_accuracy: 0.8279\n"
     ]
    }
   ],
   "source": [
    "model_lstm.compile(optimizer='adam',\n",
    "              loss='binary_crossentropy',\n",
    "              metrics=['accuracy'])\n",
    "              \n",
    "epochs=20  # 몇 epoch를 훈련하면 좋을지 결과를 보면서 바꾸어 봅시다. \n",
    "\n",
    "history_lstm = model_lstm.fit(partial_x_train,\n",
    "                    partial_y_train,\n",
    "                    epochs=epochs,\n",
    "                    batch_size=512,\n",
    "                    validation_data=(x_val, y_val),\n",
    "                    verbose=1)\n"
   ]
  },
  {
   "cell_type": "code",
   "execution_count": 130,
   "id": "95e644ca",
   "metadata": {},
   "outputs": [
    {
     "name": "stdout",
     "output_type": "stream",
     "text": [
      "Epoch 1/20\n",
      "149/149 [==============================] - 1s 5ms/step - loss: 0.6398 - accuracy: 0.6799 - val_loss: 0.5501 - val_accuracy: 0.7839\n",
      "Epoch 2/20\n",
      "149/149 [==============================] - 1s 4ms/step - loss: 0.4677 - accuracy: 0.8162 - val_loss: 0.4171 - val_accuracy: 0.8220\n",
      "Epoch 3/20\n",
      "149/149 [==============================] - 1s 4ms/step - loss: 0.3723 - accuracy: 0.8470 - val_loss: 0.3784 - val_accuracy: 0.8341\n",
      "Epoch 4/20\n",
      "149/149 [==============================] - 1s 4ms/step - loss: 0.3286 - accuracy: 0.8644 - val_loss: 0.3677 - val_accuracy: 0.8387\n",
      "Epoch 5/20\n",
      "149/149 [==============================] - 1s 4ms/step - loss: 0.2999 - accuracy: 0.8772 - val_loss: 0.3662 - val_accuracy: 0.8409\n",
      "Epoch 6/20\n",
      "149/149 [==============================] - 1s 4ms/step - loss: 0.2776 - accuracy: 0.8864 - val_loss: 0.3700 - val_accuracy: 0.8406\n",
      "Epoch 7/20\n",
      "149/149 [==============================] - 1s 4ms/step - loss: 0.2588 - accuracy: 0.8959 - val_loss: 0.3773 - val_accuracy: 0.8392\n",
      "Epoch 8/20\n",
      "149/149 [==============================] - 1s 4ms/step - loss: 0.2427 - accuracy: 0.9032 - val_loss: 0.3856 - val_accuracy: 0.8377\n",
      "Epoch 9/20\n",
      "149/149 [==============================] - 1s 4ms/step - loss: 0.2286 - accuracy: 0.9109 - val_loss: 0.3962 - val_accuracy: 0.8371\n",
      "Epoch 10/20\n",
      "149/149 [==============================] - 1s 4ms/step - loss: 0.2158 - accuracy: 0.9164 - val_loss: 0.4085 - val_accuracy: 0.8354\n",
      "Epoch 11/20\n",
      "149/149 [==============================] - 1s 4ms/step - loss: 0.2043 - accuracy: 0.9215 - val_loss: 0.4199 - val_accuracy: 0.8339\n",
      "Epoch 12/20\n",
      "149/149 [==============================] - 1s 4ms/step - loss: 0.1939 - accuracy: 0.9265 - val_loss: 0.4342 - val_accuracy: 0.8327\n",
      "Epoch 13/20\n",
      "149/149 [==============================] - 1s 4ms/step - loss: 0.1846 - accuracy: 0.9315 - val_loss: 0.4471 - val_accuracy: 0.8316\n",
      "Epoch 14/20\n",
      "149/149 [==============================] - 1s 4ms/step - loss: 0.1763 - accuracy: 0.9351 - val_loss: 0.4642 - val_accuracy: 0.8294\n",
      "Epoch 15/20\n",
      "149/149 [==============================] - 1s 4ms/step - loss: 0.1686 - accuracy: 0.9382 - val_loss: 0.4756 - val_accuracy: 0.8287\n",
      "Epoch 16/20\n",
      "149/149 [==============================] - 1s 4ms/step - loss: 0.1614 - accuracy: 0.9418 - val_loss: 0.4888 - val_accuracy: 0.8269\n",
      "Epoch 17/20\n",
      "149/149 [==============================] - 1s 4ms/step - loss: 0.1551 - accuracy: 0.9452 - val_loss: 0.5044 - val_accuracy: 0.8254\n",
      "Epoch 18/20\n",
      "149/149 [==============================] - 1s 4ms/step - loss: 0.1493 - accuracy: 0.9475 - val_loss: 0.5191 - val_accuracy: 0.8244\n",
      "Epoch 19/20\n",
      "149/149 [==============================] - 1s 4ms/step - loss: 0.1438 - accuracy: 0.9497 - val_loss: 0.5345 - val_accuracy: 0.8230\n",
      "Epoch 20/20\n",
      "149/149 [==============================] - 1s 4ms/step - loss: 0.1386 - accuracy: 0.9524 - val_loss: 0.5486 - val_accuracy: 0.8223\n"
     ]
    }
   ],
   "source": [
    "model_gmp.compile(optimizer='adam',\n",
    "              loss='binary_crossentropy',\n",
    "              metrics=['accuracy'])\n",
    "              \n",
    "epochs=20  # 몇 epoch를 훈련하면 좋을지 결과를 보면서 바꾸어 봅시다. \n",
    "\n",
    "history_gmp = model_gmp.fit(partial_x_train,\n",
    "                    partial_y_train,\n",
    "                    epochs=epochs,\n",
    "                    batch_size=512,\n",
    "                    validation_data=(x_val, y_val),\n",
    "                    verbose=1)"
   ]
  },
  {
   "cell_type": "code",
   "execution_count": 131,
   "id": "74ba0a7e",
   "metadata": {},
   "outputs": [
    {
     "name": "stdout",
     "output_type": "stream",
     "text": [
      "Epoch 1/20\n",
      "149/149 [==============================] - 2s 8ms/step - loss: 0.5308 - accuracy: 0.7276 - val_loss: 0.3725 - val_accuracy: 0.8365\n",
      "Epoch 2/20\n",
      "149/149 [==============================] - 1s 6ms/step - loss: 0.3390 - accuracy: 0.8533 - val_loss: 0.3551 - val_accuracy: 0.8449\n",
      "Epoch 3/20\n",
      "149/149 [==============================] - 1s 6ms/step - loss: 0.3014 - accuracy: 0.8744 - val_loss: 0.3570 - val_accuracy: 0.8458\n",
      "Epoch 4/20\n",
      "149/149 [==============================] - 1s 6ms/step - loss: 0.2748 - accuracy: 0.8876 - val_loss: 0.3586 - val_accuracy: 0.8462\n",
      "Epoch 5/20\n",
      "149/149 [==============================] - 1s 6ms/step - loss: 0.2474 - accuracy: 0.9015 - val_loss: 0.3722 - val_accuracy: 0.8448\n",
      "Epoch 6/20\n",
      "149/149 [==============================] - 1s 6ms/step - loss: 0.2162 - accuracy: 0.9167 - val_loss: 0.3952 - val_accuracy: 0.8403\n",
      "Epoch 7/20\n",
      "149/149 [==============================] - 1s 6ms/step - loss: 0.1817 - accuracy: 0.9342 - val_loss: 0.4221 - val_accuracy: 0.8399\n",
      "Epoch 8/20\n",
      "149/149 [==============================] - 1s 6ms/step - loss: 0.1482 - accuracy: 0.9491 - val_loss: 0.4536 - val_accuracy: 0.8362\n",
      "Epoch 9/20\n",
      "149/149 [==============================] - 1s 6ms/step - loss: 0.1179 - accuracy: 0.9617 - val_loss: 0.5028 - val_accuracy: 0.8330\n",
      "Epoch 10/20\n",
      "149/149 [==============================] - 1s 6ms/step - loss: 0.0942 - accuracy: 0.9706 - val_loss: 0.5686 - val_accuracy: 0.8294\n",
      "Epoch 11/20\n",
      "149/149 [==============================] - 1s 6ms/step - loss: 0.0759 - accuracy: 0.9776 - val_loss: 0.6053 - val_accuracy: 0.8267\n",
      "Epoch 12/20\n",
      "149/149 [==============================] - 1s 6ms/step - loss: 0.0619 - accuracy: 0.9825 - val_loss: 0.6698 - val_accuracy: 0.8245\n",
      "Epoch 13/20\n",
      "149/149 [==============================] - 1s 6ms/step - loss: 0.0519 - accuracy: 0.9860 - val_loss: 0.7142 - val_accuracy: 0.8215\n",
      "Epoch 14/20\n",
      "149/149 [==============================] - 1s 6ms/step - loss: 0.0428 - accuracy: 0.9886 - val_loss: 0.7629 - val_accuracy: 0.8211\n",
      "Epoch 15/20\n",
      "149/149 [==============================] - 1s 6ms/step - loss: 0.0370 - accuracy: 0.9900 - val_loss: 0.8082 - val_accuracy: 0.8185\n",
      "Epoch 16/20\n",
      "149/149 [==============================] - 1s 6ms/step - loss: 0.0318 - accuracy: 0.9919 - val_loss: 0.8545 - val_accuracy: 0.8168\n",
      "Epoch 17/20\n",
      "149/149 [==============================] - 1s 6ms/step - loss: 0.0281 - accuracy: 0.9925 - val_loss: 0.9147 - val_accuracy: 0.8158\n",
      "Epoch 18/20\n",
      "149/149 [==============================] - 1s 6ms/step - loss: 0.0257 - accuracy: 0.9929 - val_loss: 0.9536 - val_accuracy: 0.8164\n",
      "Epoch 19/20\n",
      "149/149 [==============================] - 1s 6ms/step - loss: 0.0234 - accuracy: 0.9937 - val_loss: 0.9980 - val_accuracy: 0.8130\n",
      "Epoch 20/20\n",
      "149/149 [==============================] - 1s 6ms/step - loss: 0.0216 - accuracy: 0.9939 - val_loss: 1.0421 - val_accuracy: 0.8114\n"
     ]
    }
   ],
   "source": [
    "model_1dcov.compile(optimizer='adam',\n",
    "              loss='binary_crossentropy',\n",
    "              metrics=['accuracy'])\n",
    "              \n",
    "epochs=20  # 몇 epoch를 훈련하면 좋을지 결과를 보면서 바꾸어 봅시다. \n",
    "\n",
    "history_1dconv = model_1dcov.fit(partial_x_train,\n",
    "                    partial_y_train,\n",
    "                    epochs=epochs,\n",
    "                    batch_size=512,\n",
    "                    validation_data=(x_val, y_val),\n",
    "                    verbose=1)"
   ]
  },
  {
   "cell_type": "code",
   "execution_count": 132,
   "id": "be909e17",
   "metadata": {
    "scrolled": false
   },
   "outputs": [
    {
     "name": "stdout",
     "output_type": "stream",
     "text": [
      "1537/1537 - 3s - loss: 0.6519 - accuracy: 0.8253\n",
      "[0.651869535446167, 0.8252741098403931]\n"
     ]
    }
   ],
   "source": [
    "results_lstm = model_lstm.evaluate(X_test,  y_test, verbose=2)\n",
    "\n",
    "print(results_lstm)"
   ]
  },
  {
   "cell_type": "code",
   "execution_count": 133,
   "id": "1ee51605",
   "metadata": {},
   "outputs": [
    {
     "name": "stdout",
     "output_type": "stream",
     "text": [
      "1537/1537 - 2s - loss: 0.5527 - accuracy: 0.8190\n",
      "[0.5527079701423645, 0.8189881443977356]\n"
     ]
    }
   ],
   "source": [
    "results_gmp = model_gmp.evaluate(X_test,  y_test, verbose=2)\n",
    "\n",
    "print(results_gmp)"
   ]
  },
  {
   "cell_type": "code",
   "execution_count": 134,
   "id": "f1b78c99",
   "metadata": {},
   "outputs": [
    {
     "name": "stdout",
     "output_type": "stream",
     "text": [
      "1537/1537 - 2s - loss: 1.0555 - accuracy: 0.8065\n",
      "[1.0555133819580078, 0.8064975738525391]\n"
     ]
    }
   ],
   "source": [
    "results_1dconv = model_1dcov.evaluate(X_test,  y_test, verbose=2)\n",
    "\n",
    "print(results_1dconv)"
   ]
  },
  {
   "cell_type": "code",
   "execution_count": 135,
   "id": "88e1e9a0",
   "metadata": {},
   "outputs": [
    {
     "data": {
      "image/png": "[encoded data removed]",
      "text/plain": [
       "<Figure size 432x288 with 1 Axes>"
      ]
     },
     "metadata": {
      "needs_background": "light"
     },
     "output_type": "display_data"
    }
   ],
   "source": [
    "import matplotlib.pyplot as plt\n",
    "\n",
    "history_dict = history_lstm.history\n",
    "\n",
    "acc = history_dict['accuracy']\n",
    "val_acc = history_dict['val_accuracy']\n",
    "loss = history_dict['loss']\n",
    "val_loss = history_dict['val_loss']\n",
    "\n",
    "epochs = range(1, len(acc) + 1)\n",
    "\n",
    "# \"bo\"는 \"파란색 점\"입니다\n",
    "plt.plot(epochs, acc, 'bo', label='Training accuracy of LSTM')\n",
    "# b는 \"파란 실선\"입니다\n",
    "plt.plot(epochs, val_acc, 'b', label='Validation accuracy of LSTM')\n",
    "plt.title('Training and validation accuracy LSTM ')\n",
    "plt.xlabel('Epochs')\n",
    "plt.ylabel('Loss')\n",
    "plt.legend()\n",
    "\n",
    "plt.show()"
   ]
  },
  {
   "cell_type": "code",
   "execution_count": 136,
   "id": "27237564",
   "metadata": {},
   "outputs": [
    {
     "data": {
      "image/png": "[encoded data removed]",
      "text/plain": [
       "<Figure size 432x288 with 1 Axes>"
      ]
     },
     "metadata": {
      "needs_background": "light"
     },
     "output_type": "display_data"
    }
   ],
   "source": [
    "plt.clf()   # 그림을 초기화합니다\n",
    "\n",
    "# \"bo\"는 \"파란색 점\"입니다\n",
    "plt.plot(epochs, loss, 'bo', label='Training loss of LSTM')\n",
    "# b는 \"파란 실선\"입니다\n",
    "plt.plot(epochs, val_loss, 'b', label='Validation loss of LSTM')\n",
    "plt.title('Training and validation loss LSTM ')\n",
    "plt.xlabel('Epochs')\n",
    "plt.ylabel('Loss')\n",
    "plt.legend()\n",
    "\n",
    "plt.show()"
   ]
  },
  {
   "cell_type": "code",
   "execution_count": 137,
   "id": "724500c5",
   "metadata": {},
   "outputs": [
    {
     "data": {
      "image/png": "[encoded data removed]",
      "text/plain": [
       "<Figure size 432x288 with 1 Axes>"
      ]
     },
     "metadata": {
      "needs_background": "light"
     },
     "output_type": "display_data"
    }
   ],
   "source": [
    "plt.clf()   # 그림을 초기화합니다\n",
    "\n",
    "history_dict = history_gmp.history\n",
    "\n",
    "acc = history_dict['accuracy']\n",
    "val_acc = history_dict['val_accuracy']\n",
    "loss = history_dict['loss']\n",
    "val_loss = history_dict['val_loss']\n",
    "\n",
    "epochs = range(1, len(acc) + 1)\n",
    "\n",
    "# \"bo\"는 \"파란색 점\"입니다\n",
    "plt.plot(epochs, acc, 'bo', label='Training accuracy of GMP')\n",
    "# b는 \"파란 실선\"입니다\n",
    "plt.plot(epochs, val_acc, 'b', label='Validation accuracy of GMP')\n",
    "plt.title('Training and validation accuracy GMP ')\n",
    "plt.xlabel('Epochs')\n",
    "plt.ylabel('Loss')\n",
    "plt.legend()\n",
    "\n",
    "plt.show()"
   ]
  },
  {
   "cell_type": "code",
   "execution_count": 138,
   "id": "8e9ed0f7",
   "metadata": {},
   "outputs": [
    {
     "data": {
      "image/png": "[encoded data removed]",
      "text/plain": [
       "<Figure size 432x288 with 1 Axes>"
      ]
     },
     "metadata": {
      "needs_background": "light"
     },
     "output_type": "display_data"
    }
   ],
   "source": [
    "plt.clf()   # 그림을 초기화합니다\n",
    "\n",
    "# \"bo\"는 \"파란색 점\"입니다\n",
    "plt.plot(epochs, loss, 'bo', label='Training loss of GMP')\n",
    "# b는 \"파란 실선\"입니다\n",
    "plt.plot(epochs, val_loss, 'b', label='Validation loss of GMP')\n",
    "plt.title('Training and validation loss GMP')\n",
    "plt.xlabel('Epochs')\n",
    "plt.ylabel('Loss')\n",
    "plt.legend()\n",
    "\n",
    "plt.show()"
   ]
  },
  {
   "cell_type": "code",
   "execution_count": 139,
   "id": "acecf620",
   "metadata": {},
   "outputs": [
    {
     "data": {
      "image/png": "[encoded data removed]",
      "text/plain": [
       "<Figure size 432x288 with 1 Axes>"
      ]
     },
     "metadata": {
      "needs_background": "light"
     },
     "output_type": "display_data"
    }
   ],
   "source": [
    "plt.clf()   # 그림을 초기화합니다\n",
    "\n",
    "history_dict = history_1dconv.history\n",
    "\n",
    "acc = history_dict['accuracy']\n",
    "val_acc = history_dict['val_accuracy']\n",
    "loss = history_dict['loss']\n",
    "val_loss = history_dict['val_loss']\n",
    "\n",
    "epochs = range(1, len(acc) + 1)\n",
    "\n",
    "# \"bo\"는 \"파란색 점\"입니다\n",
    "plt.plot(epochs, acc, 'bo', label='Training accuracy of 1DConv')\n",
    "# b는 \"파란 실선\"입니다\n",
    "plt.plot(epochs, val_acc, 'b', label='Validation accuracy of 1DConv')\n",
    "plt.title('Training and validation accuracy 1DConv ')\n",
    "plt.xlabel('Epochs')\n",
    "plt.ylabel('Loss')\n",
    "plt.legend()\n",
    "\n",
    "plt.show()"
   ]
  },
  {
   "cell_type": "code",
   "execution_count": 140,
   "id": "6778a543",
   "metadata": {},
   "outputs": [
    {
     "data": {
      "image/png": "[encoded data removed]",
      "text/plain": [
       "<Figure size 432x288 with 1 Axes>"
      ]
     },
     "metadata": {
      "needs_background": "light"
     },
     "output_type": "display_data"
    }
   ],
   "source": [
    "plt.clf()   # 그림을 초기화합니다\n",
    "\n",
    "# \"bo\"는 \"파란색 점\"입니다\n",
    "plt.plot(epochs, loss, 'bo', label='Training loss of 1DConv')\n",
    "# b는 \"파란 실선\"입니다\n",
    "plt.plot(epochs, val_loss, 'b', label='Validation loss of 1DConv')\n",
    "plt.title('Training and validation loss 1DConv')\n",
    "plt.xlabel('Epochs')\n",
    "plt.ylabel('Loss')\n",
    "plt.legend()\n",
    "\n",
    "plt.show()"
   ]
  },
  {
   "cell_type": "markdown",
   "id": "5fabd930",
   "metadata": {},
   "source": [
    "## 회고\n",
    "훈련 데이타의 성능은 1DConv > GMP > LSTM 이었으나\n",
    "테스트 데이타의 성능은 LSTM > GMP > 1DConv 순이었다. "
   ]
  },
  {
   "cell_type": "markdown",
   "id": "19344083",
   "metadata": {},
   "source": [
    "## 7) 학습된 Embedding 레이어 분석"
   ]
  },
  {
   "cell_type": "code",
   "execution_count": 141,
   "id": "4bffaa24",
   "metadata": {},
   "outputs": [
    {
     "name": "stdout",
     "output_type": "stream",
     "text": [
      "(10000, 16)\n"
     ]
    }
   ],
   "source": [
    "import os\n",
    "\n",
    "embedding_layer = model_lstm.layers[0]\n",
    "weights = embedding_layer.get_weights()[0]\n",
    "print(weights.shape)    # shape: (vocab_size, embedding_dim)\n",
    "\n",
    "# 학습한 Embedding 파라미터를 파일에 써서 저장합니다. \n",
    "word2vec_file_path = os.getenv('HOME')+'/aiffel/sentiment_classification/data/word2vec_kor.txt'\n",
    "f = open(word2vec_file_path, 'w')\n",
    "f.write('{} {}\\n'.format(vocab_size-4, word_vector_dim))  # 몇개의 벡터를 얼마 사이즈로 기재할지 타이틀을 씁니다.\n",
    "\n",
    "# 단어 개수(에서 특수문자 4개는 제외하고)만큼의 워드 벡터를 파일에 기록합니다. \n",
    "vectors = model_lstm.get_weights()[0]\n",
    "for i in range(4,vocab_size):\n",
    "    f.write('{} {}\\n'.format(index_to_word[i], ' '.join(map(str, list(vectors[i, :])))))\n",
    "f.close()"
   ]
  },
  {
   "cell_type": "code",
   "execution_count": 142,
   "id": "86aafadc",
   "metadata": {},
   "outputs": [],
   "source": [
    "from gensim.models.keyedvectors import Word2VecKeyedVectors\n",
    "\n",
    "word_vectors = Word2VecKeyedVectors.load_word2vec_format(word2vec_file_path, binary=False)\n"
   ]
  },
  {
   "cell_type": "code",
   "execution_count": 143,
   "id": "aab999cd",
   "metadata": {},
   "outputs": [
    {
     "data": {
      "text/plain": [
       "[('사장', 0.779790461063385),\n",
       " ('할까요', 0.7386757731437683),\n",
       " ('올랐', 0.7193067073822021),\n",
       " ('했으나', 0.7094541788101196),\n",
       " ('15', 0.698328971862793),\n",
       " ('기본', 0.6593843102455139),\n",
       " ('그것', 0.6552854180335999),\n",
       " ('오름', 0.6547656059265137),\n",
       " ('인류', 0.6518489718437195),\n",
       " ('긍정', 0.6441860198974609)]"
      ]
     },
     "execution_count": 143,
     "metadata": {},
     "output_type": "execute_result"
    }
   ],
   "source": [
    "word_vectors.similar_by_word(\"배우\")"
   ]
  },
  {
   "cell_type": "code",
   "execution_count": 144,
   "id": "166fba6d",
   "metadata": {
    "scrolled": true
   },
   "outputs": [
    {
     "data": {
      "text/plain": [
       "[('삼류', 0.96979820728302),\n",
       " ('단조', 0.9662771224975586),\n",
       " ('독보', 0.9660930633544922),\n",
       " ('야동', 0.9655789732933044),\n",
       " ('글쎄', 0.9639076590538025),\n",
       " ('런', 0.9636462926864624),\n",
       " ('차라리', 0.9627891778945923),\n",
       " ('무슨', 0.9575637578964233),\n",
       " ('그나마', 0.9570399522781372),\n",
       " ('재미없', 0.9568188190460205)]"
      ]
     },
     "execution_count": 144,
     "metadata": {},
     "output_type": "execute_result"
    }
   ],
   "source": [
    "word_vectors.similar_by_word(\"실망\")"
   ]
  },
  {
   "cell_type": "code",
   "execution_count": 145,
   "id": "70d29ede",
   "metadata": {},
   "outputs": [
    {
     "data": {
      "text/plain": [
       "9996"
      ]
     },
     "execution_count": 145,
     "metadata": {},
     "output_type": "execute_result"
    }
   ],
   "source": [
    "len(word_vectors.index_to_key)"
   ]
  },
  {
   "cell_type": "markdown",
   "id": "05d2d257",
   "metadata": {},
   "source": [
    "## 회고 : embeding 데이타의 유사성이 거의 없다"
   ]
  },
  {
   "cell_type": "markdown",
   "id": "074d2af5",
   "metadata": {},
   "source": [
    "## 8) 한국어 Word2Vec 임베딩 활용하여 성능 개선"
   ]
  },
  {
   "cell_type": "markdown",
   "id": "26abdd2f",
   "metadata": {},
   "source": [
    "한국어 Word2Vec은 /data 폴더 안에 있는 word2vec_ko.model을 활용\n",
    "한국어 Word2Vec을 활용할 때는 load_word2vec_format() 형태가 아닌 load() 형태로 모델을 불러와주세요\n",
    "\n",
    "/workspace/gcs/gcp_files/E-9/data"
   ]
  },
  {
   "cell_type": "code",
   "execution_count": 146,
   "id": "69023006",
   "metadata": {},
   "outputs": [],
   "source": [
    "from gensim.models import KeyedVectors\n",
    "from gensim.models.keyedvectors import Word2VecKeyedVectors\n",
    "\n",
    "#word2vec_file_path = os.getenv('HOME')+'/aiffel/data/word2vec_ko.model'\n",
    "word2vec_file_path = '/aiffel/data/word2vec_ko.model'\n",
    "pre_word_vectors = Word2VecKeyedVectors.load(word2vec_file_path)\n"
   ]
  },
  {
   "cell_type": "code",
   "execution_count": 147,
   "id": "8552c24c",
   "metadata": {},
   "outputs": [
    {
     "data": {
      "text/plain": [
       "100"
      ]
     },
     "execution_count": 147,
     "metadata": {},
     "output_type": "execute_result"
    }
   ],
   "source": [
    "pre_word_vectors.vector_size"
   ]
  },
  {
   "cell_type": "code",
   "execution_count": 148,
   "id": "6956d428",
   "metadata": {},
   "outputs": [
    {
     "data": {
      "text/plain": [
       "302960"
      ]
     },
     "execution_count": 148,
     "metadata": {},
     "output_type": "execute_result"
    }
   ],
   "source": [
    "len(pre_word_vectors.wv.index_to_key)"
   ]
  },
  {
   "cell_type": "code",
   "execution_count": 149,
   "id": "0b29baa2",
   "metadata": {},
   "outputs": [
    {
     "data": {
      "text/plain": [
       "(100,)"
      ]
     },
     "execution_count": 149,
     "metadata": {},
     "output_type": "execute_result"
    }
   ],
   "source": [
    "vector = pre_word_vectors.wv['영화']\n",
    "# vector  # 5*20 = 100dim 워드 벡터\n",
    "vector.shape"
   ]
  },
  {
   "cell_type": "code",
   "execution_count": 150,
   "id": "5a7a6b36",
   "metadata": {},
   "outputs": [
    {
     "data": {
      "text/plain": [
       "[('가수', 0.7729029655456543),\n",
       " ('코미디언', 0.7728644609451294),\n",
       " ('만화가', 0.749615490436554),\n",
       " ('영화배우', 0.7441834211349487),\n",
       " ('여배우', 0.7411354184150696),\n",
       " ('연출가', 0.7396705746650696),\n",
       " ('극작가', 0.7209770679473877),\n",
       " ('삽화가', 0.7152643799781799),\n",
       " ('안무가', 0.7149248123168945),\n",
       " ('무용가', 0.7118033766746521)]"
      ]
     },
     "execution_count": 150,
     "metadata": {},
     "output_type": "execute_result"
    }
   ],
   "source": [
    "pre_word_vectors.wv.most_similar(\"배우\")"
   ]
  },
  {
   "cell_type": "code",
   "execution_count": 151,
   "id": "9ee11444",
   "metadata": {
    "scrolled": true
   },
   "outputs": [
    {
     "data": {
      "text/plain": [
       "[('당황', 0.8200313448905945),\n",
       " ('당혹', 0.8075222373008728),\n",
       " ('곤혹', 0.771090030670166),\n",
       " ('낙담', 0.7601173520088196),\n",
       " ('분개', 0.7536212205886841),\n",
       " ('경악', 0.7477779984474182),\n",
       " ('뻔뻔', 0.7368745803833008),\n",
       " ('격분', 0.733599066734314),\n",
       " ('감탄', 0.7275494337081909),\n",
       " ('분노', 0.7243137955665588)]"
      ]
     },
     "execution_count": 151,
     "metadata": {},
     "output_type": "execute_result"
    }
   ],
   "source": [
    "pre_word_vectors.wv.most_similar(\"실망\")"
   ]
  },
  {
   "cell_type": "markdown",
   "id": "5eb2d3d3",
   "metadata": {},
   "source": [
    "## 회고\n",
    "1) 단어의 유사성 비교 \n",
    "   embedding layer로 훈련한 데이타의 유사성은 (배우, 실망) 두 단어에 대해서 유사성이 낮은 단어들이 출력되었고,  \n",
    "   pre-trained 벡터에서 (배우, 실망) 두 단어에 대해서 유사성이 높은 단어들이 출력되었다. \n",
    "2) 유사성 성능 차이로 생각되는 이유  \n",
    "   embeding layer로 훈련한 데이타는 갯수가 10000개(9996)개로 사이즈가 적고, \n",
    "   pre-trained data 는 30만개로 사이즈가 크다\n",
    "   또한, pre-trained는 여러번 다양한 단어들(토큰들)로 테스트를 여러번 누적된 데이타이므로, 벡터화가 잘 되어서, 성능이 좋다. "
   ]
  },
  {
   "cell_type": "code",
   "execution_count": 152,
   "id": "7c206b4f",
   "metadata": {},
   "outputs": [
    {
     "name": "stdout",
     "output_type": "stream",
     "text": [
      "(10000, 100)\n"
     ]
    }
   ],
   "source": [
    "\n",
    "pre_word_vector_dim = pre_word_vectors.vector_size  # 워드 벡터의 차원수\n",
    "\n",
    "embedding_matrix = np.random.rand(vocab_size, pre_word_vector_dim)\n",
    "\n",
    "print(embedding_matrix.shape)\n",
    "\n",
    "# embedding_matrix에 Word2Vec 워드 벡터를 단어 하나씩마다 차례차례 카피한다.\n",
    "for i in range(4,vocab_size):\n",
    "    if index_to_word[i] in pre_word_vectors.wv:\n",
    "        embedding_matrix[i] = pre_word_vectors.wv[index_to_word[i]]"
   ]
  },
  {
   "cell_type": "code",
   "execution_count": 173,
   "id": "c11c94a6",
   "metadata": {},
   "outputs": [
    {
     "name": "stdout",
     "output_type": "stream",
     "text": [
      "Model: \"sequential_13\"\n",
      "_________________________________________________________________\n",
      "Layer (type)                 Output Shape              Param #   \n",
      "=================================================================\n",
      "embedding_14 (Embedding)     (None, 41, 100)           1000000   \n",
      "_________________________________________________________________\n",
      "conv1d_10 (Conv1D)           (None, 35, 32)            22432     \n",
      "_________________________________________________________________\n",
      "max_pooling1d_5 (MaxPooling1 (None, 7, 32)             0         \n",
      "_________________________________________________________________\n",
      "conv1d_11 (Conv1D)           (None, 1, 32)             7200      \n",
      "_________________________________________________________________\n",
      "global_max_pooling1d_8 (Glob (None, 32)                0         \n",
      "_________________________________________________________________\n",
      "dense_26 (Dense)             (None, 16)                528       \n",
      "_________________________________________________________________\n",
      "dense_27 (Dense)             (None, 1)                 17        \n",
      "=================================================================\n",
      "Total params: 1,030,177\n",
      "Trainable params: 1,030,177\n",
      "Non-trainable params: 0\n",
      "_________________________________________________________________\n"
     ]
    }
   ],
   "source": [
    "from tensorflow.keras.initializers import Constant\n",
    "from tensorflow import keras\n",
    "from tensorflow.keras import layers\n",
    "\n",
    "# 모델 구성\n",
    "model = tf.keras.Sequential()\n",
    "model.add(tf.keras.layers.Embedding(vocab_size, \n",
    "                                 pre_word_vector_dim, \n",
    "                                 embeddings_initializer=Constant(embedding_matrix),  # 카피한 임베딩을 여기서 활용\n",
    "                                 input_length=maxlen, \n",
    "                                 trainable=True))   # trainable을 True로 주면 Fine-tuning\n",
    "model.add(tf.keras.layers.Conv1D(32, 7, activation='relu'))\n",
    "model.add(tf.keras.layers.MaxPooling1D(5))\n",
    "model.add(tf.keras.layers.Conv1D(32, 7, activation='relu'))\n",
    "model.add(tf.keras.layers.GlobalMaxPooling1D())\n",
    "model.add(tf.keras.layers.Dense(16, activation='relu'))\n",
    "model.add(tf.keras.layers.Dense(1, activation='sigmoid')) \n",
    "\n",
    "model.summary()"
   ]
  },
  {
   "cell_type": "code",
   "execution_count": 174,
   "id": "00813e69",
   "metadata": {},
   "outputs": [
    {
     "name": "stdout",
     "output_type": "stream",
     "text": [
      "Epoch 1/10\n",
      "149/149 [==============================] - 2s 8ms/step - loss: 0.6075 - accuracy: 0.6621 - val_loss: 0.5338 - val_accuracy: 0.7372\n",
      "Epoch 2/10\n",
      "149/149 [==============================] - 1s 7ms/step - loss: 0.5081 - accuracy: 0.7526 - val_loss: 0.5106 - val_accuracy: 0.7520\n",
      "Epoch 3/10\n",
      "149/149 [==============================] - 1s 7ms/step - loss: 0.4553 - accuracy: 0.7865 - val_loss: 0.4761 - val_accuracy: 0.7746\n",
      "Epoch 4/10\n",
      "149/149 [==============================] - 1s 7ms/step - loss: 0.4152 - accuracy: 0.8113 - val_loss: 0.4266 - val_accuracy: 0.8057\n",
      "Epoch 5/10\n",
      "149/149 [==============================] - 1s 7ms/step - loss: 0.3838 - accuracy: 0.8282 - val_loss: 0.4332 - val_accuracy: 0.8036\n",
      "Epoch 6/10\n",
      "149/149 [==============================] - 1s 6ms/step - loss: 0.3577 - accuracy: 0.8427 - val_loss: 0.4062 - val_accuracy: 0.8200\n",
      "Epoch 7/10\n",
      "149/149 [==============================] - 1s 7ms/step - loss: 0.3348 - accuracy: 0.8542 - val_loss: 0.4087 - val_accuracy: 0.8186\n",
      "Epoch 8/10\n",
      "149/149 [==============================] - 1s 6ms/step - loss: 0.3147 - accuracy: 0.8642 - val_loss: 0.4121 - val_accuracy: 0.8196\n",
      "Epoch 9/10\n",
      "149/149 [==============================] - 1s 6ms/step - loss: 0.2977 - accuracy: 0.8726 - val_loss: 0.4104 - val_accuracy: 0.8280\n",
      "Epoch 10/10\n",
      "149/149 [==============================] - 1s 6ms/step - loss: 0.2818 - accuracy: 0.8809 - val_loss: 0.4098 - val_accuracy: 0.8234\n"
     ]
    }
   ],
   "source": [
    "# 학습의 진행\n",
    "model.compile(optimizer='rmsprop',\n",
    "              loss='binary_crossentropy',\n",
    "              metrics=['accuracy'])\n",
    "              \n",
    "epochs=10  # 몇 epoch를 훈련하면 좋을지 결과를 보면서 바꾸어 봅시다. \n",
    "\n",
    "callbacks = [\n",
    "    keras.callbacks.ModelCheckpoint(\"embeddings_bidir_lstm.h5\",\n",
    "                                    save_best_only=True)\n",
    "]\n",
    "\n",
    "history_pre = model.fit(partial_x_train,\n",
    "                    partial_y_train,\n",
    "                    epochs=epochs,\n",
    "                    batch_size=512,\n",
    "                    validation_data=(x_val, y_val),\n",
    "                    verbose=1, \n",
    "                    callbacks=callbacks)\n"
   ]
  },
  {
   "cell_type": "code",
   "execution_count": 175,
   "id": "e02b6e58",
   "metadata": {},
   "outputs": [
    {
     "name": "stdout",
     "output_type": "stream",
     "text": [
      "1537/1537 - 2s - loss: 0.4175 - accuracy: 0.8188\n",
      "[0.4174971580505371, 0.8187643885612488]\n"
     ]
    }
   ],
   "source": [
    "results_pre = model.evaluate(X_test,  y_test, verbose=2)\n",
    "\n",
    "print(results_pre)"
   ]
  },
  {
   "cell_type": "code",
   "execution_count": 156,
   "id": "52898dba",
   "metadata": {},
   "outputs": [
    {
     "data": {
      "image/png": "[encoded data removed]",
      "text/plain": [
       "<Figure size 432x288 with 1 Axes>"
      ]
     },
     "metadata": {
      "needs_background": "light"
     },
     "output_type": "display_data"
    }
   ],
   "source": [
    "history_dict = history_pre.history\n",
    "\n",
    "acc = history_dict['accuracy']\n",
    "val_acc = history_dict['val_accuracy']\n",
    "loss = history_dict['loss']\n",
    "val_loss = history_dict['val_loss']\n",
    "\n",
    "epochs = range(1, len(acc) + 1)\n",
    "\n",
    "# \"bo\"는 \"파란색 점\"입니다\n",
    "plt.plot(epochs, acc, 'bo', label='Training accuracy of PreTrain')\n",
    "# b는 \"파란 실선\"입니다\n",
    "plt.plot(epochs, val_acc, 'b', label='Validation accuracy of PreTrain')\n",
    "plt.title('Training and validation accuracy PreTrain ')\n",
    "plt.xlabel('Epochs')\n",
    "plt.ylabel('Accuracy')\n",
    "plt.legend()\n",
    "\n",
    "plt.show()"
   ]
  },
  {
   "cell_type": "code",
   "execution_count": 157,
   "id": "e7855b26",
   "metadata": {},
   "outputs": [
    {
     "data": {
      "image/png": "[encoded data removed]",
      "text/plain": [
       "<Figure size 432x288 with 1 Axes>"
      ]
     },
     "metadata": {
      "needs_background": "light"
     },
     "output_type": "display_data"
    }
   ],
   "source": [
    "plt.clf()   # 그림을 초기화합니다\n",
    "\n",
    "# \"bo\"는 \"파란색 점\"입니다\n",
    "plt.plot(epochs, loss, 'bo', label='Training loss of PreTrain')\n",
    "# b는 \"파란 실선\"입니다\n",
    "plt.plot(epochs, val_loss, 'b', label='Validation loss of PreTrain')\n",
    "plt.title('Training and validation loss PreTrain')\n",
    "plt.xlabel('Epochs')\n",
    "plt.ylabel('Loss')\n",
    "plt.legend()\n",
    "\n",
    "plt.show()"
   ]
  },
  {
   "cell_type": "code",
   "execution_count": 176,
   "id": "4b88b87c",
   "metadata": {},
   "outputs": [
    {
     "name": "stdout",
     "output_type": "stream",
     "text": [
      "Model: \"sequential_14\"\n",
      "_________________________________________________________________\n",
      "Layer (type)                 Output Shape              Param #   \n",
      "=================================================================\n",
      "embedding_15 (Embedding)     (None, 41, 100)           1000000   \n",
      "_________________________________________________________________\n",
      "lstm_6 (LSTM)                (None, 32)                17024     \n",
      "_________________________________________________________________\n",
      "dense_28 (Dense)             (None, 16)                528       \n",
      "_________________________________________________________________\n",
      "dense_29 (Dense)             (None, 1)                 17        \n",
      "=================================================================\n",
      "Total params: 1,017,569\n",
      "Trainable params: 1,017,569\n",
      "Non-trainable params: 0\n",
      "_________________________________________________________________\n"
     ]
    }
   ],
   "source": [
    "\n",
    "# 모델 구성\n",
    "model_pre = tf.keras.Sequential()\n",
    "model_pre.add(tf.keras.layers.Embedding(vocab_size, \n",
    "                                 pre_word_vector_dim, \n",
    "                                 embeddings_initializer=Constant(embedding_matrix),  # 카피한 임베딩을 여기서 활용\n",
    "                                 input_length=maxlen, \n",
    "                                 trainable=True))   # trainable을 True로 주면 Fine-tuning\n",
    "model_pre.add(tf.keras.layers.LSTM(32))   \n",
    "model_pre.add(tf.keras.layers.Dense(16, activation='relu'))\n",
    "model_pre.add(tf.keras.layers.Dense(1, activation='sigmoid'))  # 최종 출력은 긍정/부정을 나타내는 1dim 입니다.\n",
    "model_pre.summary()\n"
   ]
  },
  {
   "cell_type": "code",
   "execution_count": null,
   "id": "de01574c",
   "metadata": {},
   "outputs": [
    {
     "name": "stdout",
     "output_type": "stream",
     "text": [
      "Epoch 1/20\n",
      "147/149 [============================>.] - ETA: 0s - loss: 0.5720 - accuracy: 0.6992"
     ]
    }
   ],
   "source": [
    "# 학습의 진행\n",
    "model_pre.compile(optimizer='rmsprop',\n",
    "              loss='binary_crossentropy',\n",
    "              metrics=['accuracy'])\n",
    "              \n",
    "epochs=20  # 몇 epoch를 훈련하면 좋을지 결과를 보면서 바꾸어 봅시다. \n",
    "\n",
    "callbacks = [\n",
    "    keras.callbacks.ModelCheckpoint(\"embeddings_bidir_lstm.h5\",\n",
    "                                    save_best_only=True)\n",
    "]\n",
    "\n",
    "history_pre = model_pre.fit(partial_x_train,\n",
    "                    partial_y_train,\n",
    "                    epochs=epochs,\n",
    "                    batch_size=512,\n",
    "                    validation_data=(x_val, y_val),\n",
    "                    verbose=1, \n",
    "                    callbacks=callbacks)\n"
   ]
  },
  {
   "cell_type": "code",
   "execution_count": 172,
   "id": "176c75e2",
   "metadata": {},
   "outputs": [
    {
     "name": "stdout",
     "output_type": "stream",
     "text": [
      "1537/1537 - 3s - loss: 0.3549 - accuracy: 0.8464\n",
      "[0.35489827394485474, 0.8464104533195496]\n"
     ]
    }
   ],
   "source": [
    "results_pre2 = model_pre.evaluate(X_test,  y_test, verbose=2)\n",
    "\n",
    "print(results_pre2)"
   ]
  },
  {
   "cell_type": "code",
   "execution_count": null,
   "id": "7cc1c37b",
   "metadata": {},
   "outputs": [],
   "source": []
  }
 ],
 "metadata": {
  "kernelspec": {
   "display_name": "Python 3 (ipykernel)",
   "language": "python",
   "name": "python3"
  },
  "language_info": {
   "codemirror_mode": {
    "name": "ipython",
    "version": 3
   },
   "file_extension": ".py",
   "mimetype": "text/x-python",
   "name": "python",
   "nbconvert_exporter": "python",
   "pygments_lexer": "ipython3",
   "version": "3.9.7"
  }
 },
 "nbformat": 4,
 "nbformat_minor": 5
}
