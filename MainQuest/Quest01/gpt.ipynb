{
 "cells": [
  {
   "cell_type": "markdown",
   "id": "9c1e2be7",
   "metadata": {},
   "source": [
    "## Transformer와 비교해 변경이 필요한 부분 \n",
    "\n",
    "\n",
    "1. 데이타 전처리 \n",
    "   - A안.  Input은 Question과 Answer를 붙인다. \n",
    "   - B안.  Input/ouput은 START와 END_TOKEN을 붙인다\n",
    "\n",
    "2. Positional Embedding\n",
    "   - Embedding Layer를 추가한다. \n",
    "   - 단어 임베딩과 별도로 inputs에 대한 positional embeding을 추가한다. \n",
    "   \n",
    "3. Encoder \n",
    "   - Encoder는 삭제한다. \n",
    "   \n",
    "4. Decorder 층\n",
    "  - Decoder층은 Encoder가 없으므로, Encoder-Decoder Mutlti-head Attention Layer가 없음\n",
    "    따라서 padding_mask도 필요 없음\n",
    "  - Decoder 층 \n",
    "      - Masked Multi-head Attention 층\n",
    "      - Layer Norm\n",
    "      - Feed Forward \n",
    "      - Layer Norm\n",
    "\n",
    "5. 모델 구성 \n",
    "  - gtp 모델은 [inputs, look_ahead_mask]와 [outputs]로 구성"
   ]
  },
  {
   "cell_type": "code",
   "execution_count": 1,
   "id": "63dd0bca",
   "metadata": {},
   "outputs": [],
   "source": [
    "import tensorflow as tf\n",
    "import tensorflow_datasets as tfds\n",
    "import os\n",
    "import re\n",
    "import numpy as np\n",
    "import matplotlib.pyplot as plt"
   ]
  },
  {
   "cell_type": "markdown",
   "id": "20ffc395",
   "metadata": {},
   "source": [
    "## 데이타 전처리"
   ]
  },
  {
   "cell_type": "code",
   "execution_count": 2,
   "id": "8fe4a59a",
   "metadata": {},
   "outputs": [
    {
     "name": "stdout",
     "output_type": "stream",
     "text": [
      "                 Q            A  label\n",
      "0           12시 땡!   하루가 또 가네요.      0\n",
      "1      1지망 학교 떨어졌어    위로해 드립니다.      0\n",
      "2     3박4일 놀러가고 싶다  여행은 언제나 좋죠.      0\n",
      "3  3박4일 정도 놀러가고 싶다  여행은 언제나 좋죠.      0\n",
      "4          PPL 심하네   눈살이 찌푸려지죠.      0\n"
     ]
    }
   ],
   "source": [
    "import pandas as pd\n",
    "\n",
    "# CSV 로딩\n",
    "data_path = os.path.join(os.getenv(\"HOME\"), \"aiffel/transformer_chatbot/data/ChatbotData .csv\")\n",
    "df = pd.read_csv(data_path)\n",
    "\n",
    "print(df.head())\n"
   ]
  },
  {
   "cell_type": "code",
   "execution_count": 3,
   "id": "7d25a8a1",
   "metadata": {},
   "outputs": [],
   "source": [
    "# 전처리 함수\n",
    "def preprocess_sentence(sentence):\n",
    "\n",
    "  # 소문자화 & 공백 제거 (한국어는 대소문자 의미 없음, 하지만 영어 혼합 대비)\n",
    "  sentence = sentence.lower().strip()\n",
    "\n",
    "  # 단어와 구두점(punctuation) 사이의 거리를 만듭니다.\n",
    "  # 예를 들어서 \"I am a student.\" => \"I am a student .\"와 같이\n",
    "  # student와 온점 사이에 거리를 만듭니다.\n",
    "  sentence = re.sub(r\"([?.!,])\", r\" \\1 \", sentence)  # 구두점 앞뒤로 공백추가\n",
    " \n",
    "  # 허용된 문자 외 제거 (한글, 영어, 숫자, 구두점)\n",
    "  sentence = re.sub(r\"[^가-힣ㄱ-ㅎㅏ-ㅣa-zA-Z0-9?.!,]+\", \" \", sentence)\n",
    "  \n",
    "  # 다중 공백 정리\n",
    "  sentence = re.sub(r'[\" \"]+', \" \", sentence)        # 여러개의 공백을 하나로\n",
    "  \n",
    "  return sentence"
   ]
  },
  {
   "cell_type": "code",
   "execution_count": 4,
   "id": "11fb2808",
   "metadata": {},
   "outputs": [
    {
     "name": "stdout",
     "output_type": "stream",
     "text": [
      "전체 샘플 수 : 11823\n",
      "전체 샘플 수 : 11823\n",
      "전처리 후의 질문: ['12시 땡 ! ', '1지망 학교 떨어졌어', '3박4일 놀러가고 싶다', '3박4일 정도 놀러가고 싶다', 'ppl 심하네']\n",
      "전처리 후의 답변: ['하루가 또 가네요 . ', '위로해 드립니다 . ', '여행은 언제나 좋죠 . ', '여행은 언제나 좋죠 . ', '눈살이 찌푸려지죠 . ']\n"
     ]
    }
   ],
   "source": [
    "# 질문과 답변 분리 + 전처리 적용\n",
    "questions = [preprocess_sentence(q) for q in df['Q']]\n",
    "answers = [preprocess_sentence(a) for a in df['A']]\n",
    "\n",
    "print('전체 샘플 수 :', len(questions))\n",
    "print('전체 샘플 수 :', len(answers))\n",
    "\n",
    "print(\"전처리 후의 질문:\", questions[:5])\n",
    "print(\"전처리 후의 답변:\", answers[:5])\n"
   ]
  },
  {
   "cell_type": "code",
   "execution_count": 5,
   "id": "921e0b7f",
   "metadata": {},
   "outputs": [
    {
     "data": {
      "image/png": "[encoded data removed]",
      "text/plain": [
       "<Figure size 432x288 with 1 Axes>"
      ]
     },
     "metadata": {
      "needs_background": "light"
     },
     "output_type": "display_data"
    }
   ],
   "source": [
    "# 길이 확인을 위한 리스트 생성\n",
    "question_lengths = [len(q) for q in questions]\n",
    "answer_lengths = [len(a) for a in answers]\n",
    "\n",
    "# 히스토그램 시각화\n",
    "plt.hist(question_lengths, bins=50, alpha=0.6, label='Questions')\n",
    "plt.hist(answer_lengths, bins=50, alpha=0.6, label='Answers')\n",
    "plt.xlabel('Length')\n",
    "plt.ylabel('Count')\n",
    "plt.title('Token Length Distribution')\n",
    "plt.legend()\n",
    "plt.grid()\n",
    "plt.show()"
   ]
  },
  {
   "cell_type": "markdown",
   "id": "3c5e99a7",
   "metadata": {},
   "source": [
    "**Subword Tokenizer**"
   ]
  },
  {
   "cell_type": "markdown",
   "id": "df3d3846",
   "metadata": {},
   "source": [
    "1) TensorFlow Datasets SubwordTextEncoder 를 토크나이저로 사용한다.  \n",
    "    단어보다 더 작은 단위인 Subword를 기준으로 토크나이징하고,  각 토큰을 고유한 정수로 인코딩 한다.\n",
    "\n",
    "2) 각 문장을 토큰화하고 각 문장의 시작과 끝을 나타내는 START_TOKEN 및 END_TOKEN을 추가한다.\n",
    "\n",
    "3) 최대 길이 MAX_LENGTH 인 MAX_LENGTH을 넘는 문장들은 필터링한다.\n",
    "\n",
    "4) MAX_LENGTH보다 길이가 짧은 문장들은 MAX_LENGTH에 맞도록 패딩 한다."
   ]
  },
  {
   "cell_type": "code",
   "execution_count": 6,
   "id": "8d99ccec",
   "metadata": {},
   "outputs": [],
   "source": [
    "import tensorflow_datasets as tfds\n",
    "\n",
    "\n",
    "# 질문과 답변 데이터셋에 대해서 Vocabulary 생성\n",
    "# 인자 : corpus = 문자열 리스트, target_vocab_size = 원하는 어휘 수\n",
    "tokenizer = tfds.deprecated.text.SubwordTextEncoder.build_from_corpus(questions + answers, target_vocab_size=2**13)\n"
   ]
  },
  {
   "cell_type": "code",
   "execution_count": 7,
   "id": "7ef9f8bb",
   "metadata": {},
   "outputs": [
    {
     "name": "stdout",
     "output_type": "stream",
     "text": [
      "START_TOKEN의 번호 : [8168]\n",
      "END_TOKEN의 번호 : [8169]\n",
      "DEL_TOKEN의 번호 : [8170]\n",
      "단어장의 크기 : 8171\n"
     ]
    }
   ],
   "source": [
    "# 시작 토큰과 종료 토큰에 고유한 정수를 부여합니다.\n",
    "START_TOKEN, END_TOKEN = [tokenizer.vocab_size], [tokenizer.vocab_size + 1]\n",
    "DEL_TOKEN = [tokenizer.vocab_size + 2]\n",
    "\n",
    "print('START_TOKEN의 번호 :' ,[tokenizer.vocab_size])\n",
    "print('END_TOKEN의 번호 :' ,[tokenizer.vocab_size + 1])\n",
    "print('DEL_TOKEN의 번호 :' ,[tokenizer.vocab_size + 2])\n",
    "\n",
    "# 시작 토큰과 종료 토큰을 고려하여 +3를 하여 단어장의 크기를 산정합니다.\n",
    "VOCAB_SIZE = tokenizer.vocab_size + 3\n",
    "print('단어장의 크기 :',(VOCAB_SIZE))"
   ]
  },
  {
   "cell_type": "markdown",
   "id": "2d6cf30a",
   "metadata": {},
   "source": [
    "**INPUT 및 LABEL 정의**\n",
    "\n",
    "  - input은 질문과 대답으로 한 문장으로 계산  "
   ]
  },
  {
   "cell_type": "code",
   "execution_count": 8,
   "id": "8f23745c",
   "metadata": {},
   "outputs": [],
   "source": [
    "# 정수 인코딩, 최대 길이를 초과하는 샘플 제거, 패딩\n",
    "def tokenize_full_input(inputs, outputs):\n",
    "  tokenized_inputs, tokenized_outputs = [], []\n",
    "  \n",
    "  for (sentence1, sentence2) in zip(inputs, outputs):\n",
    "    \n",
    "    # 정수 인코딩 과정에서 시작 토큰과 종료 토큰을 추가\n",
    "    input_ids = START_TOKEN + tokenizer.encode(sentence1) + DEL_TOKEN\n",
    "    output_ids = tokenizer.encode(sentence2)+ END_TOKEN\n",
    "    \n",
    "    # 전체 input = 질문 + 대답\n",
    "    full_input = input_ids + output_ids \n",
    "    \n",
    "    # label은 padding 등을 고려해 필요 부분만 마스킹하도록 구성 (보통 output_ids에 해당)\n",
    "    labels = [-100] * len(input_ids) + output_ids  # input 부분은 loss 계산에서 제외\n",
    "\n",
    "    tokenized_inputs.append(full_input)\n",
    "    tokenized_outputs.append(labels)\n",
    "\n",
    "  return tokenized_inputs, tokenized_outputs\n"
   ]
  },
  {
   "cell_type": "code",
   "execution_count": 9,
   "id": "0248d4c3",
   "metadata": {},
   "outputs": [],
   "source": [
    "# 정수 인코딩, 최대 길이를 초과하는 샘플 제거, 패딩\n",
    "def tokenize(inputs, outputs):\n",
    "  tokenized_inputs, tokenized_outputs = [], []\n",
    "  \n",
    "  for (sentence1, sentence2) in zip(inputs, outputs):\n",
    "    \n",
    "    # 정수 인코딩 과정에서 시작 토큰과 종료 토큰을 추가\n",
    "    input_ids = START_TOKEN + tokenizer.encode(sentence1) + END_TOKEN\n",
    "    output_ids = START_TOKEN+ tokenizer.encode(sentence2)+ END_TOKEN\n",
    "\n",
    "    tokenized_inputs.append(input_ids)\n",
    "    tokenized_outputs.append(output_ids)\n",
    "\n",
    "  return tokenized_inputs, tokenized_outputs"
   ]
  },
  {
   "cell_type": "code",
   "execution_count": 10,
   "id": "7a475df7",
   "metadata": {},
   "outputs": [
    {
     "data": {
      "image/png": "[encoded data removed]",
      "text/plain": [
       "<Figure size 432x288 with 1 Axes>"
      ]
     },
     "metadata": {
      "needs_background": "light"
     },
     "output_type": "display_data"
    }
   ],
   "source": [
    "# 실제 질문과 답변 토큰화 수행\n",
    "tokenized_questions, tokenized_answers = tokenize(questions, answers)\n",
    "\n",
    "\n",
    "# 길이 확인을 위한 리스트 생성\n",
    "question_lengths = [len(q) for q in tokenized_questions]\n",
    "answer_lengths = [len(a) for a in tokenized_answers]\n",
    "\n",
    "# 히스토그램 시각화\n",
    "plt.hist(question_lengths, bins=50, alpha=0.6, label='Questions')\n",
    "plt.hist(answer_lengths, bins=50, alpha=0.6, label='Answers')\n",
    "plt.xlabel('Length')\n",
    "plt.ylabel('Count')\n",
    "plt.title('Token Length Distribution')\n",
    "plt.legend()\n",
    "plt.grid()\n",
    "plt.show()"
   ]
  },
  {
   "cell_type": "code",
   "execution_count": 11,
   "id": "bbb23396",
   "metadata": {},
   "outputs": [
    {
     "name": "stdout",
     "output_type": "stream",
     "text": [
      "질문 최대 길이: 23\n",
      "답변 최대 길이: 31\n",
      "98% 질문 길이: 14.0\n",
      "98% 답변 길이: 15.0\n"
     ]
    }
   ],
   "source": [
    "# 질문과 답변의 최대 길이 출력\n",
    "print('질문 최대 길이:', np.max(question_lengths))\n",
    "print('답변 최대 길이:', np.max(answer_lengths))\n",
    "\n",
    "# 98% 백분위수 기준 길이 출력\n",
    "print('98% 질문 길이:', np.percentile(question_lengths, 98))\n",
    "print('98% 답변 길이:', np.percentile(answer_lengths, 98))"
   ]
  },
  {
   "cell_type": "code",
   "execution_count": 12,
   "id": "4296a514",
   "metadata": {},
   "outputs": [],
   "source": [
    "# 샘플의 최대 허용 길이 또는 패딩 후의 최종 길이\n",
    "MAX_LENGTH = 30"
   ]
  },
  {
   "cell_type": "code",
   "execution_count": 13,
   "id": "a532be57",
   "metadata": {},
   "outputs": [],
   "source": [
    "def filter_and_padding(tokenized_questions, tokenized_answers):\n",
    "\n",
    "    filtered_inputs, filtered_outputs = [], []\n",
    "\n",
    "    for q, a in zip(tokenized_questions, tokenized_answers):\n",
    "        if len(q) <= MAX_LENGTH and len(a) <= MAX_LENGTH:\n",
    "            filtered_inputs.append(q)\n",
    "            filtered_outputs.append(a)\n",
    "\n",
    "    # 패딩 적용\n",
    "    padded_inputs = tf.keras.preprocessing.sequence.pad_sequences(\n",
    "        filtered_inputs, maxlen=MAX_LENGTH, padding='post'\n",
    "    )\n",
    "    padded_outputs = tf.keras.preprocessing.sequence.pad_sequences(\n",
    "        filtered_outputs, maxlen=MAX_LENGTH, padding='post'\n",
    "    )\n",
    "\n",
    "    return padded_inputs, padded_outputs"
   ]
  },
  {
   "cell_type": "code",
   "execution_count": 14,
   "id": "b55272bf",
   "metadata": {
    "scrolled": true
   },
   "outputs": [
    {
     "name": "stdout",
     "output_type": "stream",
     "text": [
      "필터링 후의 질문 샘플 개수: 11822\n",
      "필터링 후의 답변 샘플 개수: 11822\n"
     ]
    }
   ],
   "source": [
    "questions, answers = filter_and_padding(tokenized_questions, tokenized_answers)\n",
    "print('필터링 후의 질문 샘플 개수: {}'.format(len(questions)))\n",
    "print('필터링 후의 답변 샘플 개수: {}'.format(len(answers)))"
   ]
  },
  {
   "cell_type": "markdown",
   "id": "35277d4b",
   "metadata": {},
   "source": [
    "**교사 강요(Teacher Forcing)는 사용하지 않는다**"
   ]
  },
  {
   "cell_type": "code",
   "execution_count": 15,
   "id": "5cc1913d",
   "metadata": {},
   "outputs": [],
   "source": [
    "BATCH_SIZE = 64\n",
    "BUFFER_SIZE = 20000\n",
    "\n",
    "# 디코더는 이전의 target을 다음의 input으로 사용합니다.\n",
    "# 이에 따라 outputs에서는 START_TOKEN을 제거하겠습니다.\n",
    "dataset = tf.data.Dataset.from_tensor_slices((\n",
    "    {\n",
    "        'inputs': questions,\n",
    "        \n",
    "        \n",
    "    },\n",
    "    {\n",
    "        'outputs': answers,      # 디코더 출력 (정답), START_TOKEN 제거\n",
    "    },\n",
    "))\n",
    "\n",
    "dataset = dataset.cache()                       # 메모리에 캐싱, 에포크가 반복될때 디스크 읽기/파싱 비용을 줄임\n",
    "dataset = dataset.shuffle(BUFFER_SIZE)          # 무작위로 섞지 않으면, 학습이 데이터 순서에 의존하게 되어 과적합 위험이 높아짐\n",
    "dataset = dataset.batch(BATCH_SIZE)             # 배치로 묶어서 모델에 한번에 전달\n",
    "dataset = dataset.prefetch(tf.data.experimental.AUTOTUNE) # GPU가 학습하는 동안 CPU가 다음 배치를 미리 준비\n"
   ]
  },
  {
   "cell_type": "markdown",
   "id": "51ad2e9a",
   "metadata": {},
   "source": [
    "## 공통 함수"
   ]
  },
  {
   "cell_type": "markdown",
   "id": "854a749b",
   "metadata": {},
   "source": [
    "**포지셔널 임베딩**"
   ]
  },
  {
   "cell_type": "markdown",
   "id": "5218d44d",
   "metadata": {},
   "source": [
    "- PositinalEncoding은 사인,코사인이 교차되도록 포지션을 계산하지만 \n",
    "- PositionalEmbedding은 Embedding Layer를 추가한다. "
   ]
  },
  {
   "cell_type": "code",
   "execution_count": 16,
   "id": "9265c62d",
   "metadata": {},
   "outputs": [],
   "source": [
    "from tensorflow.keras import layers\n",
    "\n",
    "# 포지셔널 임베딩 레이어\n",
    "# d_model : 임베딩 벡터의 차원,  각 단어 벡터의 차원 (예: 512)\n",
    "# position: 입력 문장에서의 임베딩 벡터의 위치, 시퀀스의 최대 길이 \n",
    "class PositionalEmbedding(tf.keras.layers.Layer):\n",
    "\n",
    "  def __init__(self, max_seq_len, embedding_dim):                                                           \n",
    "    super(PositionalEmbedding, self).__init__()\n",
    "    self.max_seq_len = max_seq_len\n",
    "    self.embedding_dim = embedding_dim\n",
    "    self.pos_embedding = tf.keras.layers.Embedding(\n",
    "                        input_dim = max_seq_len,\n",
    "                        output_dim = embedding_dim)\n",
    "    \n",
    "  def call(self, inputs):\n",
    "    # inputs : (batch_size, seq_len, d_model)\n",
    "    # self.pos_encoding : (1, max_position, d_model)\n",
    "    # inputs의 seq_len <= max_position\n",
    "    \n",
    "    seq_len = tf.shape(inputs)[1]\n",
    "    positions = tf.range(start=0, limit=seq_len, delta=1)\n",
    "    positions = tf.expand_dims(positions, 0)  # [1, seq_len]\n",
    "    positions = tf.tile(positions, [tf.shape(inputs)[0], 1])  # [batch_size, seq_len]\n",
    "    return self.pos_embedding(positions)  # [batch_size, seq_len, embedding_dim]\n",
    "\n"
   ]
  },
  {
   "cell_type": "markdown",
   "id": "499dbcde",
   "metadata": {},
   "source": [
    "**어텐션**"
   ]
  },
  {
   "cell_type": "code",
   "execution_count": 17,
   "id": "a243e20f",
   "metadata": {},
   "outputs": [],
   "source": [
    "# 스케일드 닷 프로덕트 어텐션 함수\n",
    "def scaled_dot_product_attention(query, key, value, mask):\n",
    "  # 어텐션 가중치는 Q와 K의 닷 프로덕트\n",
    "\n",
    "  matmul_qk = tf.matmul(query, key, transpose_b=True)  # 행렬 곱셈(matrix multiplication), key를 transpose함\n",
    "  # Q: (batch_size, num_heads, seq_len_q, depth)\n",
    "  # K: (batch_size, num_heads, seq_len_k, depth)\n",
    "  # transpose : 마지막 2개 차원에 바뀜 \n",
    "  # K^T : (batch_size, num_heads, depth, seq_len_k)\n",
    "  # QK^T → shape: (batch_size, num_heads, seq_len_q, seq_len_k)\n",
    "\n",
    "  # 가중치를 정규화\n",
    "  # Q,K이 차원이 depth이고, depth가 커질수록 내적값도 커지므로, depth를 사용해서 scale을 줄여준다. \n",
    "  depth = tf.cast(tf.shape(key)[-1], tf.float32)       # key 마지막 차원의 크기를 float32로 변환 (부동소수점자료형)\n",
    "  logits = matmul_qk / tf.math.sqrt(depth)             # 차원수로 scaling하는 작업\n",
    "\n",
    "  # 패딩에 마스크 추가\n",
    "  # 마스크된 곳에는 아주 큰 마이너스 값으로 변경하여, 사용되지 않게.\n",
    "  if mask is not None:\n",
    "    logits += (mask * -1e9)\n",
    "\n",
    "  # softmax적용\n",
    "  attention_weights = tf.nn.softmax(logits, axis=-1)\n",
    "    \n",
    "  \n",
    "\n",
    "  # 최종 어텐션은 가중치와 V의 닷 프로덕트\n",
    "  output = tf.matmul(attention_weights, value)\n",
    "  # (seq_len_q, seq_len_k) @ (seq_len_k, depth) → (seq_len_q, depth)\n",
    "  # attention_logits  :  (batch_size, num_heads, seq_len_q, seq_len_k)\n",
    "  # V                 :  (batch_size, num_heads, seq_len_k, depth)\n",
    "  # output            :  (batch_size, num_heads, seq_len_q, depth)\n",
    "  return output\n",
    "\n"
   ]
  },
  {
   "cell_type": "code",
   "execution_count": 18,
   "id": "e89c1490",
   "metadata": {},
   "outputs": [],
   "source": [
    "class MultiHeadAttention(tf.keras.layers.Layer):\n",
    "\n",
    "  def __init__(self, d_model, num_heads, name=\"multi_head_attention\"):\n",
    "    super(MultiHeadAttention, self).__init__(name=name)\n",
    "    self.num_heads = num_heads\n",
    "    self.d_model = d_model\n",
    "\n",
    "    assert d_model % self.num_heads == 0\n",
    "\n",
    "    self.depth = d_model // self.num_heads\n",
    "\n",
    "    self.query_dense = tf.keras.layers.Dense(units=d_model)\n",
    "    self.key_dense = tf.keras.layers.Dense(units=d_model)\n",
    "    self.value_dense = tf.keras.layers.Dense(units=d_model)\n",
    "\n",
    "    self.dense = tf.keras.layers.Dense(units=d_model)\n",
    "\n",
    "  def split_heads(self, inputs, batch_size):\n",
    "    # d_model -> num_heads * depth \n",
    "    inputs = tf.reshape(\n",
    "        inputs, shape=(batch_size, -1, self.num_heads, self.depth)) # -1: 자동으로 그 크기를 맞춰라 (seq_len)\n",
    "    return tf.transpose(inputs, perm=[0, 2, 1, 3])                  # (batch_size, num_heads, seq_len, depth)\n",
    "\n",
    "  def call(self, inputs):\n",
    "    query, key, value, mask = inputs['query'], inputs['key'], inputs[\n",
    "        'value'], inputs['mask']\n",
    "    \n",
    "    # inputs.shape = [batch_size, seq_len, embedding_dim]\n",
    "    batch_size = tf.shape(query)[0]\n",
    "\n",
    "    # Q, K, V에 각각 Dense를 적용합니다\n",
    "    # (batch_size, seq_len, embedding_dim)\n",
    "    query = self.query_dense(query)\n",
    "    key = self.key_dense(key)\n",
    "    value = self.value_dense(value)\n",
    "\n",
    "    # 병렬 연산을 위한 머리를 여러 개 만듭니다\n",
    "    # (batch_size, num_heads, seq_len, projection_dim(depth))\n",
    "    query = self.split_heads(query, batch_size)\n",
    "    key = self.split_heads(key, batch_size)\n",
    "    value = self.split_heads(value, batch_size)\n",
    "\n",
    "    # 스케일드 닷 프로덕트 어텐션 함수\n",
    "    scaled_attention = scaled_dot_product_attention(query, key, value, mask)\n",
    "    # shape : (batch_size, num_heads, seq_len_q, projection_dim)\n",
    "    scaled_attention = tf.transpose(scaled_attention, perm=[0, 2, 1, 3])\n",
    "    # concat을 하려고 shape를 바꿈 : (batch_size, seq_len_q, num_heads, projection_dim(depth))\n",
    "\n",
    "    # 어텐션 연산 후에 각 결과를 다시 연결(concatenate)합니다 (num_heads * depth -> d_model)\n",
    "    # (batch_size, seq_len, embedding_dim)\n",
    "    concat_attention = tf.reshape(scaled_attention,\n",
    "                                  (batch_size, -1, self.d_model))\n",
    "\n",
    "    # 최종 결과에도 Dense를 한 번 더 적용합니다\n",
    "    outputs = self.dense(concat_attention)\n",
    "\n",
    "    return outputs\n"
   ]
  },
  {
   "cell_type": "markdown",
   "id": "4682f60a",
   "metadata": {},
   "source": [
    "**패딩 마스크**"
   ]
  },
  {
   "cell_type": "code",
   "execution_count": 19,
   "id": "51513b31",
   "metadata": {},
   "outputs": [],
   "source": [
    "#모델이 의미 없는 패딩 토큰에 주의를 빼앗기지 않도록 하기 위해 **마스킹(masking)**을 한다.\n",
    "def create_padding_mask(x):\n",
    "  mask = tf.cast(tf.math.equal(x, 0), tf.float32)   # [7, 6, 0, 0, 0] → [False, False, True, True, True]\n",
    "                                                    # Boolen 값을 float32로 변경 → [0.0, 0.0, 1.0, 1.0, 1.0]\n",
    "  # (batch_size, 1, 1, sequence length_k)\n",
    "  return mask[:, tf.newaxis, tf.newaxis, :]         # 차원을 확장해서, 어덴션 스코어와 잘 계산되게 맞추어줌"
   ]
  },
  {
   "cell_type": "markdown",
   "id": "3b6a875b",
   "metadata": {},
   "source": [
    "**룩 어헤드 마스킹(Look-ahead masking, 다음 단어 가리기)**"
   ]
  },
  {
   "cell_type": "code",
   "execution_count": 20,
   "id": "382ca56b",
   "metadata": {},
   "outputs": [],
   "source": [
    "def create_look_ahead_mask(x):\n",
    "  # (batch_size, seq_len, dim)\n",
    "  seq_len = tf.shape(x)[1]\n",
    "  \n",
    "  # tf.ones((seq_len, seq_len)) : (seq_len, seq_len)인 모든 원소가 1인 텐서\n",
    "    #  [[1, 1, 1],\n",
    "    #   [1, 1, 1],\n",
    "    #   [1, 1, 1]]\n",
    "  # tf.linalg.band_part ( input, num_lower, num_upper) : 행렬의 밴드부분만 남기고 나머지는 0으로 \n",
    "  # 하삼각 행렬(lower triangular matrix)을 생성\n",
    "    #  [[1, 0, 0],\n",
    "    #   [1, 1, 0],\n",
    "    #   [1, 1, 1]]\n",
    "  # mask = 1 - 하삼각 행렬  (자신보다 뒤에 있는 토큰에 1을 설정하는 마스크 )\n",
    "    #  [[0, 1, 1],\n",
    "    #   [0, 0, 1],\n",
    "    #   [0, 0, 0]]\n",
    "  look_ahead_mask = 1 - tf.linalg.band_part(tf.ones((seq_len, seq_len)), -1, 0)\n",
    " \n",
    "    \n",
    "  padding_mask = create_padding_mask(x)\n",
    "  # (batch_size, 1, 1, sequence length_k)\n",
    "\n",
    "  return tf.maximum(look_ahead_mask, padding_mask) # 내자신 이후도 보지 말고, 패딩도 보지 말라\n",
    "  # tf.maximum (a, b) : a, b는 같은 shape이거나, 브로드캐스트가 가능한 shape"
   ]
  },
  {
   "cell_type": "markdown",
   "id": "754baae4",
   "metadata": {},
   "source": [
    "## 디코더"
   ]
  },
  {
   "cell_type": "markdown",
   "id": "8fbfd043",
   "metadata": {},
   "source": [
    "**디코더층**\n",
    "\n",
    "  - Masked Multi-head Attention 층\n",
    "  - Layer Norm\n",
    "  - Feed Forward \n",
    "  - Layer Norm "
   ]
  },
  {
   "cell_type": "code",
   "execution_count": 21,
   "id": "1645938c",
   "metadata": {},
   "outputs": [],
   "source": [
    "# 디코더 하나의 레이어를 함수로 구현.\n",
    "# 이 하나의 레이어 안에는 세 개의 서브 레이어가 존재합니다.\n",
    "  # units : FFN의 내부 유닛 수\n",
    "  # d_model : 임베딩 차원\n",
    "  # num_heads : 멀티헤드 어센션의 헤드 개수\n",
    "def decoder_layer(units, d_model, num_heads, dropout, name=\"decoder_layer\"):\n",
    "  inputs = tf.keras.Input(shape=(None, d_model), name=\"inputs\")    \n",
    "  look_ahead_mask = tf.keras.Input(\n",
    "      shape=(1, None, None), name=\"look_ahead_mask\")\n",
    "  # look_ahead_mask.shape = (batch_size, 1, seq_len_q, seq_len_k)\n",
    "  # batch_size는 Keras Input에서 None으로 자동 처리\n",
    "  # 1 → num_heads 차원에 broadcasting 가능\n",
    "  # 모든 헤드에 동일한 마스크를 적용하면서도 시퀀스 길이에 따라 다르게 작동\n",
    "  # shape=(1, None, None)은 멀티헤드 어텐션에 자연스럽게 마스크를 덧붙일 수 있게 하기 위한 브로드캐스트 설계\n",
    "\n",
    "\n",
    "  # 1. 마스크드 멀티 헤드 어텐션 수행 (셀프 어텐션)\n",
    "  attention = MultiHeadAttention(\n",
    "      d_model, num_heads, name=\"attention\")(inputs={\n",
    "          'query': inputs,\n",
    "          'key': inputs,\n",
    "          'value': inputs,\n",
    "          'mask': look_ahead_mask\n",
    "      })\n",
    "\n",
    "  # 2. LayerNormalization\n",
    "  normal = tf.keras.layers.LayerNormalization(epsilon=1e-6)(attention + inputs)\n",
    "\n",
    "  # 3 : 2개의 완전연결층\n",
    "  outputs = tf.keras.layers.Dense(units=units, activation='relu')(normal)\n",
    "  outputs = tf.keras.layers.Dense(units=d_model)(outputs)\n",
    "\n",
    "  # 4. 완전연결층의 결과는 Dropout과 LayerNormalization 수행\n",
    "  outputs = tf.keras.layers.Dropout(rate=dropout)(outputs)\n",
    "  outputs = tf.keras.layers.LayerNormalization(epsilon=1e-6)(outputs + normal)\n",
    "\n",
    "\n",
    "  return tf.keras.Model(\n",
    "      inputs=[inputs, look_ahead_mask],\n",
    "      outputs=outputs,\n",
    "      name=name)\n"
   ]
  },
  {
   "cell_type": "markdown",
   "id": "b6bab877",
   "metadata": {},
   "source": [
    "**디코더**"
   ]
  },
  {
   "cell_type": "code",
   "execution_count": 30,
   "id": "a9641342",
   "metadata": {},
   "outputs": [],
   "source": [
    "def decoder(vocab_size,\n",
    "            num_layers,\n",
    "            units,\n",
    "            d_model,\n",
    "            num_heads,\n",
    "            dropout,\n",
    "            name='decoder'):\n",
    "  inputs = tf.keras.Input(shape=(None,), name='inputs')\n",
    "  \n",
    "  look_ahead_mask = tf.keras.Input(\n",
    "      shape=(1, None, None), name='look_ahead_mask')\n",
    "\n",
    "  # 임베딩 레이어\n",
    "  embeddings = tf.keras.layers.Embedding(vocab_size, d_model)(inputs)\n",
    "  embeddings *= tf.math.sqrt(tf.cast(d_model, tf.float32))\n",
    "  # 스케일을 키운다 -> 벡터의 값을 약간 더 강하게 만들기 위한 정규화 효과 \n",
    "  # 1) 초기 어덴션 스코어가 너무 작아지지 않도록 : 임베딩 값이 작으면 → QKᵀ의 값도 작아짐 → Softmax가 평평해지고, 학습이 느려짐\n",
    "  # 2) 어텐션 연산에서 Q, K, V의 스케일과 맞춰주기 위함 : 어텐션에서는 QKᵀ / √d_k로 나누니까, 임베딩은 * √d_model로 곱해 균형을 맞춤\n",
    "    \n",
    "  # 포지셔널 임베딩\n",
    "  pos_embeddings = PositionalEmbedding(MAX_LENGTH, d_model)(inputs)\n",
    "\n",
    "  embeddings += pos_embeddings\n",
    "\n",
    "  # Dropout이라는 훈련을 돕는 테크닉을 수행\n",
    "  outputs = tf.keras.layers.Dropout(rate=dropout)(embeddings)\n",
    "\n",
    "  for i in range(num_layers):\n",
    "    outputs = decoder_layer(\n",
    "        units=units,\n",
    "        d_model=d_model,\n",
    "        num_heads=num_heads,\n",
    "        dropout=dropout,\n",
    "        name='decoder_layer_{}'.format(i),\n",
    "    )(inputs=[outputs, look_ahead_mask])\n",
    "\n",
    "  #outputs = tf.keras.layers.Dense(vocab_size, activation='softmax', name='outputs')(outputs)\n",
    "\n",
    "  return tf.keras.Model(\n",
    "      inputs=[inputs, look_ahead_mask],\n",
    "      outputs=outputs,\n",
    "      name=name)\n"
   ]
  },
  {
   "cell_type": "markdown",
   "id": "cdf1bf96",
   "metadata": {},
   "source": [
    "**Custom Learning rate Scheduling**"
   ]
  },
  {
   "cell_type": "code",
   "execution_count": 31,
   "id": "fb10b0b4",
   "metadata": {},
   "outputs": [],
   "source": [
    "# 초기엔 학습률을 점점 올리고, 그 후엔 학습률을 점점 낮추는 방식\n",
    "class CustomSchedule(tf.keras.optimizers.schedules.LearningRateSchedule):\n",
    "\n",
    "  def __init__(self, d_model, warmup_steps=100):\n",
    "    super(CustomSchedule, self).__init__()\n",
    "\n",
    "    self.d_model = d_model\n",
    "    self.d_model = tf.cast(self.d_model, tf.float32)\n",
    "\n",
    "    self.warmup_steps = warmup_steps                    # warmup_steps: 학습률을 올리는 단계 수\n",
    "\n",
    "  def __call__(self, step):\n",
    "    arg1 = tf.math.rsqrt(step)\n",
    "    arg2 = step * (self.warmup_steps**-1.5)\n",
    "\n",
    "    return tf.math.rsqrt(self.d_model) * tf.math.minimum(arg1, arg2)\n"
   ]
  },
  {
   "cell_type": "code",
   "execution_count": 32,
   "id": "1a3ed912",
   "metadata": {},
   "outputs": [
    {
     "data": {
      "text/plain": [
       "Text(0.5, 0, 'Train Step')"
      ]
     },
     "execution_count": 32,
     "metadata": {},
     "output_type": "execute_result"
    },
    {
     "data": {
      "image/png": "[encoded data removed]",
      "text/plain": [
       "<Figure size 432x288 with 1 Axes>"
      ]
     },
     "metadata": {
      "needs_background": "light"
     },
     "output_type": "display_data"
    }
   ],
   "source": [
    "sample_learning_rate = CustomSchedule(d_model=128)\n",
    "\n",
    "plt.plot(sample_learning_rate(tf.range(200000, dtype=tf.float32)))\n",
    "plt.ylabel(\"Learning Rate\")\n",
    "plt.xlabel(\"Train Step\")"
   ]
  },
  {
   "cell_type": "markdown",
   "id": "1a53c82b",
   "metadata": {},
   "source": [
    "## 모델 정의 및 학습하기"
   ]
  },
  {
   "cell_type": "markdown",
   "id": "689e202f",
   "metadata": {},
   "source": [
    "- decoder의 inputs과 outputs로 모델 정의"
   ]
  },
  {
   "cell_type": "code",
   "execution_count": 33,
   "id": "362f1ab8",
   "metadata": {},
   "outputs": [],
   "source": [
    "def gpt(vocab_size,\n",
    "                num_layers,\n",
    "                units,\n",
    "                d_model,\n",
    "                num_heads,\n",
    "                dropout,\n",
    "                name=\"gpt\"):\n",
    "  inputs = tf.keras.Input(shape=(None,), name=\"inputs\")\n",
    "  #dec_inputs = tf.keras.Input(shape=(None,), name=\"dec_inputs\")\n",
    "\n",
    "  # 디코더에서 미래의 토큰을 마스크 하기 위해서 사용합니다.\n",
    "  # 내부적으로 패딩 마스크도 포함되어져 있습니다.\n",
    "  look_ahead_mask = tf.keras.layers.Lambda(\n",
    "      create_look_ahead_mask,\n",
    "      output_shape=(1, None, None),\n",
    "      name='look_ahead_mask')(inputs)\n",
    "\n",
    "  # 디코더\n",
    "  dec_outputs = decoder(\n",
    "      vocab_size=vocab_size,\n",
    "      num_layers=num_layers,\n",
    "      units=units,\n",
    "      d_model=d_model,\n",
    "      num_heads=num_heads,\n",
    "      dropout=dropout,\n",
    "  )(inputs=[inputs, look_ahead_mask])\n",
    "\n",
    "  # 완전연결층\n",
    "  outputs = tf.keras.layers.Dense(units=vocab_size, name=\"outputs\")(dec_outputs)\n",
    "\n",
    "  return tf.keras.Model(inputs=inputs, outputs=outputs, name=name)\n"
   ]
  },
  {
   "cell_type": "markdown",
   "id": "784c6826",
   "metadata": {},
   "source": [
    "**손실함수**"
   ]
  },
  {
   "cell_type": "code",
   "execution_count": 34,
   "id": "cea983ca",
   "metadata": {},
   "outputs": [],
   "source": [
    "#레이블인 시퀀스에 패딩이 되어 있으므로, loss를 계산할 때 패딩 마스크를 적용해야한다\n",
    "def loss_function(y_true, y_pred):\n",
    "  #y_true = tf.reshape(y_true, shape=(-1, MAX_LENGTH-1)) \n",
    "  # y_true : (batch_size, seq_len)\n",
    "  # -1 : 남은 차원은 알아서 계산\n",
    "  # seq : MAX_LENGTH - 1인 이유는 → 디코더의 정답 시퀀스는 보통 <start> 토큰 제거한 상태\n",
    "\n",
    "   \n",
    "  loss = tf.keras.losses.SparseCategoricalCrossentropy(\n",
    "        from_logits=True, reduction='none')(y_true, y_pred)\n",
    "    # from_logits=True: y_pred가 softmax 되기 전 값 (logits : softmax를 거치기 직전값)이기 때문\n",
    "    # → 손실 함수 내부에서 softmax를 자동으로 처리\n",
    "    # reduction='none': 손실을 일괄 평균하지 않고, 토큰마다 개별 손실 계산\n",
    "    # → 나중에 마스크를 씌워서 패딩 위치 손실은 제거할 수 있게 함\n",
    "\n",
    "  mask = tf.cast(tf.not_equal(y_true, 0), tf.float32)\n",
    "  loss = tf.multiply(loss, mask)\n",
    "    # y_true == 0인 위치는 패딩이므로 손실에서 제외. 그래서 0인 위치는 0, 나머지는 1인 마스크 생성\n",
    "\n",
    "  return tf.reduce_mean(loss)\n"
   ]
  },
  {
   "cell_type": "code",
   "execution_count": 35,
   "id": "1717b007",
   "metadata": {},
   "outputs": [],
   "source": [
    "from tensorflow.keras.callbacks import EarlyStopping\n",
    "\n",
    "early_stop = EarlyStopping(\n",
    "    monitor='accuracy',     # 모니터링 대상\n",
    "    patience=3,             # 개선 없으면 몇 epoch 후에 멈출지\n",
    "    restore_best_weights=True,  # 가장 성능 좋았던 가중치를 복원할지 여부\n",
    "    verbose=1\n",
    ")"
   ]
  },
  {
   "cell_type": "markdown",
   "id": "150f52a1",
   "metadata": {},
   "source": [
    "**1. 모델 컴파일  및 훈련(Layer=2, D_MODEL=256)**"
   ]
  },
  {
   "cell_type": "code",
   "execution_count": 36,
   "id": "98ae0cd7",
   "metadata": {},
   "outputs": [],
   "source": [
    "EPOCHS = 10\n"
   ]
  },
  {
   "cell_type": "code",
   "execution_count": 37,
   "id": "3db682a2",
   "metadata": {
    "scrolled": false
   },
   "outputs": [
    {
     "name": "stdout",
     "output_type": "stream",
     "text": [
      "Model: \"gpt\"\n",
      "__________________________________________________________________________________________________\n",
      "Layer (type)                    Output Shape         Param #     Connected to                     \n",
      "==================================================================================================\n",
      "inputs (InputLayer)             [(None, None)]       0                                            \n",
      "__________________________________________________________________________________________________\n",
      "look_ahead_mask (Lambda)        (None, 1, None, None 0           inputs[0][0]                     \n",
      "__________________________________________________________________________________________________\n",
      "decoder (Functional)            (None, None, 256)    3153664     inputs[0][0]                     \n",
      "                                                                 look_ahead_mask[0][0]            \n",
      "__________________________________________________________________________________________________\n",
      "outputs (Dense)                 (None, None, 8171)   2099947     decoder[0][0]                    \n",
      "==================================================================================================\n",
      "Total params: 5,253,611\n",
      "Trainable params: 5,253,611\n",
      "Non-trainable params: 0\n",
      "__________________________________________________________________________________________________\n"
     ]
    }
   ],
   "source": [
    "tf.keras.backend.clear_session() # TensorFlow에서 메모리 관리와 관련된 문제를 방지하기 위해 사용하는 함수\n",
    "                                 # Keras의 전역 상태(예: 모델, 레이어, 그래프 등)를 초기화해서 메모리를 정리\n",
    "\n",
    "# 하이퍼파라미터\n",
    "NUM_LAYERS = 2 #  디코더의 층의 개수  ( 논문 6->2)\n",
    "D_MODEL = 256 # 디코더 내부의 입, 출력의 고정 차원  (논문 512 -> 256)\n",
    "NUM_HEADS = 8 # 멀티 헤드 어텐션에서의 헤드 수 \n",
    "UNITS = 512 # 피드 포워드 신경망의 은닉층의 크기\n",
    "DROPOUT = 0.1 # 드롭아웃의 비율\n",
    "\n",
    "model_1 = gpt(\n",
    "    vocab_size=VOCAB_SIZE,\n",
    "    num_layers=NUM_LAYERS,\n",
    "    units=UNITS,\n",
    "    d_model=D_MODEL,\n",
    "    num_heads=NUM_HEADS,\n",
    "    dropout=DROPOUT)\n",
    "\n",
    "model_1.summary()"
   ]
  },
  {
   "cell_type": "code",
   "execution_count": 38,
   "id": "f0ab60a2",
   "metadata": {},
   "outputs": [
    {
     "name": "stdout",
     "output_type": "stream",
     "text": [
      "type of x: <class 'dict'>\n"
     ]
    }
   ],
   "source": [
    "for x, y in dataset.take(1):\n",
    "    print(\"type of x:\", type(x))\n",
    "   # print(\"x:\", x)\n",
    "   # print(\"y:\", y)"
   ]
  },
  {
   "cell_type": "code",
   "execution_count": 39,
   "id": "6b0f13ac",
   "metadata": {},
   "outputs": [
    {
     "name": "stdout",
     "output_type": "stream",
     "text": [
      "(64, 30)\n",
      "(64, 30)\n"
     ]
    }
   ],
   "source": [
    "for x, y in dataset.take(1):\n",
    "    print(x['inputs'].shape)           # (batch_size, seq_len)\n",
    "    print(y['outputs'].shape)  # (1, seq_len, seq_len)\n",
    "   # print(y.shape)  "
   ]
  },
  {
   "cell_type": "code",
   "execution_count": 40,
   "id": "c5b12d7a",
   "metadata": {},
   "outputs": [],
   "source": [
    "learning_rate = CustomSchedule(D_MODEL)\n",
    "\n",
    "optimizer = tf.keras.optimizers.Adam(\n",
    "    learning_rate, beta_1=0.9, beta_2=0.98, epsilon=1e-9)\n",
    "\n",
    "def accuracy(y_true, y_pred):\n",
    "  #y_true = tf.reshape(y_true, shape=(-1, MAX_LENGTH - 1))\n",
    "  return tf.keras.metrics.sparse_categorical_accuracy(y_true, y_pred)\n",
    "\n",
    "model_1.compile(optimizer=optimizer, loss=loss_function, metrics=[accuracy])\n"
   ]
  },
  {
   "cell_type": "code",
   "execution_count": 41,
   "id": "0d84d9e4",
   "metadata": {
    "scrolled": false
   },
   "outputs": [
    {
     "name": "stdout",
     "output_type": "stream",
     "text": [
      "Epoch 1/10\n",
      "185/185 [==============================] - 25s 30ms/step - loss: 1.5385 - accuracy: 0.0668\n",
      "Epoch 2/10\n",
      "185/185 [==============================] - 6s 30ms/step - loss: 1.4031 - accuracy: 0.0706\n",
      "Epoch 3/10\n",
      "185/185 [==============================] - 6s 30ms/step - loss: 1.3793 - accuracy: 0.0713\n",
      "Epoch 4/10\n",
      "185/185 [==============================] - 6s 30ms/step - loss: 1.3660 - accuracy: 0.0716\n",
      "Epoch 5/10\n",
      "185/185 [==============================] - 6s 30ms/step - loss: 1.3557 - accuracy: 0.0719\n",
      "Epoch 6/10\n",
      "185/185 [==============================] - 6s 30ms/step - loss: 1.3487 - accuracy: 0.0723\n",
      "Epoch 7/10\n",
      "185/185 [==============================] - 6s 30ms/step - loss: 1.3401 - accuracy: 0.0724\n",
      "Epoch 8/10\n",
      "185/185 [==============================] - 6s 30ms/step - loss: 1.3329 - accuracy: 0.0728\n",
      "Epoch 9/10\n",
      "185/185 [==============================] - 6s 31ms/step - loss: 1.3252 - accuracy: 0.0734\n",
      "Epoch 10/10\n",
      "185/185 [==============================] - 6s 31ms/step - loss: 1.3157 - accuracy: 0.0737\n"
     ]
    }
   ],
   "source": [
    "#history_1 = model_1.fit(dataset, epochs=EPOCHS, verbose=1, callbacks = early_stop)\n",
    "history_1 = model_1.fit(dataset, epochs=EPOCHS, verbose=1)"
   ]
  },
  {
   "cell_type": "markdown",
   "id": "75660576",
   "metadata": {},
   "source": [
    "## 테스트 (inference)"
   ]
  },
  {
   "cell_type": "markdown",
   "id": "265ac279",
   "metadata": {},
   "source": [
    "1) 새로운 입력 문장에 대해서는 훈련 때와 동일한 전처리를 거친다.\n",
    "2) 입력 문장을 토크나이징하고, START_TOKEN과 END_TOKEN을 추가한다.\n",
    "3) 패딩 마스킹과 룩 어헤드 마스킹을 계산한다.\n",
    "4) 디코더는 입력 시퀀스로부터 다음 단어를 예측한다.\n",
    "5) 디코더는 예측된 다음 단어를 기존의 입력 시퀀스에 추가하여 새로운 입력으로 사용한다.\n",
    "6) END_TOKEN이 예측되거나 문장의 최대 길이에 도달하면 디코더는 동작을 멈춘다"
   ]
  },
  {
   "cell_type": "code",
   "execution_count": 46,
   "id": "14250060",
   "metadata": {},
   "outputs": [],
   "source": [
    "def decoder_inference(sentence):\n",
    "  sentence = preprocess_sentence(sentence)\n",
    "\n",
    "  # 입력된 문장을 정수 인코딩 후, 시작 토큰과 종료 토큰을 앞뒤로 추가.\n",
    "  # ex) Where have you been? → [[8331   86   30    5 1059    7 8332]]\n",
    "  sentence = tf.expand_dims(\n",
    "      START_TOKEN + tokenizer.encode(sentence) + END_TOKEN, axis=0)\n",
    "     # expand_dims : shape을 (1, sequence_length)로 만들어 배치처럼 보이게\n",
    "\n",
    "  # 디코더의 현재까지의 예측한 출력 시퀀스가 지속적으로 저장되는 변수.\n",
    "  # 처음에는 예측한 내용이 없음으로 시작 토큰만 별도 저장. ex) 8331\n",
    "  output_sequence = tf.expand_dims(START_TOKEN, 0)\n",
    "\n",
    "  # 디코더의 인퍼런스 단계\n",
    "  for i in range(MAX_LENGTH):\n",
    "    # 디코더는 최대 MAX_LENGTH의 길이만큼 다음 단어 예측을 반복합니다.\n",
    "    \n",
    "    predictions = model_1(inputs=[sentence], training=False)\n",
    "    \n",
    "    print(\"Predictions:\", predictions)\n",
    "  \n",
    "    predictions = predictions[:, -1:, :]\n",
    "    \n",
    "    # predictions : (batch_size, sequence_length, vocab_size) -> shape : (1, 1, 8333)\n",
    "    # : : 배치 전체 (1)\n",
    "    # -1:은 가장 마지막 토큰의 예측만 가져오기\n",
    "    # : : 전체 vocab에 대한 확률 (8333)\n",
    "    \n",
    "\n",
    "    # 현재 예측한 단어의 정수\n",
    "    predicted_id  = tf.cast(tf.argmax(predictions, axis=-1), tf.int32)    # -> shape : (1,1)\n",
    "    #  tf.argmax는 int64 자료형 (자료형의 기본은 int64)\n",
    "    # output_sequece는 int32 자료형 (대부분 TesorFlow 모델은 int32로 처리)\n",
    "\n",
    "    print(\"predicted_id :\", predicted_id )\n",
    "    \n",
    "    # 만약 현재 예측한 단어가 종료 토큰이라면 for문을 종료\n",
    "    if tf.equal(predicted_id, END_TOKEN[0]):\n",
    "      break\n",
    "\n",
    "    # 예측한 단어들은 지속적으로 output_sequence에 추가됩니다.\n",
    "    # 이 output_sequence는 다시 디코더의 입력이 됩니다.\n",
    "    output_sequence = tf.concat([output_sequence, predicted_id], axis=-1)\n",
    "    \n",
    "    print(\"Output sequence:\", output_sequence)\n",
    "\n",
    "  return tf.squeeze(output_sequence, axis=0)\n",
    "\n",
    "\n",
    "def sentence_generation(sentence):\n",
    "  # 입력 문장에 대해서 디코더를 동작 시켜 예측된 정수 시퀀스를 리턴받습니다.\n",
    "  prediction = decoder_inference(sentence)\n",
    "\n",
    "  # 정수 시퀀스를 다시 텍스트 시퀀스로 변환합니다.\n",
    "  predicted_sentence = tokenizer.decode(\n",
    "      [i for i in prediction if i < tokenizer.vocab_size])\n",
    "\n",
    "  print(prediction.shape)\n",
    "  print(prediction)\n",
    "  print('입력 : {}'.format(sentence))\n",
    "  print('출력 : {}'.format(predicted_sentence))\n",
    "\n",
    "  return predicted_sentence"
   ]
  },
  {
   "cell_type": "code",
   "execution_count": 47,
   "id": "25f75d95",
   "metadata": {},
   "outputs": [
    {
     "name": "stdout",
     "output_type": "stream",
     "text": [
      "Predictions: tf.Tensor(\n",
      "[[[-10.761724    -3.157713    -0.47901288 ...  11.922487    -3.1919882\n",
      "   -10.813532  ]\n",
      "  [-13.087959    -2.43372     -1.3406141  ...  -1.2732797   -3.456621\n",
      "   -13.092722  ]\n",
      "  [-11.414962     2.7307777   -1.5743191  ...  -3.55031      0.69054914\n",
      "   -11.400239  ]\n",
      "  ...\n",
      "  [-14.145527     5.690526    -0.06612163 ...  -2.1844513    4.43963\n",
      "   -14.134204  ]\n",
      "  [-14.291709     6.0636454    0.35865417 ...  -2.2628279    5.2355485\n",
      "   -14.282736  ]\n",
      "  [-14.737277     6.1709967    0.9804825  ...  -2.791292     6.1949763\n",
      "   -14.713546  ]]], shape=(1, 7, 8171), dtype=float32)\n",
      "predicted_id : tf.Tensor([[8169]], shape=(1, 1), dtype=int32)\n",
      "(1,)\n",
      "tf.Tensor([8168], shape=(1,), dtype=int32)\n",
      "입력 : 내일 뭐 하고 싶어?\n",
      "출력 : \n"
     ]
    },
    {
     "data": {
      "text/plain": [
       "''"
      ]
     },
     "execution_count": 47,
     "metadata": {},
     "output_type": "execute_result"
    }
   ],
   "source": [
    "sentence_generation(\"내일 뭐 하고 싶어?\")"
   ]
  },
  {
   "cell_type": "markdown",
   "id": "5aac0932",
   "metadata": {},
   "source": [
    "## 회고 \n",
    "\n"
   ]
  },
  {
   "cell_type": "markdown",
   "id": "d88aac72",
   "metadata": {},
   "source": [
    "** Model.summary 결과\n",
    "```\n",
    "\n",
    "Model: \"gpt\"\n",
    "__________________________________________________________________________________________________\n",
    "Layer (type)                    Output Shape         Param #     Connected to                     \n",
    "==================================================================================================\n",
    "inputs (InputLayer)             [(None, None)]       0                                            \n",
    "__________________________________________________________________________________________________\n",
    "look_ahead_mask (Lambda)        (None, 1, None, None 0           inputs[0][0]                     \n",
    "__________________________________________________________________________________________________\n",
    "decoder (Functional)            (None, None, 8171)   3161835     inputs[0][0]                     \n",
    "                                                                 look_ahead_mask[0][0]            \n",
    "__________________________________________________________________________________________________\n",
    "outputs (Dense)                 (None, None, 8171)   66773412    decoder[0][0]                    \n",
    "==================================================================================================\n",
    "Total params: 69,935,247\n",
    "Trainable params: 69,935,247\n",
    "Non-trainable params: 0\n",
    "__________________________________________________________________________________________________\n",
    "```"
   ]
  },
  {
   "cell_type": "markdown",
   "id": "0ce84c98",
   "metadata": {},
   "source": [
    "** model.fit 결과\n",
    "```\n",
    "Epoch 1/10\n",
    "185/185 [==============================] - 54s 277ms/step - loss: 2.1877 - accuracy: 0.0651\n",
    "Epoch 2/10\n",
    "185/185 [==============================] - 50s 269ms/step - loss: 1.8465 - accuracy: 0.0663\n",
    "Epoch 3/10\n",
    "185/185 [==============================] - 50s 271ms/step - loss: 1.6616 - accuracy: 0.0663\n",
    "Epoch 4/10\n",
    "185/185 [==============================] - 50s 272ms/step - loss: 1.5447 - accuracy: 0.0663\n",
    "Epoch 5/10\n",
    "185/185 [==============================] - 50s 273ms/step - loss: 1.4752 - accuracy: 0.0665\n",
    "Epoch 6/10\n",
    "185/185 [==============================] - 50s 271ms/step - loss: 1.4447 - accuracy: 0.0667\n",
    "Epoch 7/10\n",
    "185/185 [==============================] - 50s 271ms/step - loss: 1.4356 - accuracy: 0.0667\n",
    "Epoch 8/10\n",
    "185/185 [==============================] - 50s 271ms/step - loss: 1.4323 - accuracy: 0.0667\n",
    "Epoch 9/10\n",
    "185/185 [==============================] - 50s 272ms/step - loss: 1.4307 - accuracy: 0.0667\n",
    "Epoch 10/10\n",
    "185/185 [==============================] - 50s 272ms/step - loss: 1.4299 - accuracy: 0.0667\n",
    "```"
   ]
  }
 ],
 "metadata": {
  "kernelspec": {
   "display_name": "Python 3 (ipykernel)",
   "language": "python",
   "name": "python3"
  },
  "language_info": {
   "codemirror_mode": {
    "name": "ipython",
    "version": 3
   },
   "file_extension": ".py",
   "mimetype": "text/x-python",
   "name": "python",
   "nbconvert_exporter": "python",
   "pygments_lexer": "ipython3",
   "version": "3.9.7"
  }
 },
 "nbformat": 4,
 "nbformat_minor": 5
}
